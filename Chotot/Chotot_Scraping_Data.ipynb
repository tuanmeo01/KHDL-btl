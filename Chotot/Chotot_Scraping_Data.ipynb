{
 "cells": [
  {
   "cell_type": "code",
   "execution_count": 1,
   "metadata": {},
   "outputs": [],
   "source": [
    "import requests\n",
    "import datetime\n",
    "import pandas as pd \n",
    "import numpy as np\n",
    "from requests_html import HTML\n",
    "from requests_html import HTMLSession\n",
    "from bs4 import BeautifulSoup"
   ]
  },
  {
   "cell_type": "markdown",
   "metadata": {},
   "source": [
    "### Crawl links from chotot.vn"
   ]
  },
  {
   "cell_type": "code",
   "execution_count": 17,
   "metadata": {},
   "outputs": [],
   "source": [
    "for page in range(1000):\n",
    "    arr=[]\n",
    "    page= str(page+1)\n",
    "    link =\"https://nha.chotot.com/tp-ho-chi-minh/mua-ban-can-ho-chung-cu?page=\"+page\n",
    "    session = HTMLSession()\n",
    "    r = session.get(link)\n",
    "    soup = BeautifulSoup(r.text,'html.parser')\n",
    "    a = soup.find_all(\"a\",class_='adItem___2GCVQ')\n",
    "    for i in range(len(a)):\n",
    "        link =\"https://nha.chotot.com/\"+a[i]['href']\n",
    "        arr.append(link)\n",
    "df = pd.DataFrame(arr,columns=['links'])"
   ]
  },
  {
   "cell_type": "code",
   "execution_count": 18,
   "metadata": {},
   "outputs": [
    {
     "name": "stdout",
     "output_type": "stream",
     "text": [
      "done\n"
     ]
    }
   ],
   "source": [
    "# Xuất file csv\n",
    "df.to_csv('links_chotot.csv',index=True)\n",
    "print(\"done\")"
   ]
  },
  {
   "cell_type": "markdown",
   "metadata": {},
   "source": [
    "## crawl data from each link"
   ]
  },
  {
   "cell_type": "code",
   "execution_count": 4,
   "metadata": {},
   "outputs": [
    {
     "data": {
      "text/html": [
       "<div>\n",
       "<style scoped>\n",
       "    .dataframe tbody tr th:only-of-type {\n",
       "        vertical-align: middle;\n",
       "    }\n",
       "\n",
       "    .dataframe tbody tr th {\n",
       "        vertical-align: top;\n",
       "    }\n",
       "\n",
       "    .dataframe thead th {\n",
       "        text-align: right;\n",
       "    }\n",
       "</style>\n",
       "<table border=\"1\" class=\"dataframe\">\n",
       "  <thead>\n",
       "    <tr style=\"text-align: right;\">\n",
       "      <th></th>\n",
       "      <th>Unnamed: 0</th>\n",
       "      <th>links</th>\n",
       "    </tr>\n",
       "  </thead>\n",
       "  <tbody>\n",
       "    <tr>\n",
       "      <th>0</th>\n",
       "      <td>0</td>\n",
       "      <td>https://nha.chotot.com//tp-ho-chi-minh/quan-7/...</td>\n",
       "    </tr>\n",
       "    <tr>\n",
       "      <th>1</th>\n",
       "      <td>1</td>\n",
       "      <td>https://nha.chotot.com//tp-ho-chi-minh/quan-7/...</td>\n",
       "    </tr>\n",
       "    <tr>\n",
       "      <th>2</th>\n",
       "      <td>2</td>\n",
       "      <td>https://nha.chotot.com//tp-ho-chi-minh/quan-bi...</td>\n",
       "    </tr>\n",
       "    <tr>\n",
       "      <th>3</th>\n",
       "      <td>3</td>\n",
       "      <td>https://nha.chotot.com//tp-ho-chi-minh/quan-ta...</td>\n",
       "    </tr>\n",
       "    <tr>\n",
       "      <th>4</th>\n",
       "      <td>4</td>\n",
       "      <td>https://nha.chotot.com//tp-ho-chi-minh/quan-6/...</td>\n",
       "    </tr>\n",
       "  </tbody>\n",
       "</table>\n",
       "</div>"
      ],
      "text/plain": [
       "   Unnamed: 0                                              links\n",
       "0           0  https://nha.chotot.com//tp-ho-chi-minh/quan-7/...\n",
       "1           1  https://nha.chotot.com//tp-ho-chi-minh/quan-7/...\n",
       "2           2  https://nha.chotot.com//tp-ho-chi-minh/quan-bi...\n",
       "3           3  https://nha.chotot.com//tp-ho-chi-minh/quan-ta...\n",
       "4           4  https://nha.chotot.com//tp-ho-chi-minh/quan-6/..."
      ]
     },
     "execution_count": 4,
     "metadata": {},
     "output_type": "execute_result"
    }
   ],
   "source": [
    "frame = pd.read_csv('links_chotot.csv')\n",
    "frame.head()"
   ]
  },
  {
   "cell_type": "code",
   "execution_count": 5,
   "metadata": {},
   "outputs": [],
   "source": [
    "address=[]\n",
    "estate_condition,price_m2, main_direction,floor,id_house=[],[],[],[],[]\n",
    "balcony_direction,Legal_papers,Character,acreage,bedroom,block=[],[],[],[],[],[]\n",
    "bath_room,types,furniture_condition=[],[],[]\n",
    "person,price=[],[]\n",
    "items =['Tình trạng bất động sản:','Diện tích:','Giá/m2:','Số phòng ngủ:','Tên phân khu/Lô/Block/Tháp:','Tầng số:',\n",
    "       'Số phòng vệ sinh:','Loại hình căn hộ:','Giấy tờ pháp lý:','Mã căn','Tình trạng nội thất:','Hướng cửa chính:',\n",
    "       'Hướng ban công','Đặc điểm căn hộ']"
   ]
  },
  {
   "cell_type": "code",
   "execution_count": 23,
   "metadata": {},
   "outputs": [],
   "source": [
    "def getdata(link):\n",
    "    session = HTMLSession()\n",
    "    url =link\n",
    "    table_class = \".col-md-8\"\n",
    "    #r = requests.get(url)\n",
    "    #if len(r.html.find(\".notfound-message\"))==0:\n",
    "    r = session.get(url)\n",
    "    if len(r.html.find(\".notfound-message\"))==0:\n",
    "        arr=[]\n",
    "        html_text = r.text\n",
    "        r_html = HTML(html = html_text)\n",
    "        r_table = r_html.find(table_class)\n",
    "        if len(r_table) > 0:\n",
    "            test = r_table[0]\n",
    "            inf = test.find('.col-xs-12') \n",
    "            price = test.find('.priceWrapper___3ls0c')\n",
    "            temp = r_html.find('a')\n",
    "            col = temp[6].find('b') \n",
    "            info= inf[1].text+'\\n' \n",
    "            arr.append(info) # dia chi nha\n",
    "            arr.append(inf[3].text) # thong tin can nha\n",
    "            arr.append(price[1].text) # gia nha\n",
    "        else:\n",
    "            return []\n",
    "    \n",
    "    str1 = arr\n",
    "    str1=[arr]\n",
    "    temp = arr[1].split('\\n')\n",
    "    idx=[]\n",
    "    idx.append([arr[0].split('\\n')[0]])\n",
    "    for i in temp:\n",
    "        idx.append(i.split('\\n'))\n",
    "        idx.append([arr[2]])\n",
    "    return idx     "
   ]
  },
  {
   "cell_type": "code",
   "execution_count": 24,
   "metadata": {},
   "outputs": [
    {
     "name": "stdout",
     "output_type": "stream",
     "text": [
      "https://nha.chotot.com//tp-ho-chi-minh/quan-7/mua-ban/79731299.htm#px=SR-stickyad-[PO-1][PL-top]\n",
      "https://nha.chotot.com//tp-ho-chi-minh/quan-7/mua-ban/79885797.htm#px=SR-stickyad-[PO-2][PL-top]\n",
      "https://nha.chotot.com//tp-ho-chi-minh/quan-binh-tan/mua-ban/77939666.htm#px=SR-stickyad-[PO-3][PL-top]\n",
      "https://nha.chotot.com//tp-ho-chi-minh/quan-tan-binh/mua-ban/72754809.htm#px=SR-stickyad-[PO-4][PL-top]\n",
      "https://nha.chotot.com//tp-ho-chi-minh/quan-6/mua-ban/79811884.htm#px=SR-stickyad-[PO-5][PL-top]\n",
      "https://nha.chotot.com//tp-ho-chi-minh/quan-8/mua-ban/68932769.htm\n",
      "https://nha.chotot.com//tp-ho-chi-minh/quan-binh-thanh/mua-ban/62825024.htm\n",
      "https://nha.chotot.com//tp-ho-chi-minh/huyen-binh-chanh/mua-ban/74327513.htm\n",
      "https://nha.chotot.com//tp-ho-chi-minh/quan-binh-tan/mua-ban/68697005.htm\n",
      "https://nha.chotot.com//tp-ho-chi-minh/huyen-hoc-mon/mua-ban/73844086.htm\n",
      "https://nha.chotot.com//tp-ho-chi-minh/quan-binh-tan/mua-ban/77937762.htm\n"
     ]
    },
    {
     "ename": "IndexError",
     "evalue": "list index out of range",
     "output_type": "error",
     "traceback": [
      "\u001b[0;31m---------------------------------------------------------------------------\u001b[0m",
      "\u001b[0;31mIndexError\u001b[0m                                Traceback (most recent call last)",
      "Cell \u001b[0;32mIn [24], line 3\u001b[0m\n\u001b[1;32m      1\u001b[0m \u001b[39mfor\u001b[39;00m link \u001b[39min\u001b[39;00m frame[\u001b[39m'\u001b[39m\u001b[39mlinks\u001b[39m\u001b[39m'\u001b[39m]:\n\u001b[1;32m      2\u001b[0m     \u001b[39mprint\u001b[39m(link)\n\u001b[0;32m----> 3\u001b[0m     data \u001b[39m=\u001b[39m getdata(link)\n\u001b[1;32m      4\u001b[0m     dem \u001b[39m=\u001b[39m\u001b[39m0\u001b[39m\n\u001b[1;32m      5\u001b[0m     \u001b[39mif\u001b[39;00m (\u001b[39mlen\u001b[39m(data)\u001b[39m>\u001b[39m\u001b[39m0\u001b[39m):\n",
      "Cell \u001b[0;32mIn [23], line 21\u001b[0m, in \u001b[0;36mgetdata\u001b[0;34m(link)\u001b[0m\n\u001b[1;32m     19\u001b[0m     info\u001b[39m=\u001b[39m inf[\u001b[39m1\u001b[39m]\u001b[39m.\u001b[39mtext\u001b[39m+\u001b[39m\u001b[39m'\u001b[39m\u001b[39m\\n\u001b[39;00m\u001b[39m'\u001b[39m \n\u001b[1;32m     20\u001b[0m     arr\u001b[39m.\u001b[39mappend(info) \u001b[39m# dia chi nha\u001b[39;00m\n\u001b[0;32m---> 21\u001b[0m     arr\u001b[39m.\u001b[39mappend(inf[\u001b[39m2\u001b[39;49m]\u001b[39m.\u001b[39mtext) \u001b[39m# thong tin can nha\u001b[39;00m\n\u001b[1;32m     22\u001b[0m     arr\u001b[39m.\u001b[39mappend(price[\u001b[39m1\u001b[39m]\u001b[39m.\u001b[39mtext) \u001b[39m# gia nha\u001b[39;00m\n\u001b[1;32m     23\u001b[0m \u001b[39melse\u001b[39;00m:\n",
      "\u001b[0;31mIndexError\u001b[0m: list index out of range"
     ]
    }
   ],
   "source": [
    "for link in frame['links']:\n",
    "    print(link)\n",
    "    data = getdata(link)\n",
    "    dem =0\n",
    "    if (len(data)>0):\n",
    "        address+=data[0]\n",
    "        for item in items:\n",
    "            mang=[]\n",
    "            flag=0\n",
    "            for i in data:\n",
    "                if item in i[0]:\n",
    "                    mang.append(i[0].split(':')[1])\n",
    "                    flag = 1\n",
    "            dem = dem+1\n",
    "            if flag==1:\n",
    "                if (dem ==1): estate_condition+=mang\n",
    "                elif (dem ==2): acreage+=mang\n",
    "                elif (dem ==3): price_m2+=mang\n",
    "                elif (dem ==4): bedroom+=mang\n",
    "                elif (dem ==5): block+=mang\n",
    "                elif (dem ==6): floor+=mang\n",
    "                elif (dem ==7): bath_room+=mang\n",
    "                elif (dem ==8): types+=mang\n",
    "                elif (dem ==9): Legal_papers+=mang\n",
    "                elif (dem ==10): id_house+=mang\n",
    "                elif (dem ==11): furniture_condition+=mang\n",
    "                elif (dem ==12): main_direction+=mang\n",
    "                elif (dem ==13): balcony_direction+=mang\n",
    "                elif (dem ==14): Character+=mang\n",
    "            else:\n",
    "                if (dem ==1): estate_condition.append(np.nan)\n",
    "                elif (dem ==2): acreage.append(np.nan)\n",
    "                elif (dem ==3): price_m2.append(np.nan)\n",
    "                elif (dem ==4): bedroom.append(np.nan)\n",
    "                elif (dem ==5): block.append(np.nan)\n",
    "                elif (dem ==6): floor.append(np.nan)\n",
    "                elif (dem ==7): bath_room.append(np.nan)\n",
    "                elif (dem ==8): types.append(np.nan)\n",
    "                elif (dem ==9): Legal_papers.append(np.nan)\n",
    "                elif (dem ==10): id_house.append(np.nan)\n",
    "                elif (dem ==11): furniture_condition.append(np.nan)\n",
    "                elif (dem ==12): main_direction.append(np.nan)\n",
    "                elif (dem ==13): balcony_direction.append(np.nan)\n",
    "                elif (dem ==14): Character.append(np.nan)  \n",
    "        price+=data[len(data)-1]"
   ]
  },
  {
   "cell_type": "code",
   "execution_count": 15,
   "metadata": {},
   "outputs": [
    {
     "data": {
      "text/html": [
       "<div>\n",
       "<style scoped>\n",
       "    .dataframe tbody tr th:only-of-type {\n",
       "        vertical-align: middle;\n",
       "    }\n",
       "\n",
       "    .dataframe tbody tr th {\n",
       "        vertical-align: top;\n",
       "    }\n",
       "\n",
       "    .dataframe thead th {\n",
       "        text-align: right;\n",
       "    }\n",
       "</style>\n",
       "<table border=\"1\" class=\"dataframe\">\n",
       "  <thead>\n",
       "    <tr style=\"text-align: right;\">\n",
       "      <th></th>\n",
       "      <th>DiaChi</th>\n",
       "      <th>TinhTrangBDS</th>\n",
       "      <th>DienTich</th>\n",
       "      <th>Gia/m2</th>\n",
       "      <th>Phongngu</th>\n",
       "      <th>TenPhanKhu</th>\n",
       "      <th>SoTang</th>\n",
       "      <th>PhongTam</th>\n",
       "      <th>Loai</th>\n",
       "      <th>GiayTo</th>\n",
       "      <th>MaCanHo</th>\n",
       "      <th>TinhTrangNoiThat</th>\n",
       "      <th>HuongCuaChinh</th>\n",
       "      <th>HuongBanCong</th>\n",
       "      <th>DacDiem</th>\n",
       "      <th>Gia</th>\n",
       "    </tr>\n",
       "  </thead>\n",
       "  <tbody>\n",
       "  </tbody>\n",
       "</table>\n",
       "</div>"
      ],
      "text/plain": [
       "Empty DataFrame\n",
       "Columns: [DiaChi, TinhTrangBDS, DienTich, Gia/m2, Phongngu, TenPhanKhu, SoTang, PhongTam, Loai, GiayTo, MaCanHo, TinhTrangNoiThat, HuongCuaChinh, HuongBanCong, DacDiem, Gia]\n",
       "Index: []"
      ]
     },
     "execution_count": 15,
     "metadata": {},
     "output_type": "execute_result"
    }
   ],
   "source": [
    "df = {\n",
    "        'DiaChi' : address,\n",
    "        'TinhTrangBDS' : estate_condition,\n",
    "        'DienTich' : acreage,\n",
    "        'Gia/m2'   : price_m2,\n",
    "        'Phongngu': bedroom,\n",
    "      'TenPhanKhu': block,\n",
    "      'SoTang': floor,\n",
    "      'PhongTam':bath_room,\n",
    "      'Loai': types,\n",
    "      'GiayTo': Legal_papers,\n",
    "      'MaCanHo': id_house,\n",
    "      'TinhTrangNoiThat': furniture_condition,\n",
    "      'HuongCuaChinh': main_direction,\n",
    "      'HuongBanCong': balcony_direction,\n",
    "      'DacDiem':Character,\n",
    "      'Gia': price,\n",
    "}\n",
    "df = pd.DataFrame(df)\n",
    "df.to_csv('raw_data.csv',encoding=\"utf-8-sig\",index=False)\n",
    "df"
   ]
  }
 ],
 "metadata": {
  "kernelspec": {
   "display_name": "Python 3.10.6 64-bit",
   "language": "python",
   "name": "python3"
  },
  "language_info": {
   "codemirror_mode": {
    "name": "ipython",
    "version": 3
   },
   "file_extension": ".py",
   "mimetype": "text/x-python",
   "name": "python",
   "nbconvert_exporter": "python",
   "pygments_lexer": "ipython3",
   "version": "3.10.6"
  },
  "vscode": {
   "interpreter": {
    "hash": "916dbcbb3f70747c44a77c7bcd40155683ae19c65e1c03b4aa3499c5328201f1"
   }
  }
 },
 "nbformat": 4,
 "nbformat_minor": 4
}
