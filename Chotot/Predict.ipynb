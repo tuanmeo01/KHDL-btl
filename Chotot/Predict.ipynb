{
 "cells": [
  {
   "cell_type": "code",
   "execution_count": 1,
   "metadata": {},
   "outputs": [],
   "source": [
    "import warnings\n",
    "warnings.filterwarnings('ignore')\n",
    "import pandas as pd\n",
    "import matplotlib.pyplot as plt\n",
    "import seaborn as sns\n",
    "import statsmodels.api as sm\n",
    "import numpy as np\n",
    "from sklearn.linear_model import LinearRegression\n",
    "sns.set()"
   ]
  },
  {
   "cell_type": "code",
   "execution_count": 2,
   "metadata": {},
   "outputs": [
    {
     "data": {
      "text/html": [
       "<div>\n",
       "<style scoped>\n",
       "    .dataframe tbody tr th:only-of-type {\n",
       "        vertical-align: middle;\n",
       "    }\n",
       "\n",
       "    .dataframe tbody tr th {\n",
       "        vertical-align: top;\n",
       "    }\n",
       "\n",
       "    .dataframe thead th {\n",
       "        text-align: right;\n",
       "    }\n",
       "</style>\n",
       "<table border=\"1\" class=\"dataframe\">\n",
       "  <thead>\n",
       "    <tr style=\"text-align: right;\">\n",
       "      <th></th>\n",
       "      <th>DiaChi</th>\n",
       "      <th>TinhTrangBDS</th>\n",
       "      <th>DienTich</th>\n",
       "      <th>Gia/m2</th>\n",
       "      <th>Phongngu</th>\n",
       "      <th>TenPhanKhu</th>\n",
       "      <th>SoTang</th>\n",
       "      <th>PhongTam</th>\n",
       "      <th>Loai</th>\n",
       "      <th>GiayTo</th>\n",
       "      <th>MaCanHo</th>\n",
       "      <th>TinhTrangNoiThat</th>\n",
       "      <th>HuongCuaChinh</th>\n",
       "      <th>HuongBanCong</th>\n",
       "      <th>DacDiem</th>\n",
       "      <th>Gia</th>\n",
       "    </tr>\n",
       "  </thead>\n",
       "  <tbody>\n",
       "    <tr>\n",
       "      <th>0</th>\n",
       "      <td>Đường Nguyễn Văn Quỳ, Phường Phú Thuận, Quận 7...</td>\n",
       "      <td>Đã bàn giao</td>\n",
       "      <td>62 m²</td>\n",
       "      <td>32,26 triệu/m²</td>\n",
       "      <td>2 phòng</td>\n",
       "      <td>NaN</td>\n",
       "      <td>NaN</td>\n",
       "      <td>2 phòng</td>\n",
       "      <td>Chung cư</td>\n",
       "      <td>Đã có sổ</td>\n",
       "      <td>NaN</td>\n",
       "      <td>NaN</td>\n",
       "      <td>NaN</td>\n",
       "      <td>NaN</td>\n",
       "      <td>NaN</td>\n",
       "      <td>2 tỷ- 62 m2đ</td>\n",
       "    </tr>\n",
       "    <tr>\n",
       "      <th>1</th>\n",
       "      <td>Đường Nguyễn Văn Linh, Phường Tân Thuận Tây, Q...</td>\n",
       "      <td>Đã bàn giao</td>\n",
       "      <td>95 m²</td>\n",
       "      <td>55,79 triệu/m²</td>\n",
       "      <td>3 phòng</td>\n",
       "      <td>NaN</td>\n",
       "      <td>NaN</td>\n",
       "      <td>2 phòng</td>\n",
       "      <td>Chung cư</td>\n",
       "      <td>Đang chờ sổ</td>\n",
       "      <td>NaN</td>\n",
       "      <td>Nội thất cao cấp</td>\n",
       "      <td>NaN</td>\n",
       "      <td>NaN</td>\n",
       "      <td>Căn góc</td>\n",
       "      <td>5,3 tỷ- 95 m2đ</td>\n",
       "    </tr>\n",
       "    <tr>\n",
       "      <th>2</th>\n",
       "      <td>Đường Võ Văn Kiệt, Phường An Lạc, Quận Bình Tâ...</td>\n",
       "      <td>Chưa bàn giao</td>\n",
       "      <td>75 m²</td>\n",
       "      <td>34,4 triệu/m²</td>\n",
       "      <td>2 phòng</td>\n",
       "      <td>2</td>\n",
       "      <td>5.0</td>\n",
       "      <td>2 phòng</td>\n",
       "      <td>Chung cư</td>\n",
       "      <td>Giấy tờ khác</td>\n",
       "      <td>17</td>\n",
       "      <td>NaN</td>\n",
       "      <td>Đông Nam</td>\n",
       "      <td>Đông Nam</td>\n",
       "      <td>NaN</td>\n",
       "      <td>2,58 tỷ- 75 m2đ</td>\n",
       "    </tr>\n",
       "    <tr>\n",
       "      <th>3</th>\n",
       "      <td>108, Đường Hồng Hà, Phường 2, Quận Tân Bình, T...</td>\n",
       "      <td>Đã bàn giao</td>\n",
       "      <td>70 m²</td>\n",
       "      <td>57,14 triệu/m²</td>\n",
       "      <td>1 phòng</td>\n",
       "      <td>A</td>\n",
       "      <td>7.0</td>\n",
       "      <td>1 phòng</td>\n",
       "      <td>Chung cư</td>\n",
       "      <td>Đang chờ sổ</td>\n",
       "      <td>BPA - 0712</td>\n",
       "      <td>Nội thất cao cấp</td>\n",
       "      <td>Đông Nam</td>\n",
       "      <td>Tây Bắc</td>\n",
       "      <td>NaN</td>\n",
       "      <td>4 tỷ- 70 m2đ</td>\n",
       "    </tr>\n",
       "    <tr>\n",
       "      <th>4</th>\n",
       "      <td>Đường Hậu Giang, Phường 11, Quận 6, Tp Hồ Chí ...</td>\n",
       "      <td>Đã bàn giao</td>\n",
       "      <td>83 m²</td>\n",
       "      <td>35,54 triệu/m²</td>\n",
       "      <td>2 phòng</td>\n",
       "      <td>NaN</td>\n",
       "      <td>NaN</td>\n",
       "      <td>2 phòng</td>\n",
       "      <td>Chung cư</td>\n",
       "      <td>Đã có sổ</td>\n",
       "      <td>NaN</td>\n",
       "      <td>Nội thất cao cấp</td>\n",
       "      <td>Tây Bắc</td>\n",
       "      <td>NaN</td>\n",
       "      <td>NaN</td>\n",
       "      <td>2,95 tỷ- 83 m2đ</td>\n",
       "    </tr>\n",
       "  </tbody>\n",
       "</table>\n",
       "</div>"
      ],
      "text/plain": [
       "                                              DiaChi   TinhTrangBDS DienTich  \\\n",
       "0  Đường Nguyễn Văn Quỳ, Phường Phú Thuận, Quận 7...    Đã bàn giao    62 m²   \n",
       "1  Đường Nguyễn Văn Linh, Phường Tân Thuận Tây, Q...    Đã bàn giao    95 m²   \n",
       "2  Đường Võ Văn Kiệt, Phường An Lạc, Quận Bình Tâ...  Chưa bàn giao    75 m²   \n",
       "3  108, Đường Hồng Hà, Phường 2, Quận Tân Bình, T...    Đã bàn giao    70 m²   \n",
       "4  Đường Hậu Giang, Phường 11, Quận 6, Tp Hồ Chí ...    Đã bàn giao    83 m²   \n",
       "\n",
       "            Gia/m2 Phongngu TenPhanKhu  SoTang PhongTam      Loai  \\\n",
       "0   32,26 triệu/m²  2 phòng        NaN     NaN  2 phòng  Chung cư   \n",
       "1   55,79 triệu/m²  3 phòng        NaN     NaN  2 phòng  Chung cư   \n",
       "2    34,4 triệu/m²  2 phòng          2     5.0  2 phòng  Chung cư   \n",
       "3   57,14 triệu/m²  1 phòng          A     7.0  1 phòng  Chung cư   \n",
       "4   35,54 triệu/m²  2 phòng        NaN     NaN  2 phòng  Chung cư   \n",
       "\n",
       "         GiayTo     MaCanHo  TinhTrangNoiThat HuongCuaChinh HuongBanCong  \\\n",
       "0      Đã có sổ         NaN               NaN           NaN          NaN   \n",
       "1   Đang chờ sổ         NaN  Nội thất cao cấp           NaN          NaN   \n",
       "2  Giấy tờ khác          17               NaN      Đông Nam     Đông Nam   \n",
       "3   Đang chờ sổ  BPA - 0712  Nội thất cao cấp      Đông Nam      Tây Bắc   \n",
       "4      Đã có sổ         NaN  Nội thất cao cấp       Tây Bắc          NaN   \n",
       "\n",
       "   DacDiem              Gia  \n",
       "0      NaN     2 tỷ- 62 m2đ  \n",
       "1  Căn góc   5,3 tỷ- 95 m2đ  \n",
       "2      NaN  2,58 tỷ- 75 m2đ  \n",
       "3      NaN     4 tỷ- 70 m2đ  \n",
       "4      NaN  2,95 tỷ- 83 m2đ  "
      ]
     },
     "execution_count": 2,
     "metadata": {},
     "output_type": "execute_result"
    }
   ],
   "source": [
    "df= pd.read_csv(\"rawdata.csv\",thousands=',',skipinitialspace=True)\n",
    "df.head()"
   ]
  },
  {
   "cell_type": "code",
   "execution_count": 3,
   "metadata": {},
   "outputs": [
    {
     "name": "stdout",
     "output_type": "stream",
     "text": [
      "<class 'pandas.core.frame.DataFrame'>\n",
      "RangeIndex: 24949 entries, 0 to 24948\n",
      "Data columns (total 16 columns):\n",
      " #   Column            Non-Null Count  Dtype  \n",
      "---  ------            --------------  -----  \n",
      " 0   DiaChi            24949 non-null  object \n",
      " 1   TinhTrangBDS      24924 non-null  object \n",
      " 2   DienTich          24917 non-null  object \n",
      " 3   Gia/m2            24916 non-null  object \n",
      " 4   Phongngu          24926 non-null  object \n",
      " 5   TenPhanKhu        7035 non-null   object \n",
      " 6   SoTang            6726 non-null   float64\n",
      " 7   PhongTam          24388 non-null  object \n",
      " 8   Loai              24926 non-null  object \n",
      " 9   GiayTo            18852 non-null  object \n",
      " 10  MaCanHo           3358 non-null   object \n",
      " 11  TinhTrangNoiThat  12790 non-null  object \n",
      " 12  HuongCuaChinh     9370 non-null   object \n",
      " 13  HuongBanCong      8670 non-null   object \n",
      " 14  DacDiem           5601 non-null   object \n",
      " 15  Gia               24949 non-null  object \n",
      "dtypes: float64(1), object(15)\n",
      "memory usage: 3.0+ MB\n"
     ]
    }
   ],
   "source": [
    "df.info()"
   ]
  },
  {
   "cell_type": "markdown",
   "metadata": {},
   "source": [
    "# 1. Tiền xử lý dữ liệu"
   ]
  },
  {
   "cell_type": "code",
   "execution_count": 4,
   "metadata": {},
   "outputs": [],
   "source": [
    "## Mình sẽ chỉ lấy những data có dữ liệu về diện tích \n",
    "df1 = df[df.DienTich.notnull()]\n",
    "df1 = df1.reset_index()\n",
    "for i in range(0,len(df1.DienTich)):\n",
    "    df1.DienTich[i]= df1.DienTich[i].split(' ')[0]\n",
    "## Có thể thấy 2 trường dữ liệu Gia/m2 và Gia tương đương nhau nên mình sẽ xóa trường này đi\n",
    "del df1[\"Gia/m2\"]"
   ]
  },
  {
   "cell_type": "code",
   "execution_count": 5,
   "metadata": {},
   "outputs": [],
   "source": [
    "## Mình sẽ chỉ lấy những data có dữ liệu về phòng ngủ \n",
    "df2 = df1[df1.Phongngu.notnull()]\n",
    "for i in range(0,len(df2.Phongngu)):\n",
    "    if 'nhiều hơn' in df2.Phongngu[i]:\n",
    "        df2.Phongngu[i]= float(df2.Phongngu[i].split(' ')[2])+1\n",
    "    else:\n",
    "        df2.Phongngu[i]= df2.Phongngu[i].split(' ')[0]"
   ]
  },
  {
   "cell_type": "code",
   "execution_count": 6,
   "metadata": {},
   "outputs": [],
   "source": [
    "## Mình sẽ chỉ lấy những data có dữ liệu về phòng tắm\n",
    "df3 = df2[df2.PhongTam.notnull()]\n",
    "df3 = df3.reset_index()\n",
    "for i in range(0,len(df3.PhongTam)):\n",
    "    if 'Nhiều hơn' in df3.PhongTam[i]:\n",
    "        df3.PhongTam[i]= float(df3.PhongTam[i].split(' ')[2])+1\n",
    "    else:\n",
    "        df3.PhongTam[i]= df3.PhongTam[i].split(' ')[0]\n",
    "        \n",
    "del df3['level_0']\n",
    "del df3['index']\n",
    "df4 = df3[df3.Loai.notnull()]"
   ]
  },
  {
   "cell_type": "code",
   "execution_count": 7,
   "metadata": {},
   "outputs": [],
   "source": [
    "## truc quan truong gia tri Gia\n",
    "for i in range(0,len(df4.Gia)):\n",
    "    if 'GIÁ TỐT' in df4.Gia[i]:\n",
    "        df4.Gia[i] = df4.Gia[i].split('\\n')[0]\n",
    "    else:\n",
    "        df4.Gia[i] = df4.Gia[i].split('-')[0]"
   ]
  },
  {
   "cell_type": "code",
   "execution_count": 8,
   "metadata": {},
   "outputs": [],
   "source": [
    "for i in range(0,len(df4.Gia)):\n",
    "    if 'tỷ' in df4.Gia[i]:\n",
    "        price = df4.Gia[i].split(' ')[0]\n",
    "        price = price.replace(',','.')\n",
    "        df4.Gia[i] = round(float(price)*1000000000,1)\n",
    "    elif 'triệu' in df4.Gia[i] :\n",
    "        price = df4.Gia[i].split(' ')[0]\n",
    "        price = price.replace(',','.')\n",
    "        df4.Gia[i] = round(float(price)*1000000,1)\n",
    "df4 = df4.drop([15232])\n",
    "df4 = df4.reset_index()"
   ]
  },
  {
   "cell_type": "code",
   "execution_count": 9,
   "metadata": {},
   "outputs": [],
   "source": [
    "df4['Quan'] = df.DiaChi.copy()\n",
    "for i in range(0,len(df4.DiaChi)):\n",
    "    a= df4.DiaChi[i].split(',')\n",
    "    df4['Quan'][i] = a[len(a)-2]\n",
    "for i in df4['Quan']:\n",
    "    if 'Quận' not in i and 'Huyện' not in i:\n",
    "        df4 = df4.drop(df4[df4['Quan']==i].index)"
   ]
  },
  {
   "cell_type": "code",
   "execution_count": 10,
   "metadata": {},
   "outputs": [
    {
     "data": {
      "text/plain": [
       "array([' Quận 7', ' Quận Bình Tân', ' Quận Tân Bình', ' Quận 6',\n",
       "       ' Quận 8', ' Quận Bình Thạnh', ' Huyện Bình Chánh',\n",
       "       ' Huyện Hóc Môn', ' Quận Thủ Đức', ' Quận 9', ' Quận 10',\n",
       "       ' Huyện Nhà Bè', ' Quận 12', ' Quận Tân Phú', ' Quận 2',\n",
       "       ' Quận Phú Nhuận', ' Quận 1', ' Quận 4', ' Quận 11', ' Quận 5',\n",
       "       ' Quận Gò Vấp', ' Quận 3', ' Huyện Củ Chi'], dtype=object)"
      ]
     },
     "execution_count": 10,
     "metadata": {},
     "output_type": "execute_result"
    }
   ],
   "source": [
    "df4.Quan.unique()"
   ]
  },
  {
   "cell_type": "code",
   "execution_count": 11,
   "metadata": {},
   "outputs": [
    {
     "data": {
      "text/html": [
       "<div>\n",
       "<style scoped>\n",
       "    .dataframe tbody tr th:only-of-type {\n",
       "        vertical-align: middle;\n",
       "    }\n",
       "\n",
       "    .dataframe tbody tr th {\n",
       "        vertical-align: top;\n",
       "    }\n",
       "\n",
       "    .dataframe thead th {\n",
       "        text-align: right;\n",
       "    }\n",
       "</style>\n",
       "<table border=\"1\" class=\"dataframe\">\n",
       "  <thead>\n",
       "    <tr style=\"text-align: right;\">\n",
       "      <th></th>\n",
       "      <th>DiaChi</th>\n",
       "      <th>Quan</th>\n",
       "      <th>TinhTrangBDS</th>\n",
       "      <th>DienTich</th>\n",
       "      <th>Phongngu</th>\n",
       "      <th>TenPhanKhu</th>\n",
       "      <th>SoTang</th>\n",
       "      <th>PhongTam</th>\n",
       "      <th>Loai</th>\n",
       "      <th>GiayTo</th>\n",
       "      <th>MaCanHo</th>\n",
       "      <th>TinhTrangNoiThat</th>\n",
       "      <th>HuongCuaChinh</th>\n",
       "      <th>HuongBanCong</th>\n",
       "      <th>DacDiem</th>\n",
       "      <th>Gia</th>\n",
       "    </tr>\n",
       "  </thead>\n",
       "  <tbody>\n",
       "    <tr>\n",
       "      <th>0</th>\n",
       "      <td>Đường Nguyễn Văn Quỳ, Phường Phú Thuận, Quận 7...</td>\n",
       "      <td>Quận 7</td>\n",
       "      <td>Đã bàn giao</td>\n",
       "      <td>62</td>\n",
       "      <td>2</td>\n",
       "      <td>NaN</td>\n",
       "      <td>NaN</td>\n",
       "      <td>2</td>\n",
       "      <td>Chung cư</td>\n",
       "      <td>Đã có sổ</td>\n",
       "      <td>NaN</td>\n",
       "      <td>NaN</td>\n",
       "      <td>NaN</td>\n",
       "      <td>NaN</td>\n",
       "      <td>NaN</td>\n",
       "      <td>2e+09</td>\n",
       "    </tr>\n",
       "    <tr>\n",
       "      <th>1</th>\n",
       "      <td>Đường Nguyễn Văn Linh, Phường Tân Thuận Tây, Q...</td>\n",
       "      <td>Quận 7</td>\n",
       "      <td>Đã bàn giao</td>\n",
       "      <td>95</td>\n",
       "      <td>3</td>\n",
       "      <td>NaN</td>\n",
       "      <td>NaN</td>\n",
       "      <td>2</td>\n",
       "      <td>Chung cư</td>\n",
       "      <td>Đang chờ sổ</td>\n",
       "      <td>NaN</td>\n",
       "      <td>Nội thất cao cấp</td>\n",
       "      <td>NaN</td>\n",
       "      <td>NaN</td>\n",
       "      <td>Căn góc</td>\n",
       "      <td>5.3e+09</td>\n",
       "    </tr>\n",
       "  </tbody>\n",
       "</table>\n",
       "</div>"
      ],
      "text/plain": [
       "                                              DiaChi     Quan TinhTrangBDS  \\\n",
       "0  Đường Nguyễn Văn Quỳ, Phường Phú Thuận, Quận 7...   Quận 7  Đã bàn giao   \n",
       "1  Đường Nguyễn Văn Linh, Phường Tân Thuận Tây, Q...   Quận 7  Đã bàn giao   \n",
       "\n",
       "  DienTich Phongngu TenPhanKhu  SoTang PhongTam      Loai       GiayTo  \\\n",
       "0       62        2        NaN     NaN        2  Chung cư     Đã có sổ   \n",
       "1       95        3        NaN     NaN        2  Chung cư  Đang chờ sổ   \n",
       "\n",
       "  MaCanHo  TinhTrangNoiThat HuongCuaChinh HuongBanCong  DacDiem      Gia  \n",
       "0     NaN               NaN           NaN          NaN      NaN    2e+09  \n",
       "1     NaN  Nội thất cao cấp           NaN          NaN  Căn góc  5.3e+09  "
      ]
     },
     "execution_count": 11,
     "metadata": {},
     "output_type": "execute_result"
    }
   ],
   "source": [
    "frame = df4[['DiaChi','Quan','TinhTrangBDS','DienTich','Phongngu','TenPhanKhu','SoTang','PhongTam','Loai','GiayTo','MaCanHo'\n",
    "             ,'TinhTrangNoiThat' ,'HuongCuaChinh','HuongBanCong','DacDiem',\"Gia\"]]\n",
    "frame.head(2)"
   ]
  },
  {
   "cell_type": "code",
   "execution_count": 12,
   "metadata": {},
   "outputs": [
    {
     "data": {
      "text/html": [
       "<div>\n",
       "<style scoped>\n",
       "    .dataframe tbody tr th:only-of-type {\n",
       "        vertical-align: middle;\n",
       "    }\n",
       "\n",
       "    .dataframe tbody tr th {\n",
       "        vertical-align: top;\n",
       "    }\n",
       "\n",
       "    .dataframe thead th {\n",
       "        text-align: right;\n",
       "    }\n",
       "</style>\n",
       "<table border=\"1\" class=\"dataframe\">\n",
       "  <thead>\n",
       "    <tr style=\"text-align: right;\">\n",
       "      <th></th>\n",
       "      <th>DienTich</th>\n",
       "      <th>Phongngu</th>\n",
       "      <th>SoTang</th>\n",
       "      <th>PhongTam</th>\n",
       "      <th>Gia</th>\n",
       "    </tr>\n",
       "  </thead>\n",
       "  <tbody>\n",
       "    <tr>\n",
       "      <th>count</th>\n",
       "      <td>24086.000000</td>\n",
       "      <td>24086.000000</td>\n",
       "      <td>6552.000000</td>\n",
       "      <td>24086.000000</td>\n",
       "      <td>2.408600e+04</td>\n",
       "    </tr>\n",
       "    <tr>\n",
       "      <th>mean</th>\n",
       "      <td>232.163841</td>\n",
       "      <td>2.052230</td>\n",
       "      <td>11.347222</td>\n",
       "      <td>1.754048</td>\n",
       "      <td>2.870769e+09</td>\n",
       "    </tr>\n",
       "    <tr>\n",
       "      <th>std</th>\n",
       "      <td>9943.563316</td>\n",
       "      <td>0.746907</td>\n",
       "      <td>15.322589</td>\n",
       "      <td>0.612478</td>\n",
       "      <td>7.898340e+09</td>\n",
       "    </tr>\n",
       "    <tr>\n",
       "      <th>min</th>\n",
       "      <td>1.000000</td>\n",
       "      <td>1.000000</td>\n",
       "      <td>1.000000</td>\n",
       "      <td>1.000000</td>\n",
       "      <td>1.000000e+06</td>\n",
       "    </tr>\n",
       "    <tr>\n",
       "      <th>25%</th>\n",
       "      <td>56.000000</td>\n",
       "      <td>2.000000</td>\n",
       "      <td>5.000000</td>\n",
       "      <td>1.000000</td>\n",
       "      <td>1.630000e+09</td>\n",
       "    </tr>\n",
       "    <tr>\n",
       "      <th>50%</th>\n",
       "      <td>68.000000</td>\n",
       "      <td>2.000000</td>\n",
       "      <td>9.000000</td>\n",
       "      <td>2.000000</td>\n",
       "      <td>2.270000e+09</td>\n",
       "    </tr>\n",
       "    <tr>\n",
       "      <th>75%</th>\n",
       "      <td>80.000000</td>\n",
       "      <td>2.000000</td>\n",
       "      <td>16.000000</td>\n",
       "      <td>2.000000</td>\n",
       "      <td>3.300000e+09</td>\n",
       "    </tr>\n",
       "    <tr>\n",
       "      <th>max</th>\n",
       "      <td>1000000.000000</td>\n",
       "      <td>11.000000</td>\n",
       "      <td>720.000000</td>\n",
       "      <td>7.000000</td>\n",
       "      <td>9.800000e+11</td>\n",
       "    </tr>\n",
       "  </tbody>\n",
       "</table>\n",
       "</div>"
      ],
      "text/plain": [
       "             DienTich      Phongngu       SoTang      PhongTam           Gia\n",
       "count    24086.000000  24086.000000  6552.000000  24086.000000  2.408600e+04\n",
       "mean       232.163841      2.052230    11.347222      1.754048  2.870769e+09\n",
       "std       9943.563316      0.746907    15.322589      0.612478  7.898340e+09\n",
       "min          1.000000      1.000000     1.000000      1.000000  1.000000e+06\n",
       "25%         56.000000      2.000000     5.000000      1.000000  1.630000e+09\n",
       "50%         68.000000      2.000000     9.000000      2.000000  2.270000e+09\n",
       "75%         80.000000      2.000000    16.000000      2.000000  3.300000e+09\n",
       "max    1000000.000000     11.000000   720.000000      7.000000  9.800000e+11"
      ]
     },
     "execution_count": 12,
     "metadata": {},
     "output_type": "execute_result"
    }
   ],
   "source": [
    "frame.DienTich = frame.DienTich.astype('float')\n",
    "frame.Phongngu = frame.Phongngu.astype('float') \n",
    "frame.PhongTam = frame.PhongTam.astype('float') \n",
    "frame.Gia = frame.Gia.astype('float') \n",
    "frame.describe()"
   ]
  },
  {
   "cell_type": "code",
   "execution_count": 13,
   "metadata": {},
   "outputs": [
    {
     "name": "stdout",
     "output_type": "stream",
     "text": [
      "The number of row after cleaning data: 24019\n"
     ]
    }
   ],
   "source": [
    "frame['USD'] = round(frame['Gia']/24000,0)\n",
    "rows  = frame[frame.DienTich > 500]\n",
    "frame = frame.drop(index = rows.index)\n",
    "rows  = frame[frame.SoTang > 81]\n",
    "frame = frame.drop(index = rows.index)\n",
    "frame['log_price'] = np.log(frame.USD)\n",
    "\n",
    "print(\"The number of row after cleaning data:\",len(frame))"
   ]
  },
  {
   "cell_type": "code",
   "execution_count": 14,
   "metadata": {},
   "outputs": [],
   "source": [
    "frame.to_csv('dataset.csv',encoding=\"utf-8-sig\",index=False)"
   ]
  },
  {
   "cell_type": "markdown",
   "metadata": {},
   "source": [
    "# 2. Trực quan dữ liệu"
   ]
  },
  {
   "cell_type": "markdown",
   "metadata": {},
   "source": [
    "### 2.1 Trực quan những giá trị dạng số "
   ]
  },
  {
   "cell_type": "code",
   "execution_count": 15,
   "metadata": {},
   "outputs": [
    {
     "data": {
      "image/png": "[encoded data removed]",
      "text/plain": [
       "<Figure size 720x864 with 4 Axes>"
      ]
     },
     "metadata": {},
     "output_type": "display_data"
    }
   ],
   "source": [
    "def scatter(x,fig):\n",
    "    plt.subplot(5,2,fig)\n",
    "    plt.scatter(frame[x],frame['log_price'])\n",
    "    plt.title(x+' vs logPrice')\n",
    "    plt.ylabel('logPrice')\n",
    "    plt.xlabel(x)\n",
    "\n",
    "\n",
    "plt.figure(figsize=(10,12))\n",
    "\n",
    "scatter('DienTich', 1)\n",
    "scatter('Phongngu', 2)\n",
    "scatter('SoTang', 3)\n",
    "scatter('PhongTam', 4)\n",
    "\n",
    "plt.tight_layout()"
   ]
  },
  {
   "cell_type": "markdown",
   "metadata": {},
   "source": [
    "2 trường dữ liệu phòng ngủ và phòng tắm không ảnh hưởng quá nhiều tới giá "
   ]
  },
  {
   "cell_type": "markdown",
   "metadata": {},
   "source": [
    "## 2.2 Trực quan những giá categorical"
   ]
  },
  {
   "cell_type": "code",
   "execution_count": 16,
   "metadata": {},
   "outputs": [],
   "source": [
    "frame1 = frame[['Quan','TinhTrangBDS','TenPhanKhu','Loai','GiayTo','MaCanHo','TinhTrangNoiThat','HuongCuaChinh','HuongBanCong'\n",
    "                ,'DacDiem','Gia','USD']]\n",
    "bins = [42,67917,106250,40833333]"
   ]
  },
  {
   "cell_type": "code",
   "execution_count": 17,
   "metadata": {},
   "outputs": [],
   "source": [
    "def Analyst(col):\n",
    "    temp = frame1.copy()\n",
    "    table = temp.groupby([col])['USD'].mean()\n",
    "    temp = temp.merge(table.reset_index(), how='left',on=col)\n",
    "    cars_bin=['low','Medium','High']\n",
    "    frame1['range'] = pd.cut(temp['USD_y'],bins,right=False,labels=cars_bin)\n",
    "    plt.rcParams['figure.figsize'] = (18, 8)\n",
    "    df = pd.DataFrame(frame1.groupby([col,'range'])['USD'].mean().unstack(fill_value=0))\n",
    "    df.plot.bar()\n",
    "    plt.title('house Range vs Price')\n",
    "    plt.show()"
   ]
  },
  {
   "cell_type": "code",
   "execution_count": null,
   "metadata": {},
   "outputs": [],
   "source": []
  },
  {
   "cell_type": "code",
   "execution_count": 18,
   "metadata": {},
   "outputs": [
    {
     "data": {
      "image/png": "[encoded data removed]",
      "text/plain": [
       "<Figure size 1296x576 with 1 Axes>"
      ]
     },
     "metadata": {},
     "output_type": "display_data"
    }
   ],
   "source": [
    "Analyst('Quan')"
   ]
  },
  {
   "cell_type": "markdown",
   "metadata": {},
   "source": [
    "* Quận 5 , Quận 10, Quận 1 , Quận Phú Nhuận là những quận có giá chung cư cao nhất"
   ]
  },
  {
   "cell_type": "code",
   "execution_count": 19,
   "metadata": {},
   "outputs": [
    {
     "data": {
      "image/png": "[encoded data removed]",
      "text/plain": [
       "<Figure size 1296x576 with 1 Axes>"
      ]
     },
     "metadata": {},
     "output_type": "display_data"
    }
   ],
   "source": [
    "Analyst('TinhTrangBDS')"
   ]
  },
  {
   "cell_type": "markdown",
   "metadata": {},
   "source": [
    "Có thể thấy những chung cư đã được bàn giao có giá **cao hơn** so với chưa được bàn giao"
   ]
  },
  {
   "cell_type": "code",
   "execution_count": 20,
   "metadata": {},
   "outputs": [
    {
     "data": {
      "image/png": "[encoded data removed]",
      "text/plain": [
       "<Figure size 1296x576 with 1 Axes>"
      ]
     },
     "metadata": {},
     "output_type": "display_data"
    }
   ],
   "source": [
    "Analyst('TinhTrangNoiThat')"
   ]
  },
  {
   "cell_type": "markdown",
   "metadata": {},
   "source": [
    "Nội thất được bàn giao thô được ưa chuộng trong những khu căn hộ với giá cao "
   ]
  },
  {
   "cell_type": "code",
   "execution_count": 21,
   "metadata": {},
   "outputs": [
    {
     "data": {
      "image/png": "[encoded data removed]",
      "text/plain": [
       "<Figure size 1296x576 with 1 Axes>"
      ]
     },
     "metadata": {},
     "output_type": "display_data"
    }
   ],
   "source": [
    "Analyst('Loai')"
   ]
  },
  {
   "cell_type": "markdown",
   "metadata": {},
   "source": [
    "Những căn chung cư có giá trung bình đến cao thường là penthouse"
   ]
  },
  {
   "cell_type": "code",
   "execution_count": 22,
   "metadata": {},
   "outputs": [],
   "source": [
    "test = frame1[frame1.USD <frame1.USD.quantile(0.8)]"
   ]
  },
  {
   "cell_type": "code",
   "execution_count": 23,
   "metadata": {},
   "outputs": [
    {
     "name": "stdout",
     "output_type": "stream",
     "text": [
      "Đông Nam    1639\n",
      "Đông         877\n",
      "Tây Nam      790\n",
      "Đông Bắc     732\n",
      "Bắc          698\n",
      "Tây          647\n",
      "Tây Bắc      624\n",
      "Nam          562\n",
      "Name: HuongBanCong, dtype: int64\n"
     ]
    },
    {
     "data": {
      "image/png": "[encoded data removed]",
      "text/plain": [
       "<Figure size 864x432 with 1 Axes>"
      ]
     },
     "metadata": {},
     "output_type": "display_data"
    },
    {
     "name": "stdout",
     "output_type": "stream",
     "text": [
      "Đông Nam    1403\n",
      "Tây Bắc     1270\n",
      "Nam         1001\n",
      "Đông Bắc     907\n",
      "Đông         789\n",
      "Tây Nam      630\n",
      "Tây          488\n",
      "Bắc          428\n",
      "Name: HuongCuaChinh, dtype: int64\n"
     ]
    },
    {
     "data": {
      "image/png": "[encoded data removed]",
      "text/plain": [
       "<Figure size 864x432 with 1 Axes>"
      ]
     },
     "metadata": {},
     "output_type": "display_data"
    },
    {
     "name": "stdout",
     "output_type": "stream",
     "text": [
      "Chung cư                 17872\n",
      " Căn hộ dịch vụ, mini      633\n",
      "Officetel                  360\n",
      "Duplex                     195\n",
      "Penthouse                   69\n",
      " Tập thể, cư xá             47\n",
      "Name: Loai, dtype: int64\n"
     ]
    },
    {
     "data": {
      "image/png": "[encoded data removed]",
      "text/plain": [
       "<Figure size 864x432 with 1 Axes>"
      ]
     },
     "metadata": {},
     "output_type": "display_data"
    },
    {
     "name": "stdout",
     "output_type": "stream",
     "text": [
      "Đã có sổ        6817\n",
      "Đang chờ sổ     6009\n",
      "Giấy tờ khác    1545\n",
      "Name: GiayTo, dtype: int64\n"
     ]
    },
    {
     "data": {
      "image/png": "[encoded data removed]",
      "text/plain": [
       "<Figure size 864x432 with 1 Axes>"
      ]
     },
     "metadata": {},
     "output_type": "display_data"
    }
   ],
   "source": [
    "plt.rcParams['figure.figsize'] = (12, 6)\n",
    "\n",
    "print(test.HuongBanCong.value_counts())\n",
    "sns.boxplot(x=test.HuongBanCong, y=test.USD, palette=(\"plasma\"))\n",
    "plt.title('Huong ban cong vs Gia')\n",
    "plt.show()\n",
    "\n",
    "print(test.HuongCuaChinh.value_counts())\n",
    "sns.boxplot(x=test.HuongCuaChinh, y=test.USD, palette=(\"plasma\"))\n",
    "plt.title('Huong cua chinh vs Gia')\n",
    "plt.show()\n",
    "\n",
    "print(test.Loai.value_counts())\n",
    "sns.boxplot(x=test.Loai, y=test.USD, palette=(\"plasma\"))\n",
    "plt.title('Loai Can ho vs Gia')\n",
    "plt.show()\n",
    "\n",
    "print(test.GiayTo.value_counts())\n",
    "sns.boxplot(x=test.GiayTo, y=test.USD, palette=(\"plasma\"))\n",
    "plt.title('GiayTo vs Gia')\n",
    "plt.show()"
   ]
  },
  {
   "cell_type": "markdown",
   "metadata": {},
   "source": [
    "Có thể thấy trường dữ liệu giấy tờ không ảnh hưởng quá nhiều tới giá nhà "
   ]
  },
  {
   "cell_type": "markdown",
   "metadata": {},
   "source": [
    "# 3. Chạy thuật toán dự đoán giá "
   ]
  },
  {
   "cell_type": "markdown",
   "metadata": {},
   "source": [
    "## 3.1 linear regression"
   ]
  },
  {
   "cell_type": "code",
   "execution_count": 24,
   "metadata": {},
   "outputs": [],
   "source": [
    "from sklearn.preprocessing import StandardScaler\n",
    "from sklearn.linear_model import LinearRegression\n",
    "from sklearn.model_selection import train_test_split"
   ]
  },
  {
   "cell_type": "code",
   "execution_count": 25,
   "metadata": {},
   "outputs": [],
   "source": [
    "df = pd.read_csv('dataset.csv')"
   ]
  },
  {
   "cell_type": "code",
   "execution_count": 26,
   "metadata": {},
   "outputs": [
    {
     "data": {
      "text/html": [
       "<div>\n",
       "<style scoped>\n",
       "    .dataframe tbody tr th:only-of-type {\n",
       "        vertical-align: middle;\n",
       "    }\n",
       "\n",
       "    .dataframe tbody tr th {\n",
       "        vertical-align: top;\n",
       "    }\n",
       "\n",
       "    .dataframe thead th {\n",
       "        text-align: right;\n",
       "    }\n",
       "</style>\n",
       "<table border=\"1\" class=\"dataframe\">\n",
       "  <thead>\n",
       "    <tr style=\"text-align: right;\">\n",
       "      <th></th>\n",
       "      <th>DienTich</th>\n",
       "      <th>Phongngu</th>\n",
       "      <th>SoTang</th>\n",
       "      <th>PhongTam</th>\n",
       "      <th>Gia</th>\n",
       "      <th>USD</th>\n",
       "      <th>log_price</th>\n",
       "    </tr>\n",
       "  </thead>\n",
       "  <tbody>\n",
       "    <tr>\n",
       "      <th>count</th>\n",
       "      <td>24019.000000</td>\n",
       "      <td>24019.000000</td>\n",
       "      <td>6529.000000</td>\n",
       "      <td>24019.000000</td>\n",
       "      <td>2.401900e+04</td>\n",
       "      <td>2.401900e+04</td>\n",
       "      <td>24019.000000</td>\n",
       "    </tr>\n",
       "    <tr>\n",
       "      <th>mean</th>\n",
       "      <td>71.638943</td>\n",
       "      <td>2.049877</td>\n",
       "      <td>10.987594</td>\n",
       "      <td>1.751946</td>\n",
       "      <td>2.840117e+09</td>\n",
       "      <td>1.183382e+05</td>\n",
       "      <td>11.354806</td>\n",
       "    </tr>\n",
       "    <tr>\n",
       "      <th>std</th>\n",
       "      <td>30.631627</td>\n",
       "      <td>0.740393</td>\n",
       "      <td>7.378406</td>\n",
       "      <td>0.606200</td>\n",
       "      <td>7.788500e+09</td>\n",
       "      <td>3.245208e+05</td>\n",
       "      <td>0.992961</td>\n",
       "    </tr>\n",
       "    <tr>\n",
       "      <th>min</th>\n",
       "      <td>1.000000</td>\n",
       "      <td>1.000000</td>\n",
       "      <td>1.000000</td>\n",
       "      <td>1.000000</td>\n",
       "      <td>1.000000e+06</td>\n",
       "      <td>4.200000e+01</td>\n",
       "      <td>3.737670</td>\n",
       "    </tr>\n",
       "    <tr>\n",
       "      <th>25%</th>\n",
       "      <td>56.000000</td>\n",
       "      <td>2.000000</td>\n",
       "      <td>5.000000</td>\n",
       "      <td>1.000000</td>\n",
       "      <td>1.630000e+09</td>\n",
       "      <td>6.791700e+04</td>\n",
       "      <td>11.126042</td>\n",
       "    </tr>\n",
       "    <tr>\n",
       "      <th>50%</th>\n",
       "      <td>68.000000</td>\n",
       "      <td>2.000000</td>\n",
       "      <td>9.000000</td>\n",
       "      <td>2.000000</td>\n",
       "      <td>2.270000e+09</td>\n",
       "      <td>9.458300e+04</td>\n",
       "      <td>11.457233</td>\n",
       "    </tr>\n",
       "    <tr>\n",
       "      <th>75%</th>\n",
       "      <td>80.000000</td>\n",
       "      <td>2.000000</td>\n",
       "      <td>16.000000</td>\n",
       "      <td>2.000000</td>\n",
       "      <td>3.300000e+09</td>\n",
       "      <td>1.375000e+05</td>\n",
       "      <td>11.831379</td>\n",
       "    </tr>\n",
       "    <tr>\n",
       "      <th>max</th>\n",
       "      <td>500.000000</td>\n",
       "      <td>11.000000</td>\n",
       "      <td>70.000000</td>\n",
       "      <td>7.000000</td>\n",
       "      <td>9.800000e+11</td>\n",
       "      <td>4.083333e+07</td>\n",
       "      <td>17.525009</td>\n",
       "    </tr>\n",
       "  </tbody>\n",
       "</table>\n",
       "</div>"
      ],
      "text/plain": [
       "           DienTich      Phongngu       SoTang      PhongTam           Gia  \\\n",
       "count  24019.000000  24019.000000  6529.000000  24019.000000  2.401900e+04   \n",
       "mean      71.638943      2.049877    10.987594      1.751946  2.840117e+09   \n",
       "std       30.631627      0.740393     7.378406      0.606200  7.788500e+09   \n",
       "min        1.000000      1.000000     1.000000      1.000000  1.000000e+06   \n",
       "25%       56.000000      2.000000     5.000000      1.000000  1.630000e+09   \n",
       "50%       68.000000      2.000000     9.000000      2.000000  2.270000e+09   \n",
       "75%       80.000000      2.000000    16.000000      2.000000  3.300000e+09   \n",
       "max      500.000000     11.000000    70.000000      7.000000  9.800000e+11   \n",
       "\n",
       "                USD     log_price  \n",
       "count  2.401900e+04  24019.000000  \n",
       "mean   1.183382e+05     11.354806  \n",
       "std    3.245208e+05      0.992961  \n",
       "min    4.200000e+01      3.737670  \n",
       "25%    6.791700e+04     11.126042  \n",
       "50%    9.458300e+04     11.457233  \n",
       "75%    1.375000e+05     11.831379  \n",
       "max    4.083333e+07     17.525009  "
      ]
     },
     "execution_count": 26,
     "metadata": {},
     "output_type": "execute_result"
    }
   ],
   "source": [
    "df.describe()"
   ]
  },
  {
   "cell_type": "code",
   "execution_count": 27,
   "metadata": {},
   "outputs": [],
   "source": [
    "df['Rank'] = df.USD.copy()\n",
    "df_1 = df[df['USD'] < 50000]\n",
    "df_2 = df[(df['USD'] >= 50000) & (df['USD'] < 100000)]\n",
    "df_3 = df[(df['USD'] >= 100000) & (df['USD'] < 150000)]\n",
    "df_4 = df[df['USD'] >= 150000]"
   ]
  },
  {
   "cell_type": "code",
   "execution_count": 28,
   "metadata": {},
   "outputs": [
    {
     "data": {
      "text/html": [
       "<div>\n",
       "<style scoped>\n",
       "    .dataframe tbody tr th:only-of-type {\n",
       "        vertical-align: middle;\n",
       "    }\n",
       "\n",
       "    .dataframe tbody tr th {\n",
       "        vertical-align: top;\n",
       "    }\n",
       "\n",
       "    .dataframe thead th {\n",
       "        text-align: right;\n",
       "    }\n",
       "</style>\n",
       "<table border=\"1\" class=\"dataframe\">\n",
       "  <thead>\n",
       "    <tr style=\"text-align: right;\">\n",
       "      <th></th>\n",
       "      <th>DiaChi</th>\n",
       "      <th>Quan</th>\n",
       "      <th>TinhTrangBDS</th>\n",
       "      <th>DienTich</th>\n",
       "      <th>Phongngu</th>\n",
       "      <th>TenPhanKhu</th>\n",
       "      <th>SoTang</th>\n",
       "      <th>PhongTam</th>\n",
       "      <th>Loai</th>\n",
       "      <th>GiayTo</th>\n",
       "      <th>MaCanHo</th>\n",
       "      <th>TinhTrangNoiThat</th>\n",
       "      <th>HuongCuaChinh</th>\n",
       "      <th>HuongBanCong</th>\n",
       "      <th>DacDiem</th>\n",
       "      <th>Gia</th>\n",
       "      <th>USD</th>\n",
       "      <th>log_price</th>\n",
       "      <th>Rank</th>\n",
       "    </tr>\n",
       "  </thead>\n",
       "  <tbody>\n",
       "    <tr>\n",
       "      <th>0</th>\n",
       "      <td>Đường Nguyễn Văn Quỳ, Phường Phú Thuận, Quận 7...</td>\n",
       "      <td>Quận 7</td>\n",
       "      <td>Đã bàn giao</td>\n",
       "      <td>62.0</td>\n",
       "      <td>2.0</td>\n",
       "      <td>NaN</td>\n",
       "      <td>NaN</td>\n",
       "      <td>2.0</td>\n",
       "      <td>Chung cư</td>\n",
       "      <td>Đã có sổ</td>\n",
       "      <td>NaN</td>\n",
       "      <td>NaN</td>\n",
       "      <td>NaN</td>\n",
       "      <td>NaN</td>\n",
       "      <td>NaN</td>\n",
       "      <td>2.000000e+09</td>\n",
       "      <td>83333.0</td>\n",
       "      <td>11.330600</td>\n",
       "      <td>83333.0</td>\n",
       "    </tr>\n",
       "    <tr>\n",
       "      <th>5</th>\n",
       "      <td>196, 196 Đường Cao Lỗ, Phường 4, Quận 8, Tp Hồ...</td>\n",
       "      <td>Quận 8</td>\n",
       "      <td>Đã bàn giao</td>\n",
       "      <td>71.0</td>\n",
       "      <td>2.0</td>\n",
       "      <td>NaN</td>\n",
       "      <td>NaN</td>\n",
       "      <td>1.0</td>\n",
       "      <td>Chung cư</td>\n",
       "      <td>Đang chờ sổ</td>\n",
       "      <td>NaN</td>\n",
       "      <td>NaN</td>\n",
       "      <td>NaN</td>\n",
       "      <td>NaN</td>\n",
       "      <td>NaN</td>\n",
       "      <td>1.980000e+09</td>\n",
       "      <td>82500.0</td>\n",
       "      <td>11.320554</td>\n",
       "      <td>82500.0</td>\n",
       "    </tr>\n",
       "  </tbody>\n",
       "</table>\n",
       "</div>"
      ],
      "text/plain": [
       "                                              DiaChi     Quan TinhTrangBDS  \\\n",
       "0  Đường Nguyễn Văn Quỳ, Phường Phú Thuận, Quận 7...   Quận 7  Đã bàn giao   \n",
       "5  196, 196 Đường Cao Lỗ, Phường 4, Quận 8, Tp Hồ...   Quận 8  Đã bàn giao   \n",
       "\n",
       "   DienTich  Phongngu TenPhanKhu  SoTang  PhongTam      Loai       GiayTo  \\\n",
       "0      62.0       2.0        NaN     NaN       2.0  Chung cư     Đã có sổ   \n",
       "5      71.0       2.0        NaN     NaN       1.0  Chung cư  Đang chờ sổ   \n",
       "\n",
       "  MaCanHo TinhTrangNoiThat HuongCuaChinh HuongBanCong DacDiem           Gia  \\\n",
       "0     NaN              NaN           NaN          NaN     NaN  2.000000e+09   \n",
       "5     NaN              NaN           NaN          NaN     NaN  1.980000e+09   \n",
       "\n",
       "       USD  log_price     Rank  \n",
       "0  83333.0  11.330600  83333.0  \n",
       "5  82500.0  11.320554  82500.0  "
      ]
     },
     "execution_count": 28,
     "metadata": {},
     "output_type": "execute_result"
    }
   ],
   "source": [
    "df_2.head(2)"
   ]
  },
  {
   "cell_type": "code",
   "execution_count": 29,
   "metadata": {},
   "outputs": [
    {
     "data": {
      "text/plain": [
       "['TinhTrangBDS',\n",
       " 'TenPhanKhu',\n",
       " 'SoTang',\n",
       " 'GiayTo',\n",
       " 'MaCanHo',\n",
       " 'TinhTrangNoiThat',\n",
       " 'HuongCuaChinh',\n",
       " 'HuongBanCong',\n",
       " 'DacDiem']"
      ]
     },
     "execution_count": 29,
     "metadata": {},
     "output_type": "execute_result"
    }
   ],
   "source": [
    "## Tìm những trường dữ liệu có giá trị NaN\n",
    "nan_values = df.isna()\n",
    "nan_columns = nan_values.any()\n",
    "columns_with_nan = df.columns[nan_columns].tolist()\n",
    "columns_with_nan"
   ]
  },
  {
   "cell_type": "code",
   "execution_count": 30,
   "metadata": {},
   "outputs": [
    {
     "data": {
      "text/plain": [
       "DiaChi               0.000000\n",
       "Quan                 0.000000\n",
       "TinhTrangBDS         0.008327\n",
       "DienTich             0.000000\n",
       "Phongngu             0.000000\n",
       "TenPhanKhu          71.418460\n",
       "SoTang              72.817353\n",
       "PhongTam             0.000000\n",
       "Loai                 0.000000\n",
       "GiayTo              23.868604\n",
       "MaCanHo             86.339981\n",
       "TinhTrangNoiThat    48.290936\n",
       "HuongCuaChinh       61.834381\n",
       "HuongBanCong        64.603023\n",
       "DacDiem             77.388734\n",
       "Gia                  0.000000\n",
       "USD                  0.000000\n",
       "log_price            0.000000\n",
       "Rank                 0.000000\n",
       "dtype: float64"
      ]
     },
     "execution_count": 30,
     "metadata": {},
     "output_type": "execute_result"
    }
   ],
   "source": [
    "## Tỉ lệ NaN của các trường dữ liệu\n",
    "df.isna().sum()/df.shape[0]*100"
   ]
  },
  {
   "cell_type": "markdown",
   "metadata": {},
   "source": [
    "### Drop các cột dữ liệu theo % "
   ]
  },
  {
   "cell_type": "code",
   "execution_count": 31,
   "metadata": {},
   "outputs": [],
   "source": [
    "per = 0.5 # Chọn xóa những cột dữ liệu có trên 50% data là NaN"
   ]
  },
  {
   "cell_type": "code",
   "execution_count": 32,
   "metadata": {},
   "outputs": [
    {
     "data": {
      "text/html": [
       "<div>\n",
       "<style scoped>\n",
       "    .dataframe tbody tr th:only-of-type {\n",
       "        vertical-align: middle;\n",
       "    }\n",
       "\n",
       "    .dataframe tbody tr th {\n",
       "        vertical-align: top;\n",
       "    }\n",
       "\n",
       "    .dataframe thead th {\n",
       "        text-align: right;\n",
       "    }\n",
       "</style>\n",
       "<table border=\"1\" class=\"dataframe\">\n",
       "  <thead>\n",
       "    <tr style=\"text-align: right;\">\n",
       "      <th></th>\n",
       "      <th>DiaChi</th>\n",
       "      <th>Quan</th>\n",
       "      <th>TinhTrangBDS</th>\n",
       "      <th>DienTich</th>\n",
       "      <th>Phongngu</th>\n",
       "      <th>PhongTam</th>\n",
       "      <th>Loai</th>\n",
       "      <th>GiayTo</th>\n",
       "      <th>TinhTrangNoiThat</th>\n",
       "      <th>Gia</th>\n",
       "      <th>USD</th>\n",
       "      <th>log_price</th>\n",
       "      <th>Rank</th>\n",
       "    </tr>\n",
       "  </thead>\n",
       "  <tbody>\n",
       "    <tr>\n",
       "      <th>1</th>\n",
       "      <td>Đường Nguyễn Văn Linh, Phường Tân Thuận Tây, Q...</td>\n",
       "      <td>Quận 7</td>\n",
       "      <td>Đã bàn giao</td>\n",
       "      <td>95.0</td>\n",
       "      <td>3.0</td>\n",
       "      <td>2.0</td>\n",
       "      <td>Chung cư</td>\n",
       "      <td>Đang chờ sổ</td>\n",
       "      <td>Nội thất cao cấp</td>\n",
       "      <td>5.300000e+09</td>\n",
       "      <td>220833.0</td>\n",
       "      <td>12.305162</td>\n",
       "      <td>220833.0</td>\n",
       "    </tr>\n",
       "    <tr>\n",
       "      <th>3</th>\n",
       "      <td>108, Đường Hồng Hà, Phường 2, Quận Tân Bình, T...</td>\n",
       "      <td>Quận Tân Bình</td>\n",
       "      <td>Đã bàn giao</td>\n",
       "      <td>70.0</td>\n",
       "      <td>1.0</td>\n",
       "      <td>1.0</td>\n",
       "      <td>Chung cư</td>\n",
       "      <td>Đang chờ sổ</td>\n",
       "      <td>Nội thất cao cấp</td>\n",
       "      <td>4.000000e+09</td>\n",
       "      <td>166667.0</td>\n",
       "      <td>12.023753</td>\n",
       "      <td>166667.0</td>\n",
       "    </tr>\n",
       "    <tr>\n",
       "      <th>4</th>\n",
       "      <td>Đường Hậu Giang, Phường 11, Quận 6, Tp Hồ Chí ...</td>\n",
       "      <td>Quận 6</td>\n",
       "      <td>Đã bàn giao</td>\n",
       "      <td>83.0</td>\n",
       "      <td>2.0</td>\n",
       "      <td>2.0</td>\n",
       "      <td>Chung cư</td>\n",
       "      <td>Đã có sổ</td>\n",
       "      <td>Nội thất cao cấp</td>\n",
       "      <td>2.950000e+09</td>\n",
       "      <td>122917.0</td>\n",
       "      <td>11.719265</td>\n",
       "      <td>122917.0</td>\n",
       "    </tr>\n",
       "    <tr>\n",
       "      <th>8</th>\n",
       "      <td>Đường Hồ Học Lãm, Phường An Lạc, Quận Bình Tân...</td>\n",
       "      <td>Quận Bình Tân</td>\n",
       "      <td>Đã bàn giao</td>\n",
       "      <td>50.0</td>\n",
       "      <td>1.0</td>\n",
       "      <td>1.0</td>\n",
       "      <td>Chung cư</td>\n",
       "      <td>Đã có sổ</td>\n",
       "      <td>Hoàn thiện cơ bản</td>\n",
       "      <td>1.390000e+09</td>\n",
       "      <td>57917.0</td>\n",
       "      <td>10.966766</td>\n",
       "      <td>57917.0</td>\n",
       "    </tr>\n",
       "    <tr>\n",
       "      <th>13</th>\n",
       "      <td>Đường Số 45, Phường Trường Thạnh, Quận 9, Tp H...</td>\n",
       "      <td>Quận 9</td>\n",
       "      <td>Đã bàn giao</td>\n",
       "      <td>80.0</td>\n",
       "      <td>4.0</td>\n",
       "      <td>4.0</td>\n",
       "      <td>Căn hộ dịch vụ, mini</td>\n",
       "      <td>Đang chờ sổ</td>\n",
       "      <td>Bàn giao thô</td>\n",
       "      <td>4.500000e+09</td>\n",
       "      <td>187500.0</td>\n",
       "      <td>12.141534</td>\n",
       "      <td>187500.0</td>\n",
       "    </tr>\n",
       "    <tr>\n",
       "      <th>...</th>\n",
       "      <td>...</td>\n",
       "      <td>...</td>\n",
       "      <td>...</td>\n",
       "      <td>...</td>\n",
       "      <td>...</td>\n",
       "      <td>...</td>\n",
       "      <td>...</td>\n",
       "      <td>...</td>\n",
       "      <td>...</td>\n",
       "      <td>...</td>\n",
       "      <td>...</td>\n",
       "      <td>...</td>\n",
       "      <td>...</td>\n",
       "    </tr>\n",
       "    <tr>\n",
       "      <th>24013</th>\n",
       "      <td>Đường Tạ Quang Bửu, Phường 6, Quận 8, Tp Hồ Ch...</td>\n",
       "      <td>Quận 8</td>\n",
       "      <td>Đã bàn giao</td>\n",
       "      <td>68.0</td>\n",
       "      <td>2.0</td>\n",
       "      <td>2.0</td>\n",
       "      <td>Chung cư</td>\n",
       "      <td>Đang chờ sổ</td>\n",
       "      <td>Nội thất cao cấp</td>\n",
       "      <td>2.450000e+09</td>\n",
       "      <td>102083.0</td>\n",
       "      <td>11.533541</td>\n",
       "      <td>102083.0</td>\n",
       "    </tr>\n",
       "    <tr>\n",
       "      <th>24014</th>\n",
       "      <td>Đường Xa lộ Hà Nội, Phường Hiệp Phú, Quận 9, T...</td>\n",
       "      <td>Quận 9</td>\n",
       "      <td>Đã bàn giao</td>\n",
       "      <td>53.0</td>\n",
       "      <td>2.0</td>\n",
       "      <td>1.0</td>\n",
       "      <td>Chung cư</td>\n",
       "      <td>Đang chờ sổ</td>\n",
       "      <td>Hoàn thiện cơ bản</td>\n",
       "      <td>2.100000e+09</td>\n",
       "      <td>87500.0</td>\n",
       "      <td>11.379394</td>\n",
       "      <td>87500.0</td>\n",
       "    </tr>\n",
       "    <tr>\n",
       "      <th>24015</th>\n",
       "      <td>Lô 11B KĐT Nam Thành Phố, Lô 11B KĐT Nam Thành...</td>\n",
       "      <td>Huyện Bình Chánh</td>\n",
       "      <td>Đã bàn giao</td>\n",
       "      <td>76.0</td>\n",
       "      <td>2.0</td>\n",
       "      <td>1.0</td>\n",
       "      <td>Chung cư</td>\n",
       "      <td>Đã có sổ</td>\n",
       "      <td>Nội thất cao cấp</td>\n",
       "      <td>1.550000e+09</td>\n",
       "      <td>64583.0</td>\n",
       "      <td>11.075706</td>\n",
       "      <td>64583.0</td>\n",
       "    </tr>\n",
       "    <tr>\n",
       "      <th>24017</th>\n",
       "      <td>Đường Phạm Văn Đồng, Phường 13, Quận Bình Thạn...</td>\n",
       "      <td>Quận Bình Thạnh</td>\n",
       "      <td>Đã bàn giao</td>\n",
       "      <td>82.0</td>\n",
       "      <td>2.0</td>\n",
       "      <td>2.0</td>\n",
       "      <td>Chung cư</td>\n",
       "      <td>Đã có sổ</td>\n",
       "      <td>Nội thất đầy đủ</td>\n",
       "      <td>2.650000e+09</td>\n",
       "      <td>110417.0</td>\n",
       "      <td>11.612019</td>\n",
       "      <td>110417.0</td>\n",
       "    </tr>\n",
       "    <tr>\n",
       "      <th>24018</th>\n",
       "      <td>765 đường Hồng Bàng, Phường 6, Quận 6, Hồ Chí ...</td>\n",
       "      <td>Quận 6</td>\n",
       "      <td>Chưa bàn giao</td>\n",
       "      <td>60.0</td>\n",
       "      <td>2.0</td>\n",
       "      <td>1.0</td>\n",
       "      <td>Chung cư</td>\n",
       "      <td>Đang chờ sổ</td>\n",
       "      <td>Nội thất cao cấp</td>\n",
       "      <td>1.900000e+09</td>\n",
       "      <td>79167.0</td>\n",
       "      <td>11.279315</td>\n",
       "      <td>79167.0</td>\n",
       "    </tr>\n",
       "  </tbody>\n",
       "</table>\n",
       "<p>11970 rows × 13 columns</p>\n",
       "</div>"
      ],
      "text/plain": [
       "                                                  DiaChi               Quan  \\\n",
       "1      Đường Nguyễn Văn Linh, Phường Tân Thuận Tây, Q...             Quận 7   \n",
       "3      108, Đường Hồng Hà, Phường 2, Quận Tân Bình, T...      Quận Tân Bình   \n",
       "4      Đường Hậu Giang, Phường 11, Quận 6, Tp Hồ Chí ...             Quận 6   \n",
       "8      Đường Hồ Học Lãm, Phường An Lạc, Quận Bình Tân...      Quận Bình Tân   \n",
       "13     Đường Số 45, Phường Trường Thạnh, Quận 9, Tp H...             Quận 9   \n",
       "...                                                  ...                ...   \n",
       "24013  Đường Tạ Quang Bửu, Phường 6, Quận 8, Tp Hồ Ch...             Quận 8   \n",
       "24014  Đường Xa lộ Hà Nội, Phường Hiệp Phú, Quận 9, T...             Quận 9   \n",
       "24015  Lô 11B KĐT Nam Thành Phố, Lô 11B KĐT Nam Thành...   Huyện Bình Chánh   \n",
       "24017  Đường Phạm Văn Đồng, Phường 13, Quận Bình Thạn...    Quận Bình Thạnh   \n",
       "24018  765 đường Hồng Bàng, Phường 6, Quận 6, Hồ Chí ...             Quận 6   \n",
       "\n",
       "        TinhTrangBDS  DienTich  Phongngu  PhongTam                   Loai  \\\n",
       "1        Đã bàn giao      95.0       3.0       2.0               Chung cư   \n",
       "3        Đã bàn giao      70.0       1.0       1.0               Chung cư   \n",
       "4        Đã bàn giao      83.0       2.0       2.0               Chung cư   \n",
       "8        Đã bàn giao      50.0       1.0       1.0               Chung cư   \n",
       "13       Đã bàn giao      80.0       4.0       4.0   Căn hộ dịch vụ, mini   \n",
       "...              ...       ...       ...       ...                    ...   \n",
       "24013    Đã bàn giao      68.0       2.0       2.0               Chung cư   \n",
       "24014    Đã bàn giao      53.0       2.0       1.0               Chung cư   \n",
       "24015    Đã bàn giao      76.0       2.0       1.0               Chung cư   \n",
       "24017    Đã bàn giao      82.0       2.0       2.0               Chung cư   \n",
       "24018  Chưa bàn giao      60.0       2.0       1.0               Chung cư   \n",
       "\n",
       "            GiayTo   TinhTrangNoiThat           Gia       USD  log_price  \\\n",
       "1      Đang chờ sổ   Nội thất cao cấp  5.300000e+09  220833.0  12.305162   \n",
       "3      Đang chờ sổ   Nội thất cao cấp  4.000000e+09  166667.0  12.023753   \n",
       "4         Đã có sổ   Nội thất cao cấp  2.950000e+09  122917.0  11.719265   \n",
       "8         Đã có sổ  Hoàn thiện cơ bản  1.390000e+09   57917.0  10.966766   \n",
       "13     Đang chờ sổ       Bàn giao thô  4.500000e+09  187500.0  12.141534   \n",
       "...            ...                ...           ...       ...        ...   \n",
       "24013  Đang chờ sổ   Nội thất cao cấp  2.450000e+09  102083.0  11.533541   \n",
       "24014  Đang chờ sổ  Hoàn thiện cơ bản  2.100000e+09   87500.0  11.379394   \n",
       "24015     Đã có sổ   Nội thất cao cấp  1.550000e+09   64583.0  11.075706   \n",
       "24017     Đã có sổ    Nội thất đầy đủ  2.650000e+09  110417.0  11.612019   \n",
       "24018  Đang chờ sổ   Nội thất cao cấp  1.900000e+09   79167.0  11.279315   \n",
       "\n",
       "           Rank  \n",
       "1      220833.0  \n",
       "3      166667.0  \n",
       "4      122917.0  \n",
       "8       57917.0  \n",
       "13     187500.0  \n",
       "...         ...  \n",
       "24013  102083.0  \n",
       "24014   87500.0  \n",
       "24015   64583.0  \n",
       "24017  110417.0  \n",
       "24018   79167.0  \n",
       "\n",
       "[11970 rows x 13 columns]"
      ]
     },
     "execution_count": 32,
     "metadata": {},
     "output_type": "execute_result"
    }
   ],
   "source": [
    "df_dropped = df.dropna(axis=1,thresh=int(df.shape[0]*per))\n",
    "df_dropped_2 = df_dropped.dropna(how='any')\n",
    "#df_dropped_2 = df_dropped.dropna(axis=0,thresh=int(df.shape[1]*0.5))\n",
    "df_dropped_2"
   ]
  },
  {
   "cell_type": "code",
   "execution_count": 33,
   "metadata": {},
   "outputs": [
    {
     "data": {
      "text/html": [
       "<div>\n",
       "<style scoped>\n",
       "    .dataframe tbody tr th:only-of-type {\n",
       "        vertical-align: middle;\n",
       "    }\n",
       "\n",
       "    .dataframe tbody tr th {\n",
       "        vertical-align: top;\n",
       "    }\n",
       "\n",
       "    .dataframe thead th {\n",
       "        text-align: right;\n",
       "    }\n",
       "</style>\n",
       "<table border=\"1\" class=\"dataframe\">\n",
       "  <thead>\n",
       "    <tr style=\"text-align: right;\">\n",
       "      <th></th>\n",
       "      <th>Quan</th>\n",
       "      <th>TinhTrangBDS</th>\n",
       "      <th>DienTich</th>\n",
       "      <th>Phongngu</th>\n",
       "      <th>PhongTam</th>\n",
       "      <th>Loai</th>\n",
       "      <th>GiayTo</th>\n",
       "      <th>TinhTrangNoiThat</th>\n",
       "    </tr>\n",
       "  </thead>\n",
       "  <tbody>\n",
       "    <tr>\n",
       "      <th>1</th>\n",
       "      <td>Quận 7</td>\n",
       "      <td>Đã bàn giao</td>\n",
       "      <td>95.0</td>\n",
       "      <td>3.0</td>\n",
       "      <td>2.0</td>\n",
       "      <td>Chung cư</td>\n",
       "      <td>Đang chờ sổ</td>\n",
       "      <td>Nội thất cao cấp</td>\n",
       "    </tr>\n",
       "    <tr>\n",
       "      <th>3</th>\n",
       "      <td>Quận Tân Bình</td>\n",
       "      <td>Đã bàn giao</td>\n",
       "      <td>70.0</td>\n",
       "      <td>1.0</td>\n",
       "      <td>1.0</td>\n",
       "      <td>Chung cư</td>\n",
       "      <td>Đang chờ sổ</td>\n",
       "      <td>Nội thất cao cấp</td>\n",
       "    </tr>\n",
       "    <tr>\n",
       "      <th>4</th>\n",
       "      <td>Quận 6</td>\n",
       "      <td>Đã bàn giao</td>\n",
       "      <td>83.0</td>\n",
       "      <td>2.0</td>\n",
       "      <td>2.0</td>\n",
       "      <td>Chung cư</td>\n",
       "      <td>Đã có sổ</td>\n",
       "      <td>Nội thất cao cấp</td>\n",
       "    </tr>\n",
       "    <tr>\n",
       "      <th>8</th>\n",
       "      <td>Quận Bình Tân</td>\n",
       "      <td>Đã bàn giao</td>\n",
       "      <td>50.0</td>\n",
       "      <td>1.0</td>\n",
       "      <td>1.0</td>\n",
       "      <td>Chung cư</td>\n",
       "      <td>Đã có sổ</td>\n",
       "      <td>Hoàn thiện cơ bản</td>\n",
       "    </tr>\n",
       "    <tr>\n",
       "      <th>13</th>\n",
       "      <td>Quận 9</td>\n",
       "      <td>Đã bàn giao</td>\n",
       "      <td>80.0</td>\n",
       "      <td>4.0</td>\n",
       "      <td>4.0</td>\n",
       "      <td>Căn hộ dịch vụ, mini</td>\n",
       "      <td>Đang chờ sổ</td>\n",
       "      <td>Bàn giao thô</td>\n",
       "    </tr>\n",
       "    <tr>\n",
       "      <th>...</th>\n",
       "      <td>...</td>\n",
       "      <td>...</td>\n",
       "      <td>...</td>\n",
       "      <td>...</td>\n",
       "      <td>...</td>\n",
       "      <td>...</td>\n",
       "      <td>...</td>\n",
       "      <td>...</td>\n",
       "    </tr>\n",
       "    <tr>\n",
       "      <th>24013</th>\n",
       "      <td>Quận 8</td>\n",
       "      <td>Đã bàn giao</td>\n",
       "      <td>68.0</td>\n",
       "      <td>2.0</td>\n",
       "      <td>2.0</td>\n",
       "      <td>Chung cư</td>\n",
       "      <td>Đang chờ sổ</td>\n",
       "      <td>Nội thất cao cấp</td>\n",
       "    </tr>\n",
       "    <tr>\n",
       "      <th>24014</th>\n",
       "      <td>Quận 9</td>\n",
       "      <td>Đã bàn giao</td>\n",
       "      <td>53.0</td>\n",
       "      <td>2.0</td>\n",
       "      <td>1.0</td>\n",
       "      <td>Chung cư</td>\n",
       "      <td>Đang chờ sổ</td>\n",
       "      <td>Hoàn thiện cơ bản</td>\n",
       "    </tr>\n",
       "    <tr>\n",
       "      <th>24015</th>\n",
       "      <td>Huyện Bình Chánh</td>\n",
       "      <td>Đã bàn giao</td>\n",
       "      <td>76.0</td>\n",
       "      <td>2.0</td>\n",
       "      <td>1.0</td>\n",
       "      <td>Chung cư</td>\n",
       "      <td>Đã có sổ</td>\n",
       "      <td>Nội thất cao cấp</td>\n",
       "    </tr>\n",
       "    <tr>\n",
       "      <th>24017</th>\n",
       "      <td>Quận Bình Thạnh</td>\n",
       "      <td>Đã bàn giao</td>\n",
       "      <td>82.0</td>\n",
       "      <td>2.0</td>\n",
       "      <td>2.0</td>\n",
       "      <td>Chung cư</td>\n",
       "      <td>Đã có sổ</td>\n",
       "      <td>Nội thất đầy đủ</td>\n",
       "    </tr>\n",
       "    <tr>\n",
       "      <th>24018</th>\n",
       "      <td>Quận 6</td>\n",
       "      <td>Chưa bàn giao</td>\n",
       "      <td>60.0</td>\n",
       "      <td>2.0</td>\n",
       "      <td>1.0</td>\n",
       "      <td>Chung cư</td>\n",
       "      <td>Đang chờ sổ</td>\n",
       "      <td>Nội thất cao cấp</td>\n",
       "    </tr>\n",
       "  </tbody>\n",
       "</table>\n",
       "<p>11970 rows × 8 columns</p>\n",
       "</div>"
      ],
      "text/plain": [
       "                    Quan   TinhTrangBDS  DienTich  Phongngu  PhongTam  \\\n",
       "1                 Quận 7    Đã bàn giao      95.0       3.0       2.0   \n",
       "3          Quận Tân Bình    Đã bàn giao      70.0       1.0       1.0   \n",
       "4                 Quận 6    Đã bàn giao      83.0       2.0       2.0   \n",
       "8          Quận Bình Tân    Đã bàn giao      50.0       1.0       1.0   \n",
       "13                Quận 9    Đã bàn giao      80.0       4.0       4.0   \n",
       "...                  ...            ...       ...       ...       ...   \n",
       "24013             Quận 8    Đã bàn giao      68.0       2.0       2.0   \n",
       "24014             Quận 9    Đã bàn giao      53.0       2.0       1.0   \n",
       "24015   Huyện Bình Chánh    Đã bàn giao      76.0       2.0       1.0   \n",
       "24017    Quận Bình Thạnh    Đã bàn giao      82.0       2.0       2.0   \n",
       "24018             Quận 6  Chưa bàn giao      60.0       2.0       1.0   \n",
       "\n",
       "                        Loai       GiayTo   TinhTrangNoiThat  \n",
       "1                   Chung cư  Đang chờ sổ   Nội thất cao cấp  \n",
       "3                   Chung cư  Đang chờ sổ   Nội thất cao cấp  \n",
       "4                   Chung cư     Đã có sổ   Nội thất cao cấp  \n",
       "8                   Chung cư     Đã có sổ  Hoàn thiện cơ bản  \n",
       "13      Căn hộ dịch vụ, mini  Đang chờ sổ       Bàn giao thô  \n",
       "...                      ...          ...                ...  \n",
       "24013               Chung cư  Đang chờ sổ   Nội thất cao cấp  \n",
       "24014               Chung cư  Đang chờ sổ  Hoàn thiện cơ bản  \n",
       "24015               Chung cư     Đã có sổ   Nội thất cao cấp  \n",
       "24017               Chung cư     Đã có sổ    Nội thất đầy đủ  \n",
       "24018               Chung cư  Đang chờ sổ   Nội thất cao cấp  \n",
       "\n",
       "[11970 rows x 8 columns]"
      ]
     },
     "execution_count": 33,
     "metadata": {},
     "output_type": "execute_result"
    }
   ],
   "source": [
    "## Do giá tiền Việt quá lớn nên mình sẽ chuyển về dạng USD \n",
    "df_x = df_dropped_2.iloc[:, 1:9]\n",
    "df_x"
   ]
  },
  {
   "cell_type": "code",
   "execution_count": 34,
   "metadata": {},
   "outputs": [
    {
     "data": {
      "text/plain": [
       "1        220833.0\n",
       "3        166667.0\n",
       "4        122917.0\n",
       "8         57917.0\n",
       "13       187500.0\n",
       "           ...   \n",
       "24013    102083.0\n",
       "24014     87500.0\n",
       "24015     64583.0\n",
       "24017    110417.0\n",
       "24018     79167.0\n",
       "Name: USD, Length: 11970, dtype: float64"
      ]
     },
     "execution_count": 34,
     "metadata": {},
     "output_type": "execute_result"
    }
   ],
   "source": [
    "df_y = df_dropped_2.iloc[:, 10]\n",
    "df_y"
   ]
  },
  {
   "cell_type": "markdown",
   "metadata": {},
   "source": [
    "### Get dummies values "
   ]
  },
  {
   "cell_type": "code",
   "execution_count": 35,
   "metadata": {},
   "outputs": [
    {
     "data": {
      "text/html": [
       "<div>\n",
       "<style scoped>\n",
       "    .dataframe tbody tr th:only-of-type {\n",
       "        vertical-align: middle;\n",
       "    }\n",
       "\n",
       "    .dataframe tbody tr th {\n",
       "        vertical-align: top;\n",
       "    }\n",
       "\n",
       "    .dataframe thead th {\n",
       "        text-align: right;\n",
       "    }\n",
       "</style>\n",
       "<table border=\"1\" class=\"dataframe\">\n",
       "  <thead>\n",
       "    <tr style=\"text-align: right;\">\n",
       "      <th></th>\n",
       "      <th>DienTich</th>\n",
       "      <th>Phongngu</th>\n",
       "      <th>PhongTam</th>\n",
       "      <th>Quan_ Huyện Củ Chi</th>\n",
       "      <th>Quan_ Huyện Hóc Môn</th>\n",
       "      <th>Quan_ Huyện Nhà Bè</th>\n",
       "      <th>Quan_ Quận 1</th>\n",
       "      <th>Quan_ Quận 10</th>\n",
       "      <th>Quan_ Quận 11</th>\n",
       "      <th>Quan_ Quận 12</th>\n",
       "      <th>...</th>\n",
       "      <th>Loai_ Tập thể, cư xá</th>\n",
       "      <th>Loai_Chung cư</th>\n",
       "      <th>Loai_Duplex</th>\n",
       "      <th>Loai_Officetel</th>\n",
       "      <th>Loai_Penthouse</th>\n",
       "      <th>GiayTo_Đang chờ sổ</th>\n",
       "      <th>GiayTo_Đã có sổ</th>\n",
       "      <th>TinhTrangNoiThat_Hoàn thiện cơ bản</th>\n",
       "      <th>TinhTrangNoiThat_Nội thất cao cấp</th>\n",
       "      <th>TinhTrangNoiThat_Nội thất đầy đủ</th>\n",
       "    </tr>\n",
       "  </thead>\n",
       "  <tbody>\n",
       "    <tr>\n",
       "      <th>1</th>\n",
       "      <td>95.0</td>\n",
       "      <td>3.0</td>\n",
       "      <td>2.0</td>\n",
       "      <td>0.0</td>\n",
       "      <td>0.0</td>\n",
       "      <td>0.0</td>\n",
       "      <td>0.0</td>\n",
       "      <td>0.0</td>\n",
       "      <td>0.0</td>\n",
       "      <td>0.0</td>\n",
       "      <td>...</td>\n",
       "      <td>0.0</td>\n",
       "      <td>1.0</td>\n",
       "      <td>0.0</td>\n",
       "      <td>0.0</td>\n",
       "      <td>0.0</td>\n",
       "      <td>1.0</td>\n",
       "      <td>0.0</td>\n",
       "      <td>0.0</td>\n",
       "      <td>1.0</td>\n",
       "      <td>0.0</td>\n",
       "    </tr>\n",
       "    <tr>\n",
       "      <th>3</th>\n",
       "      <td>70.0</td>\n",
       "      <td>1.0</td>\n",
       "      <td>1.0</td>\n",
       "      <td>0.0</td>\n",
       "      <td>0.0</td>\n",
       "      <td>0.0</td>\n",
       "      <td>0.0</td>\n",
       "      <td>0.0</td>\n",
       "      <td>0.0</td>\n",
       "      <td>0.0</td>\n",
       "      <td>...</td>\n",
       "      <td>0.0</td>\n",
       "      <td>1.0</td>\n",
       "      <td>0.0</td>\n",
       "      <td>0.0</td>\n",
       "      <td>0.0</td>\n",
       "      <td>1.0</td>\n",
       "      <td>0.0</td>\n",
       "      <td>0.0</td>\n",
       "      <td>1.0</td>\n",
       "      <td>0.0</td>\n",
       "    </tr>\n",
       "    <tr>\n",
       "      <th>4</th>\n",
       "      <td>83.0</td>\n",
       "      <td>2.0</td>\n",
       "      <td>2.0</td>\n",
       "      <td>0.0</td>\n",
       "      <td>0.0</td>\n",
       "      <td>0.0</td>\n",
       "      <td>0.0</td>\n",
       "      <td>0.0</td>\n",
       "      <td>0.0</td>\n",
       "      <td>0.0</td>\n",
       "      <td>...</td>\n",
       "      <td>0.0</td>\n",
       "      <td>1.0</td>\n",
       "      <td>0.0</td>\n",
       "      <td>0.0</td>\n",
       "      <td>0.0</td>\n",
       "      <td>0.0</td>\n",
       "      <td>1.0</td>\n",
       "      <td>0.0</td>\n",
       "      <td>1.0</td>\n",
       "      <td>0.0</td>\n",
       "    </tr>\n",
       "    <tr>\n",
       "      <th>8</th>\n",
       "      <td>50.0</td>\n",
       "      <td>1.0</td>\n",
       "      <td>1.0</td>\n",
       "      <td>0.0</td>\n",
       "      <td>0.0</td>\n",
       "      <td>0.0</td>\n",
       "      <td>0.0</td>\n",
       "      <td>0.0</td>\n",
       "      <td>0.0</td>\n",
       "      <td>0.0</td>\n",
       "      <td>...</td>\n",
       "      <td>0.0</td>\n",
       "      <td>1.0</td>\n",
       "      <td>0.0</td>\n",
       "      <td>0.0</td>\n",
       "      <td>0.0</td>\n",
       "      <td>0.0</td>\n",
       "      <td>1.0</td>\n",
       "      <td>1.0</td>\n",
       "      <td>0.0</td>\n",
       "      <td>0.0</td>\n",
       "    </tr>\n",
       "    <tr>\n",
       "      <th>13</th>\n",
       "      <td>80.0</td>\n",
       "      <td>4.0</td>\n",
       "      <td>4.0</td>\n",
       "      <td>0.0</td>\n",
       "      <td>0.0</td>\n",
       "      <td>0.0</td>\n",
       "      <td>0.0</td>\n",
       "      <td>0.0</td>\n",
       "      <td>0.0</td>\n",
       "      <td>0.0</td>\n",
       "      <td>...</td>\n",
       "      <td>0.0</td>\n",
       "      <td>0.0</td>\n",
       "      <td>0.0</td>\n",
       "      <td>0.0</td>\n",
       "      <td>0.0</td>\n",
       "      <td>1.0</td>\n",
       "      <td>0.0</td>\n",
       "      <td>0.0</td>\n",
       "      <td>0.0</td>\n",
       "      <td>0.0</td>\n",
       "    </tr>\n",
       "    <tr>\n",
       "      <th>...</th>\n",
       "      <td>...</td>\n",
       "      <td>...</td>\n",
       "      <td>...</td>\n",
       "      <td>...</td>\n",
       "      <td>...</td>\n",
       "      <td>...</td>\n",
       "      <td>...</td>\n",
       "      <td>...</td>\n",
       "      <td>...</td>\n",
       "      <td>...</td>\n",
       "      <td>...</td>\n",
       "      <td>...</td>\n",
       "      <td>...</td>\n",
       "      <td>...</td>\n",
       "      <td>...</td>\n",
       "      <td>...</td>\n",
       "      <td>...</td>\n",
       "      <td>...</td>\n",
       "      <td>...</td>\n",
       "      <td>...</td>\n",
       "      <td>...</td>\n",
       "    </tr>\n",
       "    <tr>\n",
       "      <th>24013</th>\n",
       "      <td>68.0</td>\n",
       "      <td>2.0</td>\n",
       "      <td>2.0</td>\n",
       "      <td>0.0</td>\n",
       "      <td>0.0</td>\n",
       "      <td>0.0</td>\n",
       "      <td>0.0</td>\n",
       "      <td>0.0</td>\n",
       "      <td>0.0</td>\n",
       "      <td>0.0</td>\n",
       "      <td>...</td>\n",
       "      <td>0.0</td>\n",
       "      <td>1.0</td>\n",
       "      <td>0.0</td>\n",
       "      <td>0.0</td>\n",
       "      <td>0.0</td>\n",
       "      <td>1.0</td>\n",
       "      <td>0.0</td>\n",
       "      <td>0.0</td>\n",
       "      <td>1.0</td>\n",
       "      <td>0.0</td>\n",
       "    </tr>\n",
       "    <tr>\n",
       "      <th>24014</th>\n",
       "      <td>53.0</td>\n",
       "      <td>2.0</td>\n",
       "      <td>1.0</td>\n",
       "      <td>0.0</td>\n",
       "      <td>0.0</td>\n",
       "      <td>0.0</td>\n",
       "      <td>0.0</td>\n",
       "      <td>0.0</td>\n",
       "      <td>0.0</td>\n",
       "      <td>0.0</td>\n",
       "      <td>...</td>\n",
       "      <td>0.0</td>\n",
       "      <td>1.0</td>\n",
       "      <td>0.0</td>\n",
       "      <td>0.0</td>\n",
       "      <td>0.0</td>\n",
       "      <td>1.0</td>\n",
       "      <td>0.0</td>\n",
       "      <td>1.0</td>\n",
       "      <td>0.0</td>\n",
       "      <td>0.0</td>\n",
       "    </tr>\n",
       "    <tr>\n",
       "      <th>24015</th>\n",
       "      <td>76.0</td>\n",
       "      <td>2.0</td>\n",
       "      <td>1.0</td>\n",
       "      <td>0.0</td>\n",
       "      <td>0.0</td>\n",
       "      <td>0.0</td>\n",
       "      <td>0.0</td>\n",
       "      <td>0.0</td>\n",
       "      <td>0.0</td>\n",
       "      <td>0.0</td>\n",
       "      <td>...</td>\n",
       "      <td>0.0</td>\n",
       "      <td>1.0</td>\n",
       "      <td>0.0</td>\n",
       "      <td>0.0</td>\n",
       "      <td>0.0</td>\n",
       "      <td>0.0</td>\n",
       "      <td>1.0</td>\n",
       "      <td>0.0</td>\n",
       "      <td>1.0</td>\n",
       "      <td>0.0</td>\n",
       "    </tr>\n",
       "    <tr>\n",
       "      <th>24017</th>\n",
       "      <td>82.0</td>\n",
       "      <td>2.0</td>\n",
       "      <td>2.0</td>\n",
       "      <td>0.0</td>\n",
       "      <td>0.0</td>\n",
       "      <td>0.0</td>\n",
       "      <td>0.0</td>\n",
       "      <td>0.0</td>\n",
       "      <td>0.0</td>\n",
       "      <td>0.0</td>\n",
       "      <td>...</td>\n",
       "      <td>0.0</td>\n",
       "      <td>1.0</td>\n",
       "      <td>0.0</td>\n",
       "      <td>0.0</td>\n",
       "      <td>0.0</td>\n",
       "      <td>0.0</td>\n",
       "      <td>1.0</td>\n",
       "      <td>0.0</td>\n",
       "      <td>0.0</td>\n",
       "      <td>1.0</td>\n",
       "    </tr>\n",
       "    <tr>\n",
       "      <th>24018</th>\n",
       "      <td>60.0</td>\n",
       "      <td>2.0</td>\n",
       "      <td>1.0</td>\n",
       "      <td>0.0</td>\n",
       "      <td>0.0</td>\n",
       "      <td>0.0</td>\n",
       "      <td>0.0</td>\n",
       "      <td>0.0</td>\n",
       "      <td>0.0</td>\n",
       "      <td>0.0</td>\n",
       "      <td>...</td>\n",
       "      <td>0.0</td>\n",
       "      <td>1.0</td>\n",
       "      <td>0.0</td>\n",
       "      <td>0.0</td>\n",
       "      <td>0.0</td>\n",
       "      <td>1.0</td>\n",
       "      <td>0.0</td>\n",
       "      <td>0.0</td>\n",
       "      <td>1.0</td>\n",
       "      <td>0.0</td>\n",
       "    </tr>\n",
       "  </tbody>\n",
       "</table>\n",
       "<p>11970 rows × 36 columns</p>\n",
       "</div>"
      ],
      "text/plain": [
       "       DienTich  Phongngu  PhongTam  Quan_ Huyện Củ Chi  Quan_ Huyện Hóc Môn  \\\n",
       "1          95.0       3.0       2.0                 0.0                  0.0   \n",
       "3          70.0       1.0       1.0                 0.0                  0.0   \n",
       "4          83.0       2.0       2.0                 0.0                  0.0   \n",
       "8          50.0       1.0       1.0                 0.0                  0.0   \n",
       "13         80.0       4.0       4.0                 0.0                  0.0   \n",
       "...         ...       ...       ...                 ...                  ...   \n",
       "24013      68.0       2.0       2.0                 0.0                  0.0   \n",
       "24014      53.0       2.0       1.0                 0.0                  0.0   \n",
       "24015      76.0       2.0       1.0                 0.0                  0.0   \n",
       "24017      82.0       2.0       2.0                 0.0                  0.0   \n",
       "24018      60.0       2.0       1.0                 0.0                  0.0   \n",
       "\n",
       "       Quan_ Huyện Nhà Bè  Quan_ Quận 1  Quan_ Quận 10  Quan_ Quận 11  \\\n",
       "1                     0.0           0.0            0.0            0.0   \n",
       "3                     0.0           0.0            0.0            0.0   \n",
       "4                     0.0           0.0            0.0            0.0   \n",
       "8                     0.0           0.0            0.0            0.0   \n",
       "13                    0.0           0.0            0.0            0.0   \n",
       "...                   ...           ...            ...            ...   \n",
       "24013                 0.0           0.0            0.0            0.0   \n",
       "24014                 0.0           0.0            0.0            0.0   \n",
       "24015                 0.0           0.0            0.0            0.0   \n",
       "24017                 0.0           0.0            0.0            0.0   \n",
       "24018                 0.0           0.0            0.0            0.0   \n",
       "\n",
       "       Quan_ Quận 12  ...  Loai_ Tập thể, cư xá  Loai_Chung cư  Loai_Duplex  \\\n",
       "1                0.0  ...                   0.0            1.0          0.0   \n",
       "3                0.0  ...                   0.0            1.0          0.0   \n",
       "4                0.0  ...                   0.0            1.0          0.0   \n",
       "8                0.0  ...                   0.0            1.0          0.0   \n",
       "13               0.0  ...                   0.0            0.0          0.0   \n",
       "...              ...  ...                   ...            ...          ...   \n",
       "24013            0.0  ...                   0.0            1.0          0.0   \n",
       "24014            0.0  ...                   0.0            1.0          0.0   \n",
       "24015            0.0  ...                   0.0            1.0          0.0   \n",
       "24017            0.0  ...                   0.0            1.0          0.0   \n",
       "24018            0.0  ...                   0.0            1.0          0.0   \n",
       "\n",
       "       Loai_Officetel  Loai_Penthouse  GiayTo_Đang chờ sổ  GiayTo_Đã có sổ  \\\n",
       "1                 0.0             0.0                 1.0              0.0   \n",
       "3                 0.0             0.0                 1.0              0.0   \n",
       "4                 0.0             0.0                 0.0              1.0   \n",
       "8                 0.0             0.0                 0.0              1.0   \n",
       "13                0.0             0.0                 1.0              0.0   \n",
       "...               ...             ...                 ...              ...   \n",
       "24013             0.0             0.0                 1.0              0.0   \n",
       "24014             0.0             0.0                 1.0              0.0   \n",
       "24015             0.0             0.0                 0.0              1.0   \n",
       "24017             0.0             0.0                 0.0              1.0   \n",
       "24018             0.0             0.0                 1.0              0.0   \n",
       "\n",
       "       TinhTrangNoiThat_Hoàn thiện cơ bản  TinhTrangNoiThat_Nội thất cao cấp  \\\n",
       "1                                     0.0                                1.0   \n",
       "3                                     0.0                                1.0   \n",
       "4                                     0.0                                1.0   \n",
       "8                                     1.0                                0.0   \n",
       "13                                    0.0                                0.0   \n",
       "...                                   ...                                ...   \n",
       "24013                                 0.0                                1.0   \n",
       "24014                                 1.0                                0.0   \n",
       "24015                                 0.0                                1.0   \n",
       "24017                                 0.0                                0.0   \n",
       "24018                                 0.0                                1.0   \n",
       "\n",
       "       TinhTrangNoiThat_Nội thất đầy đủ  \n",
       "1                                   0.0  \n",
       "3                                   0.0  \n",
       "4                                   0.0  \n",
       "8                                   0.0  \n",
       "13                                  0.0  \n",
       "...                                 ...  \n",
       "24013                               0.0  \n",
       "24014                               0.0  \n",
       "24015                               0.0  \n",
       "24017                               1.0  \n",
       "24018                               0.0  \n",
       "\n",
       "[11970 rows x 36 columns]"
      ]
     },
     "execution_count": 35,
     "metadata": {},
     "output_type": "execute_result"
    }
   ],
   "source": [
    "data_dummies = pd.get_dummies(df_x, drop_first=True)\n",
    "data_dummies = data_dummies.astype(float)\n",
    "cols = data_dummies.columns.values\n",
    "data_preprocessed = data_dummies[cols]\n",
    "data_preprocessed"
   ]
  },
  {
   "cell_type": "markdown",
   "metadata": {},
   "source": [
    "### Scale data về dạng chuẩn"
   ]
  },
  {
   "cell_type": "code",
   "execution_count": 36,
   "metadata": {},
   "outputs": [
    {
     "data": {
      "text/plain": [
       "StandardScaler()"
      ]
     },
     "execution_count": 36,
     "metadata": {},
     "output_type": "execute_result"
    }
   ],
   "source": [
    "scaler = StandardScaler()\n",
    "scaler.fit(data_preprocessed)"
   ]
  },
  {
   "cell_type": "code",
   "execution_count": 37,
   "metadata": {},
   "outputs": [
    {
     "data": {
      "text/plain": [
       "array([[ 0.65660282,  1.2936019 ,  0.40415867, ..., -0.75705817,\n",
       "         1.40443443, -0.62391968],\n",
       "       [-0.10878211, -1.45088848, -1.2492177 , ..., -0.75705817,\n",
       "         1.40443443, -0.62391968],\n",
       "       [ 0.28921806, -0.07864329,  0.40415867, ..., -0.75705817,\n",
       "         1.40443443, -0.62391968],\n",
       "       ...,\n",
       "       [ 0.07491028, -0.07864329, -1.2492177 , ..., -0.75705817,\n",
       "         1.40443443, -0.62391968],\n",
       "       [ 0.25860266, -0.07864329,  0.40415867, ..., -0.75705817,\n",
       "        -0.7120304 ,  1.60277041],\n",
       "       [-0.41493608, -0.07864329, -1.2492177 , ..., -0.75705817,\n",
       "         1.40443443, -0.62391968]])"
      ]
     },
     "execution_count": 37,
     "metadata": {},
     "output_type": "execute_result"
    }
   ],
   "source": [
    "data_preprocessed = scaler.transform(data_preprocessed)\n",
    "data_preprocessed"
   ]
  },
  {
   "cell_type": "markdown",
   "metadata": {},
   "source": [
    "### Split data 80% để train , 20% để test"
   ]
  },
  {
   "cell_type": "code",
   "execution_count": 38,
   "metadata": {},
   "outputs": [],
   "source": [
    "X,X_test,Y,Y_test = train_test_split(data_preprocessed,df_y,test_size=0.2,random_state=365)"
   ]
  },
  {
   "cell_type": "markdown",
   "metadata": {},
   "source": [
    "### Linear"
   ]
  },
  {
   "cell_type": "code",
   "execution_count": 39,
   "metadata": {},
   "outputs": [],
   "source": [
    "reg = LinearRegression().fit(X, Y)"
   ]
  },
  {
   "cell_type": "code",
   "execution_count": 40,
   "metadata": {},
   "outputs": [
    {
     "data": {
      "text/plain": [
       "array([171792.31846417, 235200.74540109,  47600.04948363, ...,\n",
       "       389544.45407788, 204993.75994528,  62389.22504859])"
      ]
     },
     "execution_count": 40,
     "metadata": {},
     "output_type": "execute_result"
    }
   ],
   "source": [
    "reg.predict(X_test)"
   ]
  },
  {
   "cell_type": "code",
   "execution_count": 41,
   "metadata": {},
   "outputs": [
    {
     "data": {
      "text/plain": [
       "16776    154167.0\n",
       "7015     279167.0\n",
       "10472     45417.0\n",
       "15926     80833.0\n",
       "5134      89583.0\n",
       "           ...   \n",
       "10457    106250.0\n",
       "22654    354167.0\n",
       "22251    733333.0\n",
       "863      135417.0\n",
       "5871      68750.0\n",
       "Name: USD, Length: 2394, dtype: float64"
      ]
     },
     "execution_count": 41,
     "metadata": {},
     "output_type": "execute_result"
    }
   ],
   "source": [
    "Y_test"
   ]
  },
  {
   "cell_type": "code",
   "execution_count": 42,
   "metadata": {},
   "outputs": [],
   "source": [
    "Y_pre = reg.predict(X_test)"
   ]
  },
  {
   "cell_type": "code",
   "execution_count": 43,
   "metadata": {},
   "outputs": [],
   "source": [
    "perc = np.abs((Y_pre - Y_test)/Y_test)\n",
    "perc = perc.values*100"
   ]
  },
  {
   "cell_type": "code",
   "execution_count": 44,
   "metadata": {},
   "outputs": [
    {
     "data": {
      "text/plain": [
       "array([[1.71792318e+05, 2.35200745e+05, 4.76000495e+04, ...,\n",
       "        3.89544454e+05, 2.04993760e+05, 6.23892250e+04],\n",
       "       [1.54167000e+05, 2.79167000e+05, 4.54170000e+04, ...,\n",
       "        7.33333000e+05, 1.35417000e+05, 6.87500000e+04],\n",
       "       [1.14326143e+01, 1.57490873e+01, 4.80667918e+00, ...,\n",
       "        4.68802776e+01, 5.13796347e+01, 9.25203629e+00]])"
      ]
     },
     "execution_count": 44,
     "metadata": {},
     "output_type": "execute_result"
    }
   ],
   "source": [
    "np.array([Y_pre, Y_test, perc])"
   ]
  },
  {
   "cell_type": "code",
   "execution_count": 45,
   "metadata": {},
   "outputs": [],
   "source": [
    "data = {'Gia du doan':Y_pre,\n",
    "        'Gia thuc':Y_test,\n",
    "       '% sai lech': perc}\n",
    "A = pd.DataFrame(data)"
   ]
  },
  {
   "cell_type": "code",
   "execution_count": 46,
   "metadata": {},
   "outputs": [
    {
     "data": {
      "text/html": [
       "<div>\n",
       "<style scoped>\n",
       "    .dataframe tbody tr th:only-of-type {\n",
       "        vertical-align: middle;\n",
       "    }\n",
       "\n",
       "    .dataframe tbody tr th {\n",
       "        vertical-align: top;\n",
       "    }\n",
       "\n",
       "    .dataframe thead th {\n",
       "        text-align: right;\n",
       "    }\n",
       "</style>\n",
       "<table border=\"1\" class=\"dataframe\">\n",
       "  <thead>\n",
       "    <tr style=\"text-align: right;\">\n",
       "      <th></th>\n",
       "      <th>Gia du doan</th>\n",
       "      <th>Gia thuc</th>\n",
       "      <th>% sai lech</th>\n",
       "    </tr>\n",
       "  </thead>\n",
       "  <tbody>\n",
       "    <tr>\n",
       "      <th>6195</th>\n",
       "      <td>107938.638007</td>\n",
       "      <td>107917.0</td>\n",
       "      <td>0.020051</td>\n",
       "    </tr>\n",
       "    <tr>\n",
       "      <th>10241</th>\n",
       "      <td>75065.352680</td>\n",
       "      <td>75000.0</td>\n",
       "      <td>0.087137</td>\n",
       "    </tr>\n",
       "    <tr>\n",
       "      <th>22484</th>\n",
       "      <td>72852.208876</td>\n",
       "      <td>72917.0</td>\n",
       "      <td>0.088856</td>\n",
       "    </tr>\n",
       "    <tr>\n",
       "      <th>14900</th>\n",
       "      <td>37535.367367</td>\n",
       "      <td>37500.0</td>\n",
       "      <td>0.094313</td>\n",
       "    </tr>\n",
       "    <tr>\n",
       "      <th>17645</th>\n",
       "      <td>91514.598630</td>\n",
       "      <td>91667.0</td>\n",
       "      <td>0.166255</td>\n",
       "    </tr>\n",
       "    <tr>\n",
       "      <th>...</th>\n",
       "      <td>...</td>\n",
       "      <td>...</td>\n",
       "      <td>...</td>\n",
       "    </tr>\n",
       "    <tr>\n",
       "      <th>23336</th>\n",
       "      <td>114518.397066</td>\n",
       "      <td>123.0</td>\n",
       "      <td>93004.387858</td>\n",
       "    </tr>\n",
       "    <tr>\n",
       "      <th>8012</th>\n",
       "      <td>269504.463744</td>\n",
       "      <td>288.0</td>\n",
       "      <td>93477.938800</td>\n",
       "    </tr>\n",
       "    <tr>\n",
       "      <th>11188</th>\n",
       "      <td>118328.929702</td>\n",
       "      <td>104.0</td>\n",
       "      <td>113677.817022</td>\n",
       "    </tr>\n",
       "    <tr>\n",
       "      <th>16257</th>\n",
       "      <td>99755.967015</td>\n",
       "      <td>85.0</td>\n",
       "      <td>117259.961194</td>\n",
       "    </tr>\n",
       "    <tr>\n",
       "      <th>10148</th>\n",
       "      <td>207109.421315</td>\n",
       "      <td>146.0</td>\n",
       "      <td>141755.768024</td>\n",
       "    </tr>\n",
       "  </tbody>\n",
       "</table>\n",
       "<p>2394 rows × 3 columns</p>\n",
       "</div>"
      ],
      "text/plain": [
       "         Gia du doan  Gia thuc     % sai lech\n",
       "6195   107938.638007  107917.0       0.020051\n",
       "10241   75065.352680   75000.0       0.087137\n",
       "22484   72852.208876   72917.0       0.088856\n",
       "14900   37535.367367   37500.0       0.094313\n",
       "17645   91514.598630   91667.0       0.166255\n",
       "...              ...       ...            ...\n",
       "23336  114518.397066     123.0   93004.387858\n",
       "8012   269504.463744     288.0   93477.938800\n",
       "11188  118328.929702     104.0  113677.817022\n",
       "16257   99755.967015      85.0  117259.961194\n",
       "10148  207109.421315     146.0  141755.768024\n",
       "\n",
       "[2394 rows x 3 columns]"
      ]
     },
     "execution_count": 46,
     "metadata": {},
     "output_type": "execute_result"
    }
   ],
   "source": [
    "B = A.sort_values(by=['% sai lech'])\n",
    "B"
   ]
  },
  {
   "cell_type": "code",
   "execution_count": 47,
   "metadata": {},
   "outputs": [
    {
     "data": {
      "text/plain": [
       "count      2394.000000\n",
       "mean        584.555107\n",
       "std        6473.685126\n",
       "min           0.020051\n",
       "25%           9.499406\n",
       "50%          20.165584\n",
       "75%          44.027174\n",
       "max      141755.768024\n",
       "Name: % sai lech, dtype: float64"
      ]
     },
     "execution_count": 47,
     "metadata": {},
     "output_type": "execute_result"
    }
   ],
   "source": [
    "B['% sai lech'].describe()"
   ]
  },
  {
   "cell_type": "markdown",
   "metadata": {},
   "source": [
    "**Nhận xét:** Có thể thấy mô hình fit với những căn nhà có giá thấp cho tới trung bình . Còn những căn nhà ở mức cao thì các thông số đưa ra trong bộ dataset sẽ không còn ảnh hưởng tới mức giá nữa (đặc biệt là những outliner mạnh hay những data nhiễu được đưa vào thì dự đoán sẽ sai lệch rất lớn )"
   ]
  },
  {
   "cell_type": "markdown",
   "metadata": {},
   "source": [
    "### Tính sai lệch trung bình"
   ]
  },
  {
   "cell_type": "code",
   "execution_count": 48,
   "metadata": {},
   "outputs": [
    {
     "data": {
      "text/plain": [
       "77355.6755821147"
      ]
     },
     "execution_count": 48,
     "metadata": {},
     "output_type": "execute_result"
    }
   ],
   "source": [
    "(sum((reg.predict(X_test) - Y_test)**2)/len(Y_test))**0.5"
   ]
  },
  {
   "cell_type": "markdown",
   "metadata": {},
   "source": [
    "**Nhận xét:** Sai lệch trung bình của dataset là khoảng 77355 usd với lý do đã kể trên "
   ]
  },
  {
   "cell_type": "markdown",
   "metadata": {},
   "source": [
    "## 3.2 Kết hợp logistic regression và linear regression"
   ]
  },
  {
   "cell_type": "code",
   "execution_count": 49,
   "metadata": {},
   "outputs": [],
   "source": [
    "from sklearn.linear_model import LogisticRegression \n",
    "from sklearn.metrics import accuracy_score  \n",
    "df= pd.read_csv('dataset.csv')"
   ]
  },
  {
   "cell_type": "code",
   "execution_count": 50,
   "metadata": {},
   "outputs": [],
   "source": [
    "df['Rank'] = df.USD.copy()"
   ]
  },
  {
   "cell_type": "markdown",
   "metadata": {},
   "source": [
    "**Ý tưởng:** Chia giá tiền các căn chung cư thành 4 mức giá từ thấp -> cao và thực hiện logis data dựa theo mức rank này. Mỗi data test được đưa vào sẽ được phân loại vào 1 trong 4 mức kể trên . Từ đó lựa chọn mô hình linear phù hợp để chạy thuật toán dự đoán cho ra kq tốt nhất"
   ]
  },
  {
   "cell_type": "code",
   "execution_count": 51,
   "metadata": {},
   "outputs": [],
   "source": [
    "df['Rank'][df['USD'] < 50000] = 1\n",
    "df['Rank'][(df['USD'] >= 50000) & (df['USD'] < 100000)] = 2\n",
    "df['Rank'][(df['USD'] >= 100000) & (df['USD'] < 150000)] = 3\n",
    "df['Rank'][df['USD'] >= 150000] = 4"
   ]
  },
  {
   "cell_type": "code",
   "execution_count": 52,
   "metadata": {},
   "outputs": [
    {
     "data": {
      "text/html": [
       "<div>\n",
       "<style scoped>\n",
       "    .dataframe tbody tr th:only-of-type {\n",
       "        vertical-align: middle;\n",
       "    }\n",
       "\n",
       "    .dataframe tbody tr th {\n",
       "        vertical-align: top;\n",
       "    }\n",
       "\n",
       "    .dataframe thead th {\n",
       "        text-align: right;\n",
       "    }\n",
       "</style>\n",
       "<table border=\"1\" class=\"dataframe\">\n",
       "  <thead>\n",
       "    <tr style=\"text-align: right;\">\n",
       "      <th></th>\n",
       "      <th>DiaChi</th>\n",
       "      <th>Quan</th>\n",
       "      <th>TinhTrangBDS</th>\n",
       "      <th>DienTich</th>\n",
       "      <th>Phongngu</th>\n",
       "      <th>PhongTam</th>\n",
       "      <th>Loai</th>\n",
       "      <th>GiayTo</th>\n",
       "      <th>TinhTrangNoiThat</th>\n",
       "      <th>Gia</th>\n",
       "      <th>USD</th>\n",
       "      <th>log_price</th>\n",
       "      <th>Rank</th>\n",
       "    </tr>\n",
       "  </thead>\n",
       "  <tbody>\n",
       "    <tr>\n",
       "      <th>1</th>\n",
       "      <td>Đường Nguyễn Văn Linh, Phường Tân Thuận Tây, Q...</td>\n",
       "      <td>Quận 7</td>\n",
       "      <td>Đã bàn giao</td>\n",
       "      <td>95.0</td>\n",
       "      <td>3.0</td>\n",
       "      <td>2.0</td>\n",
       "      <td>Chung cư</td>\n",
       "      <td>Đang chờ sổ</td>\n",
       "      <td>Nội thất cao cấp</td>\n",
       "      <td>5.300000e+09</td>\n",
       "      <td>220833.0</td>\n",
       "      <td>12.305162</td>\n",
       "      <td>4.0</td>\n",
       "    </tr>\n",
       "    <tr>\n",
       "      <th>3</th>\n",
       "      <td>108, Đường Hồng Hà, Phường 2, Quận Tân Bình, T...</td>\n",
       "      <td>Quận Tân Bình</td>\n",
       "      <td>Đã bàn giao</td>\n",
       "      <td>70.0</td>\n",
       "      <td>1.0</td>\n",
       "      <td>1.0</td>\n",
       "      <td>Chung cư</td>\n",
       "      <td>Đang chờ sổ</td>\n",
       "      <td>Nội thất cao cấp</td>\n",
       "      <td>4.000000e+09</td>\n",
       "      <td>166667.0</td>\n",
       "      <td>12.023753</td>\n",
       "      <td>4.0</td>\n",
       "    </tr>\n",
       "    <tr>\n",
       "      <th>4</th>\n",
       "      <td>Đường Hậu Giang, Phường 11, Quận 6, Tp Hồ Chí ...</td>\n",
       "      <td>Quận 6</td>\n",
       "      <td>Đã bàn giao</td>\n",
       "      <td>83.0</td>\n",
       "      <td>2.0</td>\n",
       "      <td>2.0</td>\n",
       "      <td>Chung cư</td>\n",
       "      <td>Đã có sổ</td>\n",
       "      <td>Nội thất cao cấp</td>\n",
       "      <td>2.950000e+09</td>\n",
       "      <td>122917.0</td>\n",
       "      <td>11.719265</td>\n",
       "      <td>3.0</td>\n",
       "    </tr>\n",
       "    <tr>\n",
       "      <th>8</th>\n",
       "      <td>Đường Hồ Học Lãm, Phường An Lạc, Quận Bình Tân...</td>\n",
       "      <td>Quận Bình Tân</td>\n",
       "      <td>Đã bàn giao</td>\n",
       "      <td>50.0</td>\n",
       "      <td>1.0</td>\n",
       "      <td>1.0</td>\n",
       "      <td>Chung cư</td>\n",
       "      <td>Đã có sổ</td>\n",
       "      <td>Hoàn thiện cơ bản</td>\n",
       "      <td>1.390000e+09</td>\n",
       "      <td>57917.0</td>\n",
       "      <td>10.966766</td>\n",
       "      <td>2.0</td>\n",
       "    </tr>\n",
       "    <tr>\n",
       "      <th>13</th>\n",
       "      <td>Đường Số 45, Phường Trường Thạnh, Quận 9, Tp H...</td>\n",
       "      <td>Quận 9</td>\n",
       "      <td>Đã bàn giao</td>\n",
       "      <td>80.0</td>\n",
       "      <td>4.0</td>\n",
       "      <td>4.0</td>\n",
       "      <td>Căn hộ dịch vụ, mini</td>\n",
       "      <td>Đang chờ sổ</td>\n",
       "      <td>Bàn giao thô</td>\n",
       "      <td>4.500000e+09</td>\n",
       "      <td>187500.0</td>\n",
       "      <td>12.141534</td>\n",
       "      <td>4.0</td>\n",
       "    </tr>\n",
       "    <tr>\n",
       "      <th>...</th>\n",
       "      <td>...</td>\n",
       "      <td>...</td>\n",
       "      <td>...</td>\n",
       "      <td>...</td>\n",
       "      <td>...</td>\n",
       "      <td>...</td>\n",
       "      <td>...</td>\n",
       "      <td>...</td>\n",
       "      <td>...</td>\n",
       "      <td>...</td>\n",
       "      <td>...</td>\n",
       "      <td>...</td>\n",
       "      <td>...</td>\n",
       "    </tr>\n",
       "    <tr>\n",
       "      <th>24013</th>\n",
       "      <td>Đường Tạ Quang Bửu, Phường 6, Quận 8, Tp Hồ Ch...</td>\n",
       "      <td>Quận 8</td>\n",
       "      <td>Đã bàn giao</td>\n",
       "      <td>68.0</td>\n",
       "      <td>2.0</td>\n",
       "      <td>2.0</td>\n",
       "      <td>Chung cư</td>\n",
       "      <td>Đang chờ sổ</td>\n",
       "      <td>Nội thất cao cấp</td>\n",
       "      <td>2.450000e+09</td>\n",
       "      <td>102083.0</td>\n",
       "      <td>11.533541</td>\n",
       "      <td>3.0</td>\n",
       "    </tr>\n",
       "    <tr>\n",
       "      <th>24014</th>\n",
       "      <td>Đường Xa lộ Hà Nội, Phường Hiệp Phú, Quận 9, T...</td>\n",
       "      <td>Quận 9</td>\n",
       "      <td>Đã bàn giao</td>\n",
       "      <td>53.0</td>\n",
       "      <td>2.0</td>\n",
       "      <td>1.0</td>\n",
       "      <td>Chung cư</td>\n",
       "      <td>Đang chờ sổ</td>\n",
       "      <td>Hoàn thiện cơ bản</td>\n",
       "      <td>2.100000e+09</td>\n",
       "      <td>87500.0</td>\n",
       "      <td>11.379394</td>\n",
       "      <td>2.0</td>\n",
       "    </tr>\n",
       "    <tr>\n",
       "      <th>24015</th>\n",
       "      <td>Lô 11B KĐT Nam Thành Phố, Lô 11B KĐT Nam Thành...</td>\n",
       "      <td>Huyện Bình Chánh</td>\n",
       "      <td>Đã bàn giao</td>\n",
       "      <td>76.0</td>\n",
       "      <td>2.0</td>\n",
       "      <td>1.0</td>\n",
       "      <td>Chung cư</td>\n",
       "      <td>Đã có sổ</td>\n",
       "      <td>Nội thất cao cấp</td>\n",
       "      <td>1.550000e+09</td>\n",
       "      <td>64583.0</td>\n",
       "      <td>11.075706</td>\n",
       "      <td>2.0</td>\n",
       "    </tr>\n",
       "    <tr>\n",
       "      <th>24017</th>\n",
       "      <td>Đường Phạm Văn Đồng, Phường 13, Quận Bình Thạn...</td>\n",
       "      <td>Quận Bình Thạnh</td>\n",
       "      <td>Đã bàn giao</td>\n",
       "      <td>82.0</td>\n",
       "      <td>2.0</td>\n",
       "      <td>2.0</td>\n",
       "      <td>Chung cư</td>\n",
       "      <td>Đã có sổ</td>\n",
       "      <td>Nội thất đầy đủ</td>\n",
       "      <td>2.650000e+09</td>\n",
       "      <td>110417.0</td>\n",
       "      <td>11.612019</td>\n",
       "      <td>3.0</td>\n",
       "    </tr>\n",
       "    <tr>\n",
       "      <th>24018</th>\n",
       "      <td>765 đường Hồng Bàng, Phường 6, Quận 6, Hồ Chí ...</td>\n",
       "      <td>Quận 6</td>\n",
       "      <td>Chưa bàn giao</td>\n",
       "      <td>60.0</td>\n",
       "      <td>2.0</td>\n",
       "      <td>1.0</td>\n",
       "      <td>Chung cư</td>\n",
       "      <td>Đang chờ sổ</td>\n",
       "      <td>Nội thất cao cấp</td>\n",
       "      <td>1.900000e+09</td>\n",
       "      <td>79167.0</td>\n",
       "      <td>11.279315</td>\n",
       "      <td>2.0</td>\n",
       "    </tr>\n",
       "  </tbody>\n",
       "</table>\n",
       "<p>11970 rows × 13 columns</p>\n",
       "</div>"
      ],
      "text/plain": [
       "                                                  DiaChi               Quan  \\\n",
       "1      Đường Nguyễn Văn Linh, Phường Tân Thuận Tây, Q...             Quận 7   \n",
       "3      108, Đường Hồng Hà, Phường 2, Quận Tân Bình, T...      Quận Tân Bình   \n",
       "4      Đường Hậu Giang, Phường 11, Quận 6, Tp Hồ Chí ...             Quận 6   \n",
       "8      Đường Hồ Học Lãm, Phường An Lạc, Quận Bình Tân...      Quận Bình Tân   \n",
       "13     Đường Số 45, Phường Trường Thạnh, Quận 9, Tp H...             Quận 9   \n",
       "...                                                  ...                ...   \n",
       "24013  Đường Tạ Quang Bửu, Phường 6, Quận 8, Tp Hồ Ch...             Quận 8   \n",
       "24014  Đường Xa lộ Hà Nội, Phường Hiệp Phú, Quận 9, T...             Quận 9   \n",
       "24015  Lô 11B KĐT Nam Thành Phố, Lô 11B KĐT Nam Thành...   Huyện Bình Chánh   \n",
       "24017  Đường Phạm Văn Đồng, Phường 13, Quận Bình Thạn...    Quận Bình Thạnh   \n",
       "24018  765 đường Hồng Bàng, Phường 6, Quận 6, Hồ Chí ...             Quận 6   \n",
       "\n",
       "        TinhTrangBDS  DienTich  Phongngu  PhongTam                   Loai  \\\n",
       "1        Đã bàn giao      95.0       3.0       2.0               Chung cư   \n",
       "3        Đã bàn giao      70.0       1.0       1.0               Chung cư   \n",
       "4        Đã bàn giao      83.0       2.0       2.0               Chung cư   \n",
       "8        Đã bàn giao      50.0       1.0       1.0               Chung cư   \n",
       "13       Đã bàn giao      80.0       4.0       4.0   Căn hộ dịch vụ, mini   \n",
       "...              ...       ...       ...       ...                    ...   \n",
       "24013    Đã bàn giao      68.0       2.0       2.0               Chung cư   \n",
       "24014    Đã bàn giao      53.0       2.0       1.0               Chung cư   \n",
       "24015    Đã bàn giao      76.0       2.0       1.0               Chung cư   \n",
       "24017    Đã bàn giao      82.0       2.0       2.0               Chung cư   \n",
       "24018  Chưa bàn giao      60.0       2.0       1.0               Chung cư   \n",
       "\n",
       "            GiayTo   TinhTrangNoiThat           Gia       USD  log_price  Rank  \n",
       "1      Đang chờ sổ   Nội thất cao cấp  5.300000e+09  220833.0  12.305162   4.0  \n",
       "3      Đang chờ sổ   Nội thất cao cấp  4.000000e+09  166667.0  12.023753   4.0  \n",
       "4         Đã có sổ   Nội thất cao cấp  2.950000e+09  122917.0  11.719265   3.0  \n",
       "8         Đã có sổ  Hoàn thiện cơ bản  1.390000e+09   57917.0  10.966766   2.0  \n",
       "13     Đang chờ sổ       Bàn giao thô  4.500000e+09  187500.0  12.141534   4.0  \n",
       "...            ...                ...           ...       ...        ...   ...  \n",
       "24013  Đang chờ sổ   Nội thất cao cấp  2.450000e+09  102083.0  11.533541   3.0  \n",
       "24014  Đang chờ sổ  Hoàn thiện cơ bản  2.100000e+09   87500.0  11.379394   2.0  \n",
       "24015     Đã có sổ   Nội thất cao cấp  1.550000e+09   64583.0  11.075706   2.0  \n",
       "24017     Đã có sổ    Nội thất đầy đủ  2.650000e+09  110417.0  11.612019   3.0  \n",
       "24018  Đang chờ sổ   Nội thất cao cấp  1.900000e+09   79167.0  11.279315   2.0  \n",
       "\n",
       "[11970 rows x 13 columns]"
      ]
     },
     "execution_count": 52,
     "metadata": {},
     "output_type": "execute_result"
    }
   ],
   "source": [
    "df_dropped = df.dropna(axis=1,thresh=int(df.shape[0]*per))\n",
    "df_dropped_2 = df_dropped.dropna(how='any')\n",
    "df_dropped_2"
   ]
  },
  {
   "cell_type": "code",
   "execution_count": 53,
   "metadata": {},
   "outputs": [
    {
     "data": {
      "text/html": [
       "<div>\n",
       "<style scoped>\n",
       "    .dataframe tbody tr th:only-of-type {\n",
       "        vertical-align: middle;\n",
       "    }\n",
       "\n",
       "    .dataframe tbody tr th {\n",
       "        vertical-align: top;\n",
       "    }\n",
       "\n",
       "    .dataframe thead th {\n",
       "        text-align: right;\n",
       "    }\n",
       "</style>\n",
       "<table border=\"1\" class=\"dataframe\">\n",
       "  <thead>\n",
       "    <tr style=\"text-align: right;\">\n",
       "      <th></th>\n",
       "      <th>Quan</th>\n",
       "      <th>TinhTrangBDS</th>\n",
       "      <th>DienTich</th>\n",
       "      <th>Phongngu</th>\n",
       "      <th>PhongTam</th>\n",
       "      <th>Loai</th>\n",
       "      <th>GiayTo</th>\n",
       "      <th>TinhTrangNoiThat</th>\n",
       "    </tr>\n",
       "  </thead>\n",
       "  <tbody>\n",
       "    <tr>\n",
       "      <th>1</th>\n",
       "      <td>Quận 7</td>\n",
       "      <td>Đã bàn giao</td>\n",
       "      <td>95.0</td>\n",
       "      <td>3.0</td>\n",
       "      <td>2.0</td>\n",
       "      <td>Chung cư</td>\n",
       "      <td>Đang chờ sổ</td>\n",
       "      <td>Nội thất cao cấp</td>\n",
       "    </tr>\n",
       "    <tr>\n",
       "      <th>3</th>\n",
       "      <td>Quận Tân Bình</td>\n",
       "      <td>Đã bàn giao</td>\n",
       "      <td>70.0</td>\n",
       "      <td>1.0</td>\n",
       "      <td>1.0</td>\n",
       "      <td>Chung cư</td>\n",
       "      <td>Đang chờ sổ</td>\n",
       "      <td>Nội thất cao cấp</td>\n",
       "    </tr>\n",
       "    <tr>\n",
       "      <th>4</th>\n",
       "      <td>Quận 6</td>\n",
       "      <td>Đã bàn giao</td>\n",
       "      <td>83.0</td>\n",
       "      <td>2.0</td>\n",
       "      <td>2.0</td>\n",
       "      <td>Chung cư</td>\n",
       "      <td>Đã có sổ</td>\n",
       "      <td>Nội thất cao cấp</td>\n",
       "    </tr>\n",
       "    <tr>\n",
       "      <th>8</th>\n",
       "      <td>Quận Bình Tân</td>\n",
       "      <td>Đã bàn giao</td>\n",
       "      <td>50.0</td>\n",
       "      <td>1.0</td>\n",
       "      <td>1.0</td>\n",
       "      <td>Chung cư</td>\n",
       "      <td>Đã có sổ</td>\n",
       "      <td>Hoàn thiện cơ bản</td>\n",
       "    </tr>\n",
       "    <tr>\n",
       "      <th>13</th>\n",
       "      <td>Quận 9</td>\n",
       "      <td>Đã bàn giao</td>\n",
       "      <td>80.0</td>\n",
       "      <td>4.0</td>\n",
       "      <td>4.0</td>\n",
       "      <td>Căn hộ dịch vụ, mini</td>\n",
       "      <td>Đang chờ sổ</td>\n",
       "      <td>Bàn giao thô</td>\n",
       "    </tr>\n",
       "    <tr>\n",
       "      <th>...</th>\n",
       "      <td>...</td>\n",
       "      <td>...</td>\n",
       "      <td>...</td>\n",
       "      <td>...</td>\n",
       "      <td>...</td>\n",
       "      <td>...</td>\n",
       "      <td>...</td>\n",
       "      <td>...</td>\n",
       "    </tr>\n",
       "    <tr>\n",
       "      <th>24013</th>\n",
       "      <td>Quận 8</td>\n",
       "      <td>Đã bàn giao</td>\n",
       "      <td>68.0</td>\n",
       "      <td>2.0</td>\n",
       "      <td>2.0</td>\n",
       "      <td>Chung cư</td>\n",
       "      <td>Đang chờ sổ</td>\n",
       "      <td>Nội thất cao cấp</td>\n",
       "    </tr>\n",
       "    <tr>\n",
       "      <th>24014</th>\n",
       "      <td>Quận 9</td>\n",
       "      <td>Đã bàn giao</td>\n",
       "      <td>53.0</td>\n",
       "      <td>2.0</td>\n",
       "      <td>1.0</td>\n",
       "      <td>Chung cư</td>\n",
       "      <td>Đang chờ sổ</td>\n",
       "      <td>Hoàn thiện cơ bản</td>\n",
       "    </tr>\n",
       "    <tr>\n",
       "      <th>24015</th>\n",
       "      <td>Huyện Bình Chánh</td>\n",
       "      <td>Đã bàn giao</td>\n",
       "      <td>76.0</td>\n",
       "      <td>2.0</td>\n",
       "      <td>1.0</td>\n",
       "      <td>Chung cư</td>\n",
       "      <td>Đã có sổ</td>\n",
       "      <td>Nội thất cao cấp</td>\n",
       "    </tr>\n",
       "    <tr>\n",
       "      <th>24017</th>\n",
       "      <td>Quận Bình Thạnh</td>\n",
       "      <td>Đã bàn giao</td>\n",
       "      <td>82.0</td>\n",
       "      <td>2.0</td>\n",
       "      <td>2.0</td>\n",
       "      <td>Chung cư</td>\n",
       "      <td>Đã có sổ</td>\n",
       "      <td>Nội thất đầy đủ</td>\n",
       "    </tr>\n",
       "    <tr>\n",
       "      <th>24018</th>\n",
       "      <td>Quận 6</td>\n",
       "      <td>Chưa bàn giao</td>\n",
       "      <td>60.0</td>\n",
       "      <td>2.0</td>\n",
       "      <td>1.0</td>\n",
       "      <td>Chung cư</td>\n",
       "      <td>Đang chờ sổ</td>\n",
       "      <td>Nội thất cao cấp</td>\n",
       "    </tr>\n",
       "  </tbody>\n",
       "</table>\n",
       "<p>11970 rows × 8 columns</p>\n",
       "</div>"
      ],
      "text/plain": [
       "                    Quan   TinhTrangBDS  DienTich  Phongngu  PhongTam  \\\n",
       "1                 Quận 7    Đã bàn giao      95.0       3.0       2.0   \n",
       "3          Quận Tân Bình    Đã bàn giao      70.0       1.0       1.0   \n",
       "4                 Quận 6    Đã bàn giao      83.0       2.0       2.0   \n",
       "8          Quận Bình Tân    Đã bàn giao      50.0       1.0       1.0   \n",
       "13                Quận 9    Đã bàn giao      80.0       4.0       4.0   \n",
       "...                  ...            ...       ...       ...       ...   \n",
       "24013             Quận 8    Đã bàn giao      68.0       2.0       2.0   \n",
       "24014             Quận 9    Đã bàn giao      53.0       2.0       1.0   \n",
       "24015   Huyện Bình Chánh    Đã bàn giao      76.0       2.0       1.0   \n",
       "24017    Quận Bình Thạnh    Đã bàn giao      82.0       2.0       2.0   \n",
       "24018             Quận 6  Chưa bàn giao      60.0       2.0       1.0   \n",
       "\n",
       "                        Loai       GiayTo   TinhTrangNoiThat  \n",
       "1                   Chung cư  Đang chờ sổ   Nội thất cao cấp  \n",
       "3                   Chung cư  Đang chờ sổ   Nội thất cao cấp  \n",
       "4                   Chung cư     Đã có sổ   Nội thất cao cấp  \n",
       "8                   Chung cư     Đã có sổ  Hoàn thiện cơ bản  \n",
       "13      Căn hộ dịch vụ, mini  Đang chờ sổ       Bàn giao thô  \n",
       "...                      ...          ...                ...  \n",
       "24013               Chung cư  Đang chờ sổ   Nội thất cao cấp  \n",
       "24014               Chung cư  Đang chờ sổ  Hoàn thiện cơ bản  \n",
       "24015               Chung cư     Đã có sổ   Nội thất cao cấp  \n",
       "24017               Chung cư     Đã có sổ    Nội thất đầy đủ  \n",
       "24018               Chung cư  Đang chờ sổ   Nội thất cao cấp  \n",
       "\n",
       "[11970 rows x 8 columns]"
      ]
     },
     "execution_count": 53,
     "metadata": {},
     "output_type": "execute_result"
    }
   ],
   "source": [
    "df_x = df_dropped_2.iloc[:, 1:9]\n",
    "df_x"
   ]
  },
  {
   "cell_type": "code",
   "execution_count": 54,
   "metadata": {},
   "outputs": [],
   "source": [
    "data_dummies = pd.get_dummies(df_x, drop_first=True)\n",
    "data_dummies = data_dummies.astype(float)\n",
    "cols = data_dummies.columns.values\n",
    "data_preprocessed = data_dummies[cols]"
   ]
  },
  {
   "cell_type": "code",
   "execution_count": 55,
   "metadata": {},
   "outputs": [
    {
     "data": {
      "text/html": [
       "<div>\n",
       "<style scoped>\n",
       "    .dataframe tbody tr th:only-of-type {\n",
       "        vertical-align: middle;\n",
       "    }\n",
       "\n",
       "    .dataframe tbody tr th {\n",
       "        vertical-align: top;\n",
       "    }\n",
       "\n",
       "    .dataframe thead th {\n",
       "        text-align: right;\n",
       "    }\n",
       "</style>\n",
       "<table border=\"1\" class=\"dataframe\">\n",
       "  <thead>\n",
       "    <tr style=\"text-align: right;\">\n",
       "      <th></th>\n",
       "      <th>USD</th>\n",
       "      <th>log_price</th>\n",
       "      <th>Rank</th>\n",
       "    </tr>\n",
       "  </thead>\n",
       "  <tbody>\n",
       "    <tr>\n",
       "      <th>1</th>\n",
       "      <td>220833.0</td>\n",
       "      <td>12.305162</td>\n",
       "      <td>4.0</td>\n",
       "    </tr>\n",
       "    <tr>\n",
       "      <th>3</th>\n",
       "      <td>166667.0</td>\n",
       "      <td>12.023753</td>\n",
       "      <td>4.0</td>\n",
       "    </tr>\n",
       "    <tr>\n",
       "      <th>4</th>\n",
       "      <td>122917.0</td>\n",
       "      <td>11.719265</td>\n",
       "      <td>3.0</td>\n",
       "    </tr>\n",
       "    <tr>\n",
       "      <th>8</th>\n",
       "      <td>57917.0</td>\n",
       "      <td>10.966766</td>\n",
       "      <td>2.0</td>\n",
       "    </tr>\n",
       "    <tr>\n",
       "      <th>13</th>\n",
       "      <td>187500.0</td>\n",
       "      <td>12.141534</td>\n",
       "      <td>4.0</td>\n",
       "    </tr>\n",
       "    <tr>\n",
       "      <th>...</th>\n",
       "      <td>...</td>\n",
       "      <td>...</td>\n",
       "      <td>...</td>\n",
       "    </tr>\n",
       "    <tr>\n",
       "      <th>24013</th>\n",
       "      <td>102083.0</td>\n",
       "      <td>11.533541</td>\n",
       "      <td>3.0</td>\n",
       "    </tr>\n",
       "    <tr>\n",
       "      <th>24014</th>\n",
       "      <td>87500.0</td>\n",
       "      <td>11.379394</td>\n",
       "      <td>2.0</td>\n",
       "    </tr>\n",
       "    <tr>\n",
       "      <th>24015</th>\n",
       "      <td>64583.0</td>\n",
       "      <td>11.075706</td>\n",
       "      <td>2.0</td>\n",
       "    </tr>\n",
       "    <tr>\n",
       "      <th>24017</th>\n",
       "      <td>110417.0</td>\n",
       "      <td>11.612019</td>\n",
       "      <td>3.0</td>\n",
       "    </tr>\n",
       "    <tr>\n",
       "      <th>24018</th>\n",
       "      <td>79167.0</td>\n",
       "      <td>11.279315</td>\n",
       "      <td>2.0</td>\n",
       "    </tr>\n",
       "  </tbody>\n",
       "</table>\n",
       "<p>11970 rows × 3 columns</p>\n",
       "</div>"
      ],
      "text/plain": [
       "            USD  log_price  Rank\n",
       "1      220833.0  12.305162   4.0\n",
       "3      166667.0  12.023753   4.0\n",
       "4      122917.0  11.719265   3.0\n",
       "8       57917.0  10.966766   2.0\n",
       "13     187500.0  12.141534   4.0\n",
       "...         ...        ...   ...\n",
       "24013  102083.0  11.533541   3.0\n",
       "24014   87500.0  11.379394   2.0\n",
       "24015   64583.0  11.075706   2.0\n",
       "24017  110417.0  11.612019   3.0\n",
       "24018   79167.0  11.279315   2.0\n",
       "\n",
       "[11970 rows x 3 columns]"
      ]
     },
     "execution_count": 55,
     "metadata": {},
     "output_type": "execute_result"
    }
   ],
   "source": [
    "df_y = df_dropped_2.iloc[:, 10:13]\n",
    "df_y"
   ]
  },
  {
   "cell_type": "code",
   "execution_count": 56,
   "metadata": {},
   "outputs": [],
   "source": [
    "X,X_test,Y,Y_test = train_test_split(data_preprocessed,df_y,test_size=0.2,random_state=365)"
   ]
  },
  {
   "cell_type": "code",
   "execution_count": 57,
   "metadata": {},
   "outputs": [
    {
     "data": {
      "text/plain": [
       "LogisticRegression()"
      ]
     },
     "execution_count": 57,
     "metadata": {},
     "output_type": "execute_result"
    }
   ],
   "source": [
    "Rank = Y.iloc[:, 2]\n",
    "lr = LogisticRegression()  \n",
    "lr.fit(X, Rank)"
   ]
  },
  {
   "cell_type": "code",
   "execution_count": 58,
   "metadata": {},
   "outputs": [],
   "source": [
    "y_pre = lr.predict(X_test)"
   ]
  },
  {
   "cell_type": "code",
   "execution_count": 59,
   "metadata": {},
   "outputs": [
    {
     "data": {
      "text/plain": [
       "67.33500417710944"
      ]
     },
     "execution_count": 59,
     "metadata": {},
     "output_type": "execute_result"
    }
   ],
   "source": [
    "Rank_test = Y_test.iloc[:, 2]\n",
    "accuracy = accuracy_score(Rank_test, y_pre)*100 \n",
    "accuracy"
   ]
  },
  {
   "cell_type": "markdown",
   "metadata": {},
   "source": [
    "Độ chính xác của phân loại data theo rank là 67%"
   ]
  },
  {
   "cell_type": "code",
   "execution_count": 60,
   "metadata": {},
   "outputs": [],
   "source": [
    "X['USD'] = Y.iloc[:, 0]"
   ]
  },
  {
   "cell_type": "code",
   "execution_count": 61,
   "metadata": {},
   "outputs": [],
   "source": [
    "df_1 = X[X['USD'] < 50000]\n",
    "df_2 = X[(X['USD'] >= 50000) & (X['USD'] < 100000)]\n",
    "df_3 = X[(X['USD'] >= 100000) & (X['USD'] < 150000)]\n",
    "df_4 = X[X['USD'] < 50000]"
   ]
  },
  {
   "cell_type": "code",
   "execution_count": 62,
   "metadata": {},
   "outputs": [],
   "source": [
    "df_1_x = df_1.iloc[:, :36]\n",
    "df_1_y = df_1.iloc[:, 36]\n",
    "\n",
    "df_2_x = df_2.iloc[:, :36]\n",
    "df_2_y = df_2.iloc[:, 36]\n",
    "\n",
    "df_3_x = df_3.iloc[:, :36]\n",
    "df_3_y = df_3.iloc[:, 36]\n",
    "\n",
    "df_4_x = df_4.iloc[:, :36]\n",
    "df_4_y = df_4.iloc[:, 36]"
   ]
  },
  {
   "cell_type": "code",
   "execution_count": 63,
   "metadata": {},
   "outputs": [],
   "source": [
    "reg_1 = LinearRegression().fit(df_1_x, df_1_y)\n",
    "reg_2 = LinearRegression().fit(df_2_x, df_2_y)\n",
    "reg_3 = LinearRegression().fit(df_3_x, df_3_y)\n",
    "reg_4 = LinearRegression().fit(df_4_x, df_4_y)"
   ]
  },
  {
   "cell_type": "code",
   "execution_count": 64,
   "metadata": {},
   "outputs": [],
   "source": [
    "rank_pre = lr.predict(X_test)"
   ]
  },
  {
   "cell_type": "code",
   "execution_count": 65,
   "metadata": {},
   "outputs": [
    {
     "data": {
      "text/plain": [
       "(array([1., 2., 3., 4.]), array([267, 872, 560, 695]))"
      ]
     },
     "execution_count": 65,
     "metadata": {},
     "output_type": "execute_result"
    }
   ],
   "source": [
    "np.unique(rank_pre, return_counts=True)"
   ]
  },
  {
   "cell_type": "markdown",
   "metadata": {},
   "source": [
    "Có thể thấy những data có rank = 4 chiếm khá nhiều trong dataset nên % độ sai lệch có thể sẽ khá cao "
   ]
  },
  {
   "cell_type": "code",
   "execution_count": 66,
   "metadata": {},
   "outputs": [],
   "source": [
    "y_pre = []\n",
    "for i in range(0, len(rank_pre)):\n",
    "    if rank_pre[i] == 1:\n",
    "        y_pre.append(reg_1.predict(np.array([X_test.iloc[i]])))\n",
    "    elif rank_pre[i] == 2:\n",
    "        y_pre.append(reg_2.predict(np.array([X_test.iloc[i]])))\n",
    "    elif rank_pre[i] == 3:\n",
    "        y_pre.append(reg_3.predict(np.array([X_test.iloc[i]])))\n",
    "    elif rank_pre[i] == 4:\n",
    "        y_pre.append(reg_4.predict(np.array([X_test.iloc[i]])))"
   ]
  },
  {
   "cell_type": "code",
   "execution_count": 67,
   "metadata": {},
   "outputs": [
    {
     "data": {
      "text/plain": [
       "array([27028.10521117])"
      ]
     },
     "execution_count": 67,
     "metadata": {},
     "output_type": "execute_result"
    }
   ],
   "source": [
    "y_pre[0]"
   ]
  },
  {
   "cell_type": "code",
   "execution_count": 68,
   "metadata": {},
   "outputs": [
    {
     "data": {
      "text/plain": [
       "array([154167., 279167.,  45417., ..., 733333., 135417.,  68750.])"
      ]
     },
     "execution_count": 68,
     "metadata": {},
     "output_type": "execute_result"
    }
   ],
   "source": [
    "Y_test.iloc[:, 0].values"
   ]
  },
  {
   "cell_type": "code",
   "execution_count": 69,
   "metadata": {},
   "outputs": [],
   "source": [
    "perc = np.abs((y_pre[0] - Y_test.iloc[:, 0].values)/Y_test.iloc[:, 0].values)\n",
    "perc = perc*100"
   ]
  },
  {
   "cell_type": "code",
   "execution_count": 70,
   "metadata": {},
   "outputs": [
    {
     "ename": "ValueError",
     "evalue": "arrays must all be same length",
     "output_type": "error",
     "traceback": [
      "\u001b[0;31m---------------------------------------------------------------------------\u001b[0m",
      "\u001b[0;31mValueError\u001b[0m                                Traceback (most recent call last)",
      "\u001b[0;32m<ipython-input-70-396d281811d0>\u001b[0m in \u001b[0;36m<module>\u001b[0;34m\u001b[0m\n\u001b[1;32m      2\u001b[0m         \u001b[0;34m'Gia thuc'\u001b[0m\u001b[0;34m:\u001b[0m\u001b[0mY_test\u001b[0m\u001b[0;34m.\u001b[0m\u001b[0miloc\u001b[0m\u001b[0;34m[\u001b[0m\u001b[0;34m:\u001b[0m\u001b[0;34m,\u001b[0m \u001b[0;36m0\u001b[0m\u001b[0;34m]\u001b[0m\u001b[0;34m.\u001b[0m\u001b[0mvalues\u001b[0m\u001b[0;34m,\u001b[0m\u001b[0;34m\u001b[0m\u001b[0;34m\u001b[0m\u001b[0m\n\u001b[1;32m      3\u001b[0m        '% sai lech': perc}\n\u001b[0;32m----> 4\u001b[0;31m \u001b[0mA\u001b[0m \u001b[0;34m=\u001b[0m \u001b[0mpd\u001b[0m\u001b[0;34m.\u001b[0m\u001b[0mDataFrame\u001b[0m\u001b[0;34m(\u001b[0m\u001b[0mdata\u001b[0m\u001b[0;34m)\u001b[0m\u001b[0;34m\u001b[0m\u001b[0;34m\u001b[0m\u001b[0m\n\u001b[0m",
      "\u001b[0;32m/Library/Frameworks/Python.framework/Versions/3.8/lib/python3.8/site-packages/pandas/core/frame.py\u001b[0m in \u001b[0;36m__init__\u001b[0;34m(self, data, index, columns, dtype, copy)\u001b[0m\n\u001b[1;32m    433\u001b[0m             )\n\u001b[1;32m    434\u001b[0m         \u001b[0;32melif\u001b[0m \u001b[0misinstance\u001b[0m\u001b[0;34m(\u001b[0m\u001b[0mdata\u001b[0m\u001b[0;34m,\u001b[0m \u001b[0mdict\u001b[0m\u001b[0;34m)\u001b[0m\u001b[0;34m:\u001b[0m\u001b[0;34m\u001b[0m\u001b[0;34m\u001b[0m\u001b[0m\n\u001b[0;32m--> 435\u001b[0;31m             \u001b[0mmgr\u001b[0m \u001b[0;34m=\u001b[0m \u001b[0minit_dict\u001b[0m\u001b[0;34m(\u001b[0m\u001b[0mdata\u001b[0m\u001b[0;34m,\u001b[0m \u001b[0mindex\u001b[0m\u001b[0;34m,\u001b[0m \u001b[0mcolumns\u001b[0m\u001b[0;34m,\u001b[0m \u001b[0mdtype\u001b[0m\u001b[0;34m=\u001b[0m\u001b[0mdtype\u001b[0m\u001b[0;34m)\u001b[0m\u001b[0;34m\u001b[0m\u001b[0;34m\u001b[0m\u001b[0m\n\u001b[0m\u001b[1;32m    436\u001b[0m         \u001b[0;32melif\u001b[0m \u001b[0misinstance\u001b[0m\u001b[0;34m(\u001b[0m\u001b[0mdata\u001b[0m\u001b[0;34m,\u001b[0m \u001b[0mma\u001b[0m\u001b[0;34m.\u001b[0m\u001b[0mMaskedArray\u001b[0m\u001b[0;34m)\u001b[0m\u001b[0;34m:\u001b[0m\u001b[0;34m\u001b[0m\u001b[0;34m\u001b[0m\u001b[0m\n\u001b[1;32m    437\u001b[0m             \u001b[0;32mimport\u001b[0m \u001b[0mnumpy\u001b[0m\u001b[0;34m.\u001b[0m\u001b[0mma\u001b[0m\u001b[0;34m.\u001b[0m\u001b[0mmrecords\u001b[0m \u001b[0;32mas\u001b[0m \u001b[0mmrecords\u001b[0m\u001b[0;34m\u001b[0m\u001b[0;34m\u001b[0m\u001b[0m\n",
      "\u001b[0;32m/Library/Frameworks/Python.framework/Versions/3.8/lib/python3.8/site-packages/pandas/core/internals/construction.py\u001b[0m in \u001b[0;36minit_dict\u001b[0;34m(data, index, columns, dtype)\u001b[0m\n\u001b[1;32m    252\u001b[0m             \u001b[0marr\u001b[0m \u001b[0;32mif\u001b[0m \u001b[0;32mnot\u001b[0m \u001b[0mis_datetime64tz_dtype\u001b[0m\u001b[0;34m(\u001b[0m\u001b[0marr\u001b[0m\u001b[0;34m)\u001b[0m \u001b[0;32melse\u001b[0m \u001b[0marr\u001b[0m\u001b[0;34m.\u001b[0m\u001b[0mcopy\u001b[0m\u001b[0;34m(\u001b[0m\u001b[0;34m)\u001b[0m \u001b[0;32mfor\u001b[0m \u001b[0marr\u001b[0m \u001b[0;32min\u001b[0m \u001b[0marrays\u001b[0m\u001b[0;34m\u001b[0m\u001b[0;34m\u001b[0m\u001b[0m\n\u001b[1;32m    253\u001b[0m         ]\n\u001b[0;32m--> 254\u001b[0;31m     \u001b[0;32mreturn\u001b[0m \u001b[0marrays_to_mgr\u001b[0m\u001b[0;34m(\u001b[0m\u001b[0marrays\u001b[0m\u001b[0;34m,\u001b[0m \u001b[0mdata_names\u001b[0m\u001b[0;34m,\u001b[0m \u001b[0mindex\u001b[0m\u001b[0;34m,\u001b[0m \u001b[0mcolumns\u001b[0m\u001b[0;34m,\u001b[0m \u001b[0mdtype\u001b[0m\u001b[0;34m=\u001b[0m\u001b[0mdtype\u001b[0m\u001b[0;34m)\u001b[0m\u001b[0;34m\u001b[0m\u001b[0;34m\u001b[0m\u001b[0m\n\u001b[0m\u001b[1;32m    255\u001b[0m \u001b[0;34m\u001b[0m\u001b[0m\n\u001b[1;32m    256\u001b[0m \u001b[0;34m\u001b[0m\u001b[0m\n",
      "\u001b[0;32m/Library/Frameworks/Python.framework/Versions/3.8/lib/python3.8/site-packages/pandas/core/internals/construction.py\u001b[0m in \u001b[0;36marrays_to_mgr\u001b[0;34m(arrays, arr_names, index, columns, dtype)\u001b[0m\n\u001b[1;32m     62\u001b[0m     \u001b[0;31m# figure out the index, if necessary\u001b[0m\u001b[0;34m\u001b[0m\u001b[0;34m\u001b[0m\u001b[0;34m\u001b[0m\u001b[0m\n\u001b[1;32m     63\u001b[0m     \u001b[0;32mif\u001b[0m \u001b[0mindex\u001b[0m \u001b[0;32mis\u001b[0m \u001b[0;32mNone\u001b[0m\u001b[0;34m:\u001b[0m\u001b[0;34m\u001b[0m\u001b[0;34m\u001b[0m\u001b[0m\n\u001b[0;32m---> 64\u001b[0;31m         \u001b[0mindex\u001b[0m \u001b[0;34m=\u001b[0m \u001b[0mextract_index\u001b[0m\u001b[0;34m(\u001b[0m\u001b[0marrays\u001b[0m\u001b[0;34m)\u001b[0m\u001b[0;34m\u001b[0m\u001b[0;34m\u001b[0m\u001b[0m\n\u001b[0m\u001b[1;32m     65\u001b[0m     \u001b[0;32melse\u001b[0m\u001b[0;34m:\u001b[0m\u001b[0;34m\u001b[0m\u001b[0;34m\u001b[0m\u001b[0m\n\u001b[1;32m     66\u001b[0m         \u001b[0mindex\u001b[0m \u001b[0;34m=\u001b[0m \u001b[0mensure_index\u001b[0m\u001b[0;34m(\u001b[0m\u001b[0mindex\u001b[0m\u001b[0;34m)\u001b[0m\u001b[0;34m\u001b[0m\u001b[0;34m\u001b[0m\u001b[0m\n",
      "\u001b[0;32m/Library/Frameworks/Python.framework/Versions/3.8/lib/python3.8/site-packages/pandas/core/internals/construction.py\u001b[0m in \u001b[0;36mextract_index\u001b[0;34m(data)\u001b[0m\n\u001b[1;32m    363\u001b[0m             \u001b[0mlengths\u001b[0m \u001b[0;34m=\u001b[0m \u001b[0mlist\u001b[0m\u001b[0;34m(\u001b[0m\u001b[0mset\u001b[0m\u001b[0;34m(\u001b[0m\u001b[0mraw_lengths\u001b[0m\u001b[0;34m)\u001b[0m\u001b[0;34m)\u001b[0m\u001b[0;34m\u001b[0m\u001b[0;34m\u001b[0m\u001b[0m\n\u001b[1;32m    364\u001b[0m             \u001b[0;32mif\u001b[0m \u001b[0mlen\u001b[0m\u001b[0;34m(\u001b[0m\u001b[0mlengths\u001b[0m\u001b[0;34m)\u001b[0m \u001b[0;34m>\u001b[0m \u001b[0;36m1\u001b[0m\u001b[0;34m:\u001b[0m\u001b[0;34m\u001b[0m\u001b[0;34m\u001b[0m\u001b[0m\n\u001b[0;32m--> 365\u001b[0;31m                 \u001b[0;32mraise\u001b[0m \u001b[0mValueError\u001b[0m\u001b[0;34m(\u001b[0m\u001b[0;34m\"arrays must all be same length\"\u001b[0m\u001b[0;34m)\u001b[0m\u001b[0;34m\u001b[0m\u001b[0;34m\u001b[0m\u001b[0m\n\u001b[0m\u001b[1;32m    366\u001b[0m \u001b[0;34m\u001b[0m\u001b[0m\n\u001b[1;32m    367\u001b[0m             \u001b[0;32mif\u001b[0m \u001b[0mhave_dicts\u001b[0m\u001b[0;34m:\u001b[0m\u001b[0;34m\u001b[0m\u001b[0;34m\u001b[0m\u001b[0m\n",
      "\u001b[0;31mValueError\u001b[0m: arrays must all be same length"
     ]
    }
   ],
   "source": [
    "data = {'Gia du doan':y_pre[0],\n",
    "        'Gia thuc':Y_test.iloc[:, 0].values,\n",
    "       '% sai lech': perc}\n",
    "A = pd.DataFrame(data)"
   ]
  },
  {
   "cell_type": "code",
   "execution_count": null,
   "metadata": {},
   "outputs": [],
   "source": [
    "B = A.sort_values(by=['% sai lech'])\n",
    "B"
   ]
  },
  {
   "cell_type": "markdown",
   "metadata": {},
   "source": [
    "### Tính trung bình % sai lệch"
   ]
  },
  {
   "cell_type": "code",
   "execution_count": null,
   "metadata": {},
   "outputs": [],
   "source": [
    "(sum((y_pre[0] - Y_test.iloc[:, 0].values)**2)/len(y_pre[0]))**0.5"
   ]
  },
  {
   "cell_type": "markdown",
   "metadata": {},
   "source": [
    "**Nhận xét:** Có thể thấy việc phối hợp thêm thuật toán phân lớp trong dataset này không những không giúp cải thiện mà còn làm tệ đi độ sai lệch trung bình khi dự đoán "
   ]
  },
  {
   "cell_type": "code",
   "execution_count": null,
   "metadata": {},
   "outputs": [],
   "source": []
  }
 ],
 "metadata": {
  "kernelspec": {
   "display_name": "Python 3",
   "language": "python",
   "name": "python3"
  },
  "language_info": {
   "codemirror_mode": {
    "name": "ipython",
    "version": 3
   },
   "file_extension": ".py",
   "mimetype": "text/x-python",
   "name": "python",
   "nbconvert_exporter": "python",
   "pygments_lexer": "ipython3",
   "version": "3.8.5"
  }
 },
 "nbformat": 4,
 "nbformat_minor": 4
}
