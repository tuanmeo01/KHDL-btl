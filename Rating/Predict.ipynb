{
 "cells": [
  {
   "cell_type": "code",
   "execution_count": 65,
   "metadata": {},
   "outputs": [],
   "source": [
    "import pandas as pd\n",
    "from pandas.api.types import is_string_dtype\n",
    "import numpy as np\n",
    "from sklearn.linear_model import LinearRegression\n",
    "import warnings\n",
    "from sklearn.model_selection import train_test_split\n",
    "import re\n",
    "warnings.filterwarnings(\"ignore\")"
   ]
  },
  {
   "cell_type": "code",
   "execution_count": 66,
   "metadata": {},
   "outputs": [],
   "source": [
    "path_X = 'X.csv'\n",
    "path_y = 'y.csv'"
   ]
  },
  {
   "cell_type": "code",
   "execution_count": 67,
   "metadata": {},
   "outputs": [
    {
     "name": "stdout",
     "output_type": "stream",
     "text": [
      "<_io.TextIOWrapper name='X.csv' mode='r' encoding='UTF-8'>\n"
     ]
    }
   ],
   "source": [
    "with open(path_X) as f:\n",
    "    print(f)"
   ]
  },
  {
   "cell_type": "code",
   "execution_count": 68,
   "metadata": {},
   "outputs": [],
   "source": [
    "df_X = pd.read_csv(path_X)\n",
    "df_y = pd.read_csv(path_y)"
   ]
  },
  {
   "cell_type": "markdown",
   "metadata": {},
   "source": [
    "### Dropping irrelative feature "
   ]
  },
  {
   "cell_type": "markdown",
   "metadata": {},
   "source": [
    "Do không liên quan đến sách ta drop: link"
   ]
  },
  {
   "cell_type": "code",
   "execution_count": 69,
   "metadata": {},
   "outputs": [],
   "source": [
    "df_X.drop(['link', 'author_link'], axis=1, inplace=True)"
   ]
  },
  {
   "cell_type": "code",
   "execution_count": 70,
   "metadata": {},
   "outputs": [
    {
     "data": {
      "text/html": [
       "<div>\n",
       "<style scoped>\n",
       "    .dataframe tbody tr th:only-of-type {\n",
       "        vertical-align: middle;\n",
       "    }\n",
       "\n",
       "    .dataframe tbody tr th {\n",
       "        vertical-align: top;\n",
       "    }\n",
       "\n",
       "    .dataframe thead th {\n",
       "        text-align: right;\n",
       "    }\n",
       "</style>\n",
       "<table border=\"1\" class=\"dataframe\">\n",
       "  <thead>\n",
       "    <tr style=\"text-align: right;\">\n",
       "      <th></th>\n",
       "      <th>Unnamed: 0</th>\n",
       "      <th>id</th>\n",
       "      <th>series</th>\n",
       "      <th>author</th>\n",
       "      <th>rating_count</th>\n",
       "      <th>review_count</th>\n",
       "      <th>number_of_pages</th>\n",
       "      <th>date_published</th>\n",
       "      <th>publisher</th>\n",
       "      <th>original_title</th>\n",
       "      <th>genre_and_votes</th>\n",
       "      <th>isbn</th>\n",
       "      <th>isbn13</th>\n",
       "      <th>settings</th>\n",
       "      <th>characters</th>\n",
       "      <th>description</th>\n",
       "      <th>title</th>\n",
       "      <th>awards</th>\n",
       "    </tr>\n",
       "  </thead>\n",
       "  <tbody>\n",
       "    <tr>\n",
       "      <th>0</th>\n",
       "      <td>0</td>\n",
       "      <td>2767052</td>\n",
       "      <td>(The Hunger Games #1)</td>\n",
       "      <td>Suzanne Collins</td>\n",
       "      <td>6459237.0</td>\n",
       "      <td>173214.0</td>\n",
       "      <td>374.0</td>\n",
       "      <td>September 14th 2008</td>\n",
       "      <td>Scholastic Press</td>\n",
       "      <td>The Hunger Games</td>\n",
       "      <td>Young Adult 30901, Fiction 17363, Science Fict...</td>\n",
       "      <td>439023483</td>\n",
       "      <td>9.78044E+12</td>\n",
       "      <td>District 12, Panem\\r\\n\\r\\nCapitol, Panem\\r\\n\\r...</td>\n",
       "      <td>Katniss Everdeen, Peeta Mellark, Cato (Hunger ...</td>\n",
       "      <td>Could you survive on your own in the wild, wit...</td>\n",
       "      <td>The Hunger Games</td>\n",
       "      <td>Locus Award Nominee for Best Young Adult Book ...</td>\n",
       "    </tr>\n",
       "  </tbody>\n",
       "</table>\n",
       "</div>"
      ],
      "text/plain": [
       "   Unnamed: 0       id                 series           author  rating_count  \\\n",
       "0           0  2767052  (The Hunger Games #1)  Suzanne Collins     6459237.0   \n",
       "\n",
       "   review_count  number_of_pages       date_published         publisher  \\\n",
       "0      173214.0            374.0  September 14th 2008  Scholastic Press   \n",
       "\n",
       "     original_title                                    genre_and_votes  \\\n",
       "0  The Hunger Games  Young Adult 30901, Fiction 17363, Science Fict...   \n",
       "\n",
       "        isbn       isbn13                                           settings  \\\n",
       "0  439023483  9.78044E+12  District 12, Panem\\r\\n\\r\\nCapitol, Panem\\r\\n\\r...   \n",
       "\n",
       "                                          characters  \\\n",
       "0  Katniss Everdeen, Peeta Mellark, Cato (Hunger ...   \n",
       "\n",
       "                                         description             title  \\\n",
       "0  Could you survive on your own in the wild, wit...  The Hunger Games   \n",
       "\n",
       "                                              awards  \n",
       "0  Locus Award Nominee for Best Young Adult Book ...  "
      ]
     },
     "execution_count": 70,
     "metadata": {},
     "output_type": "execute_result"
    }
   ],
   "source": [
    "df_X.head(1)"
   ]
  },
  {
   "cell_type": "markdown",
   "metadata": {},
   "source": [
    "### Check nan cols"
   ]
  },
  {
   "cell_type": "code",
   "execution_count": 71,
   "metadata": {},
   "outputs": [
    {
     "data": {
      "text/plain": [
       "Unnamed: 0             0\n",
       "id                     0\n",
       "series             12005\n",
       "author                67\n",
       "rating_count          67\n",
       "review_count          67\n",
       "number_of_pages      719\n",
       "date_published       508\n",
       "publisher            836\n",
       "original_title      4460\n",
       "genre_and_votes     2198\n",
       "isbn                4268\n",
       "isbn13              4496\n",
       "settings           15391\n",
       "characters         13902\n",
       "description          377\n",
       "title                 61\n",
       "awards             15912\n",
       "dtype: int64"
      ]
     },
     "execution_count": 71,
     "metadata": {},
     "output_type": "execute_result"
    }
   ],
   "source": [
    "df_X.isna().sum()"
   ]
  },
  {
   "cell_type": "code",
   "execution_count": 72,
   "metadata": {},
   "outputs": [
    {
     "data": {
      "text/plain": [
       "Unnamed: 0         0.000000\n",
       "id                 0.000000\n",
       "series             0.533556\n",
       "author             0.002978\n",
       "rating_count       0.002978\n",
       "review_count       0.002978\n",
       "number_of_pages    0.031956\n",
       "date_published     0.022578\n",
       "publisher          0.037156\n",
       "original_title     0.198222\n",
       "genre_and_votes    0.097689\n",
       "isbn               0.189689\n",
       "isbn13             0.199822\n",
       "settings           0.684044\n",
       "characters         0.617867\n",
       "description        0.016756\n",
       "title              0.002711\n",
       "awards             0.707200\n",
       "dtype: float64"
      ]
     },
     "execution_count": 72,
     "metadata": {},
     "output_type": "execute_result"
    }
   ],
   "source": [
    "df_X.isna().sum()/df_X.shape[0]"
   ]
  },
  {
   "cell_type": "markdown",
   "metadata": {},
   "source": [
    "Drop cột setting vì NaN nhiều và ko liên quan lắm đến sách"
   ]
  },
  {
   "cell_type": "code",
   "execution_count": 73,
   "metadata": {},
   "outputs": [],
   "source": [
    "df_X.drop(['settings'], axis=1, inplace=True)"
   ]
  },
  {
   "cell_type": "code",
   "execution_count": 74,
   "metadata": {},
   "outputs": [
    {
     "data": {
      "text/html": [
       "<div>\n",
       "<style scoped>\n",
       "    .dataframe tbody tr th:only-of-type {\n",
       "        vertical-align: middle;\n",
       "    }\n",
       "\n",
       "    .dataframe tbody tr th {\n",
       "        vertical-align: top;\n",
       "    }\n",
       "\n",
       "    .dataframe thead th {\n",
       "        text-align: right;\n",
       "    }\n",
       "</style>\n",
       "<table border=\"1\" class=\"dataframe\">\n",
       "  <thead>\n",
       "    <tr style=\"text-align: right;\">\n",
       "      <th></th>\n",
       "      <th>Unnamed: 0</th>\n",
       "      <th>id</th>\n",
       "      <th>series</th>\n",
       "      <th>author</th>\n",
       "      <th>rating_count</th>\n",
       "      <th>review_count</th>\n",
       "      <th>number_of_pages</th>\n",
       "      <th>date_published</th>\n",
       "      <th>publisher</th>\n",
       "      <th>original_title</th>\n",
       "      <th>genre_and_votes</th>\n",
       "      <th>isbn</th>\n",
       "      <th>isbn13</th>\n",
       "      <th>characters</th>\n",
       "      <th>description</th>\n",
       "      <th>title</th>\n",
       "      <th>awards</th>\n",
       "    </tr>\n",
       "  </thead>\n",
       "  <tbody>\n",
       "    <tr>\n",
       "      <th>0</th>\n",
       "      <td>0</td>\n",
       "      <td>2767052</td>\n",
       "      <td>(The Hunger Games #1)</td>\n",
       "      <td>Suzanne Collins</td>\n",
       "      <td>6459237.0</td>\n",
       "      <td>173214.0</td>\n",
       "      <td>374.0</td>\n",
       "      <td>September 14th 2008</td>\n",
       "      <td>Scholastic Press</td>\n",
       "      <td>The Hunger Games</td>\n",
       "      <td>Young Adult 30901, Fiction 17363, Science Fict...</td>\n",
       "      <td>439023483</td>\n",
       "      <td>9.78044E+12</td>\n",
       "      <td>Katniss Everdeen, Peeta Mellark, Cato (Hunger ...</td>\n",
       "      <td>Could you survive on your own in the wild, wit...</td>\n",
       "      <td>The Hunger Games</td>\n",
       "      <td>Locus Award Nominee for Best Young Adult Book ...</td>\n",
       "    </tr>\n",
       "  </tbody>\n",
       "</table>\n",
       "</div>"
      ],
      "text/plain": [
       "   Unnamed: 0       id                 series           author  rating_count  \\\n",
       "0           0  2767052  (The Hunger Games #1)  Suzanne Collins     6459237.0   \n",
       "\n",
       "   review_count  number_of_pages       date_published         publisher  \\\n",
       "0      173214.0            374.0  September 14th 2008  Scholastic Press   \n",
       "\n",
       "     original_title                                    genre_and_votes  \\\n",
       "0  The Hunger Games  Young Adult 30901, Fiction 17363, Science Fict...   \n",
       "\n",
       "        isbn       isbn13                                         characters  \\\n",
       "0  439023483  9.78044E+12  Katniss Everdeen, Peeta Mellark, Cato (Hunger ...   \n",
       "\n",
       "                                         description             title  \\\n",
       "0  Could you survive on your own in the wild, wit...  The Hunger Games   \n",
       "\n",
       "                                              awards  \n",
       "0  Locus Award Nominee for Best Young Adult Book ...  "
      ]
     },
     "execution_count": 74,
     "metadata": {},
     "output_type": "execute_result"
    }
   ],
   "source": [
    "df_X.head(1)"
   ]
  },
  {
   "cell_type": "markdown",
   "metadata": {},
   "source": [
    "#### Reducing data types"
   ]
  },
  {
   "cell_type": "code",
   "execution_count": 75,
   "metadata": {},
   "outputs": [
    {
     "data": {
      "text/plain": [
       "Unnamed: 0           int64\n",
       "id                   int64\n",
       "series              object\n",
       "author              object\n",
       "rating_count       float64\n",
       "review_count       float64\n",
       "number_of_pages    float64\n",
       "date_published      object\n",
       "publisher           object\n",
       "original_title      object\n",
       "genre_and_votes     object\n",
       "isbn                object\n",
       "isbn13              object\n",
       "characters          object\n",
       "description         object\n",
       "title               object\n",
       "awards              object\n",
       "dtype: object"
      ]
     },
     "execution_count": 75,
     "metadata": {},
     "output_type": "execute_result"
    }
   ],
   "source": [
    "df_X.dtypes"
   ]
  },
  {
   "cell_type": "markdown",
   "metadata": {},
   "source": [
    "### Handling series feature"
   ]
  },
  {
   "cell_type": "markdown",
   "metadata": {},
   "source": [
    "Giá trị ở cột 'sereis' có dạng (abc #x). Ta chỉ giữ lại abc."
   ]
  },
  {
   "cell_type": "code",
   "execution_count": 76,
   "metadata": {},
   "outputs": [],
   "source": [
    "def formatTextSeries(text):\n",
    "  \"\"\"\n",
    "  Parameters: str\n",
    "  Return: formated str\n",
    "  \"\"\"\n",
    "  if text != text: # Check nan-value\n",
    "    return text\n",
    "  return text.strip('()').split('#')[0].strip()"
   ]
  },
  {
   "cell_type": "code",
   "execution_count": 77,
   "metadata": {},
   "outputs": [],
   "source": [
    "def formatSeries(df):\n",
    "  \"\"\"\n",
    "  Parameters: DataFrame\n",
    "  Return: DataFrame with formated 'series' column\n",
    "  \"\"\"\n",
    "  df_copy = df.copy()\n",
    "  df_copy['series'] = df_copy['series'].apply(formatTextSeries)\n",
    "  return df_copy"
   ]
  },
  {
   "cell_type": "code",
   "execution_count": 78,
   "metadata": {},
   "outputs": [
    {
     "data": {
      "text/plain": [
       "'(The Twilight Saga #1)'"
      ]
     },
     "execution_count": 78,
     "metadata": {},
     "output_type": "execute_result"
    }
   ],
   "source": [
    "df_X['series'][4] "
   ]
  },
  {
   "cell_type": "code",
   "execution_count": 79,
   "metadata": {},
   "outputs": [],
   "source": [
    "df_X = formatSeries(df_X)"
   ]
  },
  {
   "cell_type": "code",
   "execution_count": 80,
   "metadata": {},
   "outputs": [
    {
     "data": {
      "text/plain": [
       "'The Twilight Saga'"
      ]
     },
     "execution_count": 80,
     "metadata": {},
     "output_type": "execute_result"
    }
   ],
   "source": [
    "df_X['series'][4]"
   ]
  },
  {
   "cell_type": "markdown",
   "metadata": {},
   "source": [
    "### Formating date_published"
   ]
  },
  {
   "cell_type": "markdown",
   "metadata": {},
   "source": [
    "Do có dòng có ngày đầy đủ có ngày chỉ có năm. Chuyển tất cả về thành năm."
   ]
  },
  {
   "cell_type": "code",
   "execution_count": 81,
   "metadata": {},
   "outputs": [],
   "source": [
    "def formatTextDate(text):\n",
    "    if text != text: # Check nan-value\n",
    "        return text\n",
    "    temp = re.findall(r\"[\\w']+\", text)[-1]\n",
    "    if temp.isnumeric():\n",
    "        return float(temp)\n",
    "    return float('nan')"
   ]
  },
  {
   "cell_type": "code",
   "execution_count": 82,
   "metadata": {},
   "outputs": [],
   "source": [
    "def formatDatePublished(df):\n",
    "  df_copy = df.copy()\n",
    "  df_copy['date_published'] = df_copy['date_published'].apply(formatTextDate)\n",
    "  df_copy['date_published'] = df_copy['date_published'].astype(float)\n",
    "  return df_copy"
   ]
  },
  {
   "cell_type": "code",
   "execution_count": 83,
   "metadata": {},
   "outputs": [
    {
     "data": {
      "text/plain": [
       "0    September 14th 2008\n",
       "1                 Sep-04\n",
       "2          May 23rd 2006\n",
       "3      October 10th 2000\n",
       "4     September 6th 2006\n",
       "Name: date_published, dtype: object"
      ]
     },
     "execution_count": 83,
     "metadata": {},
     "output_type": "execute_result"
    }
   ],
   "source": [
    "df_X['date_published'].head(5)"
   ]
  },
  {
   "cell_type": "code",
   "execution_count": 84,
   "metadata": {},
   "outputs": [],
   "source": [
    "df_X = formatDatePublished(df_X)"
   ]
  },
  {
   "cell_type": "code",
   "execution_count": 85,
   "metadata": {},
   "outputs": [
    {
     "data": {
      "text/plain": [
       "0    2008.0\n",
       "1       4.0\n",
       "2    2006.0\n",
       "3    2000.0\n",
       "4    2006.0\n",
       "Name: date_published, dtype: float64"
      ]
     },
     "execution_count": 85,
     "metadata": {},
     "output_type": "execute_result"
    }
   ],
   "source": [
    "df_X['date_published'].head(5)"
   ]
  },
  {
   "cell_type": "markdown",
   "metadata": {},
   "source": [
    "Xóa những dòng dữ liệu nhiễu "
   ]
  },
  {
   "cell_type": "code",
   "execution_count": 86,
   "metadata": {},
   "outputs": [],
   "source": [
    "df_X = df_X[df_X['date_published'] > 100]"
   ]
  },
  {
   "cell_type": "code",
   "execution_count": 87,
   "metadata": {},
   "outputs": [
    {
     "data": {
      "text/html": [
       "<div>\n",
       "<style scoped>\n",
       "    .dataframe tbody tr th:only-of-type {\n",
       "        vertical-align: middle;\n",
       "    }\n",
       "\n",
       "    .dataframe tbody tr th {\n",
       "        vertical-align: top;\n",
       "    }\n",
       "\n",
       "    .dataframe thead th {\n",
       "        text-align: right;\n",
       "    }\n",
       "</style>\n",
       "<table border=\"1\" class=\"dataframe\">\n",
       "  <thead>\n",
       "    <tr style=\"text-align: right;\">\n",
       "      <th></th>\n",
       "      <th>Unnamed: 0</th>\n",
       "      <th>id</th>\n",
       "      <th>series</th>\n",
       "      <th>author</th>\n",
       "      <th>rating_count</th>\n",
       "      <th>review_count</th>\n",
       "      <th>number_of_pages</th>\n",
       "      <th>date_published</th>\n",
       "      <th>publisher</th>\n",
       "      <th>original_title</th>\n",
       "      <th>genre_and_votes</th>\n",
       "      <th>isbn</th>\n",
       "      <th>isbn13</th>\n",
       "      <th>characters</th>\n",
       "      <th>description</th>\n",
       "      <th>title</th>\n",
       "      <th>awards</th>\n",
       "    </tr>\n",
       "  </thead>\n",
       "  <tbody>\n",
       "    <tr>\n",
       "      <th>0</th>\n",
       "      <td>0</td>\n",
       "      <td>2767052</td>\n",
       "      <td>The Hunger Games</td>\n",
       "      <td>Suzanne Collins</td>\n",
       "      <td>6459237.0</td>\n",
       "      <td>173214.0</td>\n",
       "      <td>374.0</td>\n",
       "      <td>2008.0</td>\n",
       "      <td>Scholastic Press</td>\n",
       "      <td>The Hunger Games</td>\n",
       "      <td>Young Adult 30901, Fiction 17363, Science Fict...</td>\n",
       "      <td>439023483</td>\n",
       "      <td>9.78044E+12</td>\n",
       "      <td>Katniss Everdeen, Peeta Mellark, Cato (Hunger ...</td>\n",
       "      <td>Could you survive on your own in the wild, wit...</td>\n",
       "      <td>The Hunger Games</td>\n",
       "      <td>Locus Award Nominee for Best Young Adult Book ...</td>\n",
       "    </tr>\n",
       "    <tr>\n",
       "      <th>2</th>\n",
       "      <td>2</td>\n",
       "      <td>2657</td>\n",
       "      <td>To Kill a Mockingbird</td>\n",
       "      <td>Harper Lee</td>\n",
       "      <td>4569068.0</td>\n",
       "      <td>92506.0</td>\n",
       "      <td>324.0</td>\n",
       "      <td>2006.0</td>\n",
       "      <td>Harper Perennial Modern Classics</td>\n",
       "      <td>To Kill a Mockingbird</td>\n",
       "      <td>Classics 45612, Fiction 22734, Historical-Hist...</td>\n",
       "      <td>NaN</td>\n",
       "      <td>NaN</td>\n",
       "      <td>Scout Finch, Atticus Finch, Jem Finch, Arthur ...</td>\n",
       "      <td>The unforgettable novel of a childhood in a sl...</td>\n",
       "      <td>To Kill a Mockingbird</td>\n",
       "      <td>Pulitzer Prize for Fiction (1961), Audie Award...</td>\n",
       "    </tr>\n",
       "    <tr>\n",
       "      <th>3</th>\n",
       "      <td>3</td>\n",
       "      <td>1885</td>\n",
       "      <td>NaN</td>\n",
       "      <td>Jane Austen</td>\n",
       "      <td>3047826.0</td>\n",
       "      <td>68657.0</td>\n",
       "      <td>279.0</td>\n",
       "      <td>2000.0</td>\n",
       "      <td>Modern Library</td>\n",
       "      <td>Pride and Prejudice</td>\n",
       "      <td>Classics 49689, Fiction 15059, Romance 12015, ...</td>\n",
       "      <td>NaN</td>\n",
       "      <td>NaN</td>\n",
       "      <td>Mr. Bennet, Mrs. Bennet, Jane Bennet, Elizabet...</td>\n",
       "      <td>Alternate cover edition of ISBN 9780679783268S...</td>\n",
       "      <td>Pride and Prejudice</td>\n",
       "      <td>NaN</td>\n",
       "    </tr>\n",
       "    <tr>\n",
       "      <th>4</th>\n",
       "      <td>4</td>\n",
       "      <td>41865</td>\n",
       "      <td>The Twilight Saga</td>\n",
       "      <td>Stephenie Meyer</td>\n",
       "      <td>5029979.0</td>\n",
       "      <td>105360.0</td>\n",
       "      <td>501.0</td>\n",
       "      <td>2006.0</td>\n",
       "      <td>Little, Brown and Company</td>\n",
       "      <td>Twilight</td>\n",
       "      <td>Young Adult 19666, Fantasy 18533, Romance 1160...</td>\n",
       "      <td>316015849</td>\n",
       "      <td>9.78032E+12</td>\n",
       "      <td>Edward Cullen, Jacob Black, Laurent, Renee, Be...</td>\n",
       "      <td>About three things I was absolutely positive.F...</td>\n",
       "      <td>Twilight</td>\n",
       "      <td>Georgia Peach Book Award (2007), Buxtehuder Bu...</td>\n",
       "    </tr>\n",
       "    <tr>\n",
       "      <th>5</th>\n",
       "      <td>5</td>\n",
       "      <td>19063</td>\n",
       "      <td>NaN</td>\n",
       "      <td>Markus Zusak</td>\n",
       "      <td>1863936.0</td>\n",
       "      <td>114137.0</td>\n",
       "      <td>552.0</td>\n",
       "      <td>2006.0</td>\n",
       "      <td>Alfred A. Knopf</td>\n",
       "      <td>The Book Thief</td>\n",
       "      <td>Historical-Historical Fiction 19377, Fiction 1...</td>\n",
       "      <td>375831002</td>\n",
       "      <td>9.78038E+12</td>\n",
       "      <td>Liesel Meminger, Hans Hubermann, Rudy Steiner,...</td>\n",
       "      <td>Librarian&amp;aposs note: An alternate cover editi...</td>\n",
       "      <td>The Book Thief</td>\n",
       "      <td>National Jewish Book Award for Children’s and ...</td>\n",
       "    </tr>\n",
       "    <tr>\n",
       "      <th>...</th>\n",
       "      <td>...</td>\n",
       "      <td>...</td>\n",
       "      <td>...</td>\n",
       "      <td>...</td>\n",
       "      <td>...</td>\n",
       "      <td>...</td>\n",
       "      <td>...</td>\n",
       "      <td>...</td>\n",
       "      <td>...</td>\n",
       "      <td>...</td>\n",
       "      <td>...</td>\n",
       "      <td>...</td>\n",
       "      <td>...</td>\n",
       "      <td>...</td>\n",
       "      <td>...</td>\n",
       "      <td>...</td>\n",
       "      <td>...</td>\n",
       "    </tr>\n",
       "    <tr>\n",
       "      <th>22495</th>\n",
       "      <td>22495</td>\n",
       "      <td>10754265</td>\n",
       "      <td>Emaneska</td>\n",
       "      <td>Ben Galley</td>\n",
       "      <td>1598.0</td>\n",
       "      <td>214.0</td>\n",
       "      <td>418.0</td>\n",
       "      <td>2011.0</td>\n",
       "      <td>BenGalley.com</td>\n",
       "      <td>The Written</td>\n",
       "      <td>Fantasy 235, Fantasy-Epic Fantasy 26, Fantasy-...</td>\n",
       "      <td>956770002</td>\n",
       "      <td>9.78096E+12</td>\n",
       "      <td>NaN</td>\n",
       "      <td>His name is Farden. They whisper that he’s dan...</td>\n",
       "      <td>The Written</td>\n",
       "      <td>NaN</td>\n",
       "    </tr>\n",
       "    <tr>\n",
       "      <th>22496</th>\n",
       "      <td>22496</td>\n",
       "      <td>6383762</td>\n",
       "      <td>Oathbreaker</td>\n",
       "      <td>S.R. Vaught</td>\n",
       "      <td>497.0</td>\n",
       "      <td>45.0</td>\n",
       "      <td>420.0</td>\n",
       "      <td>2009.0</td>\n",
       "      <td>Bloomsbury U.S.A. Children's Books</td>\n",
       "      <td>NaN</td>\n",
       "      <td>Fantasy 29, Young Adult 12, Fiction 4, Fantasy...</td>\n",
       "      <td>1599903768</td>\n",
       "      <td>9.7816E+12</td>\n",
       "      <td>NaN</td>\n",
       "      <td>In this second half of the Oathbreaker story, ...</td>\n",
       "      <td>A Prince Among Killers</td>\n",
       "      <td>NaN</td>\n",
       "    </tr>\n",
       "    <tr>\n",
       "      <th>22497</th>\n",
       "      <td>22497</td>\n",
       "      <td>24308</td>\n",
       "      <td>The Amazing Days of Abby Hayes</td>\n",
       "      <td>Anne Mazer</td>\n",
       "      <td>990.0</td>\n",
       "      <td>29.0</td>\n",
       "      <td>144.0</td>\n",
       "      <td>2001.0</td>\n",
       "      <td>Scholastic Paperbacks</td>\n",
       "      <td>Have Wheels, Will Travel (The Amazing Days of ...</td>\n",
       "      <td>Childrens 18, Fiction 10, Realistic Fiction 8,...</td>\n",
       "      <td>439178789</td>\n",
       "      <td>9.78044E+12</td>\n",
       "      <td>NaN</td>\n",
       "      <td>Abby Hayes is sick of using her sister¹s batte...</td>\n",
       "      <td>Have Wheels, Will Travel</td>\n",
       "      <td>NaN</td>\n",
       "    </tr>\n",
       "    <tr>\n",
       "      <th>22498</th>\n",
       "      <td>22498</td>\n",
       "      <td>1162710</td>\n",
       "      <td>NaN</td>\n",
       "      <td>Arthur O. Lovejoy</td>\n",
       "      <td>424.0</td>\n",
       "      <td>28.0</td>\n",
       "      <td>400.0</td>\n",
       "      <td>1976.0</td>\n",
       "      <td>Harvard University Press</td>\n",
       "      <td>NaN</td>\n",
       "      <td>Philosophy 107, History 68, Nonfiction 18, Rel...</td>\n",
       "      <td>674361539</td>\n",
       "      <td>9.78067E+12</td>\n",
       "      <td>NaN</td>\n",
       "      <td>From later antiquity down to the close of the ...</td>\n",
       "      <td>The Great Chain of Being: A Study of the Histo...</td>\n",
       "      <td>NaN</td>\n",
       "    </tr>\n",
       "    <tr>\n",
       "      <th>22499</th>\n",
       "      <td>22499</td>\n",
       "      <td>15820642</td>\n",
       "      <td>Avalon Trilogy</td>\n",
       "      <td>Indigo Bloome</td>\n",
       "      <td>2357.0</td>\n",
       "      <td>153.0</td>\n",
       "      <td>288.0</td>\n",
       "      <td>2013.0</td>\n",
       "      <td>William Morrow Paperbacks</td>\n",
       "      <td>Destined to Feel</td>\n",
       "      <td>Adult Fiction-Erotica 26, Romance 25, Erotica-...</td>\n",
       "      <td>62243594</td>\n",
       "      <td>9.78006E+12</td>\n",
       "      <td>Jeremy Quinn, Alexandra Blake</td>\n",
       "      <td>Another thrilling erotic adventure from the au...</td>\n",
       "      <td>Destined to Feel</td>\n",
       "      <td>NaN</td>\n",
       "    </tr>\n",
       "  </tbody>\n",
       "</table>\n",
       "<p>21128 rows × 17 columns</p>\n",
       "</div>"
      ],
      "text/plain": [
       "       Unnamed: 0        id                          series  \\\n",
       "0               0   2767052                The Hunger Games   \n",
       "2               2      2657           To Kill a Mockingbird   \n",
       "3               3      1885                             NaN   \n",
       "4               4     41865               The Twilight Saga   \n",
       "5               5     19063                             NaN   \n",
       "...           ...       ...                             ...   \n",
       "22495       22495  10754265                        Emaneska   \n",
       "22496       22496   6383762                     Oathbreaker   \n",
       "22497       22497     24308  The Amazing Days of Abby Hayes   \n",
       "22498       22498   1162710                             NaN   \n",
       "22499       22499  15820642                  Avalon Trilogy   \n",
       "\n",
       "                  author  rating_count  review_count  number_of_pages  \\\n",
       "0        Suzanne Collins     6459237.0      173214.0            374.0   \n",
       "2             Harper Lee     4569068.0       92506.0            324.0   \n",
       "3            Jane Austen     3047826.0       68657.0            279.0   \n",
       "4        Stephenie Meyer     5029979.0      105360.0            501.0   \n",
       "5           Markus Zusak     1863936.0      114137.0            552.0   \n",
       "...                  ...           ...           ...              ...   \n",
       "22495         Ben Galley        1598.0         214.0            418.0   \n",
       "22496        S.R. Vaught         497.0          45.0            420.0   \n",
       "22497         Anne Mazer         990.0          29.0            144.0   \n",
       "22498  Arthur O. Lovejoy         424.0          28.0            400.0   \n",
       "22499      Indigo Bloome        2357.0         153.0            288.0   \n",
       "\n",
       "       date_published                           publisher  \\\n",
       "0              2008.0                    Scholastic Press   \n",
       "2              2006.0    Harper Perennial Modern Classics   \n",
       "3              2000.0                      Modern Library   \n",
       "4              2006.0           Little, Brown and Company   \n",
       "5              2006.0                     Alfred A. Knopf   \n",
       "...               ...                                 ...   \n",
       "22495          2011.0                       BenGalley.com   \n",
       "22496          2009.0  Bloomsbury U.S.A. Children's Books   \n",
       "22497          2001.0               Scholastic Paperbacks   \n",
       "22498          1976.0            Harvard University Press   \n",
       "22499          2013.0           William Morrow Paperbacks   \n",
       "\n",
       "                                          original_title  \\\n",
       "0                                       The Hunger Games   \n",
       "2                                  To Kill a Mockingbird   \n",
       "3                                    Pride and Prejudice   \n",
       "4                                               Twilight   \n",
       "5                                         The Book Thief   \n",
       "...                                                  ...   \n",
       "22495                                        The Written   \n",
       "22496                                                NaN   \n",
       "22497  Have Wheels, Will Travel (The Amazing Days of ...   \n",
       "22498                                                NaN   \n",
       "22499                                   Destined to Feel   \n",
       "\n",
       "                                         genre_and_votes        isbn  \\\n",
       "0      Young Adult 30901, Fiction 17363, Science Fict...   439023483   \n",
       "2      Classics 45612, Fiction 22734, Historical-Hist...         NaN   \n",
       "3      Classics 49689, Fiction 15059, Romance 12015, ...         NaN   \n",
       "4      Young Adult 19666, Fantasy 18533, Romance 1160...   316015849   \n",
       "5      Historical-Historical Fiction 19377, Fiction 1...   375831002   \n",
       "...                                                  ...         ...   \n",
       "22495  Fantasy 235, Fantasy-Epic Fantasy 26, Fantasy-...   956770002   \n",
       "22496  Fantasy 29, Young Adult 12, Fiction 4, Fantasy...  1599903768   \n",
       "22497  Childrens 18, Fiction 10, Realistic Fiction 8,...   439178789   \n",
       "22498  Philosophy 107, History 68, Nonfiction 18, Rel...   674361539   \n",
       "22499  Adult Fiction-Erotica 26, Romance 25, Erotica-...    62243594   \n",
       "\n",
       "            isbn13                                         characters  \\\n",
       "0      9.78044E+12  Katniss Everdeen, Peeta Mellark, Cato (Hunger ...   \n",
       "2              NaN  Scout Finch, Atticus Finch, Jem Finch, Arthur ...   \n",
       "3              NaN  Mr. Bennet, Mrs. Bennet, Jane Bennet, Elizabet...   \n",
       "4      9.78032E+12  Edward Cullen, Jacob Black, Laurent, Renee, Be...   \n",
       "5      9.78038E+12  Liesel Meminger, Hans Hubermann, Rudy Steiner,...   \n",
       "...            ...                                                ...   \n",
       "22495  9.78096E+12                                                NaN   \n",
       "22496   9.7816E+12                                                NaN   \n",
       "22497  9.78044E+12                                                NaN   \n",
       "22498  9.78067E+12                                                NaN   \n",
       "22499  9.78006E+12                      Jeremy Quinn, Alexandra Blake   \n",
       "\n",
       "                                             description  \\\n",
       "0      Could you survive on your own in the wild, wit...   \n",
       "2      The unforgettable novel of a childhood in a sl...   \n",
       "3      Alternate cover edition of ISBN 9780679783268S...   \n",
       "4      About three things I was absolutely positive.F...   \n",
       "5      Librarian&aposs note: An alternate cover editi...   \n",
       "...                                                  ...   \n",
       "22495  His name is Farden. They whisper that he’s dan...   \n",
       "22496  In this second half of the Oathbreaker story, ...   \n",
       "22497  Abby Hayes is sick of using her sister¹s batte...   \n",
       "22498  From later antiquity down to the close of the ...   \n",
       "22499  Another thrilling erotic adventure from the au...   \n",
       "\n",
       "                                                   title  \\\n",
       "0                                       The Hunger Games   \n",
       "2                                  To Kill a Mockingbird   \n",
       "3                                    Pride and Prejudice   \n",
       "4                                               Twilight   \n",
       "5                                         The Book Thief   \n",
       "...                                                  ...   \n",
       "22495                                        The Written   \n",
       "22496                             A Prince Among Killers   \n",
       "22497                           Have Wheels, Will Travel   \n",
       "22498  The Great Chain of Being: A Study of the Histo...   \n",
       "22499                                   Destined to Feel   \n",
       "\n",
       "                                                  awards  \n",
       "0      Locus Award Nominee for Best Young Adult Book ...  \n",
       "2      Pulitzer Prize for Fiction (1961), Audie Award...  \n",
       "3                                                    NaN  \n",
       "4      Georgia Peach Book Award (2007), Buxtehuder Bu...  \n",
       "5      National Jewish Book Award for Children’s and ...  \n",
       "...                                                  ...  \n",
       "22495                                                NaN  \n",
       "22496                                                NaN  \n",
       "22497                                                NaN  \n",
       "22498                                                NaN  \n",
       "22499                                                NaN  \n",
       "\n",
       "[21128 rows x 17 columns]"
      ]
     },
     "execution_count": 87,
     "metadata": {},
     "output_type": "execute_result"
    }
   ],
   "source": [
    "df_X"
   ]
  },
  {
   "cell_type": "markdown",
   "metadata": {},
   "source": [
    "### Handling genre_and_vote"
   ]
  },
  {
   "cell_type": "code",
   "execution_count": 88,
   "metadata": {},
   "outputs": [],
   "source": [
    "# Find all genre\n",
    "a = df_X['genre_and_votes'].values.tolist()"
   ]
  },
  {
   "cell_type": "code",
   "execution_count": 89,
   "metadata": {},
   "outputs": [],
   "source": [
    "c = []\n",
    "for i in a:\n",
    "  if i == i:\n",
    "    c += re.findall(r\"[a-zA-Z- ]+\", i)"
   ]
  },
  {
   "cell_type": "code",
   "execution_count": 90,
   "metadata": {},
   "outputs": [
    {
     "data": {
      "text/plain": [
       "1029"
      ]
     },
     "execution_count": 90,
     "metadata": {},
     "output_type": "execute_result"
    }
   ],
   "source": [
    "unique = set(c)\n",
    "len(unique)"
   ]
  },
  {
   "cell_type": "markdown",
   "metadata": {},
   "source": [
    "Do có nhiều giá trị khác biệt nên không thể tách thành các cột. Mỗi dòng chỉ lấy 1 thể loại tương ứng nhiều bình chọn nhất."
   ]
  },
  {
   "cell_type": "code",
   "execution_count": 91,
   "metadata": {},
   "outputs": [],
   "source": [
    "def formatTextGenre(text):\n",
    "  \"\"\"\n",
    "  Parameters: str ('History 19, Fiction 10')\n",
    "  Return: str (History)\n",
    "  \"\"\"\n",
    "  if text != text:\n",
    "    return text\n",
    "  return re.findall(r\"[a-zA-Z- ]+\", text)[0]"
   ]
  },
  {
   "cell_type": "code",
   "execution_count": 92,
   "metadata": {},
   "outputs": [],
   "source": [
    "def formatGenre(df):\n",
    "  \"\"\"\n",
    "  Parameters: DataFrame\n",
    "  Return: DataFrame with formated genre\n",
    "  \"\"\"\n",
    "  df_copy = df.copy()\n",
    "  df_copy['genre_and_votes'] = df_copy['genre_and_votes'].apply(formatTextGenre)\n",
    "  df_copy.rename(columns={'genre_and_votes':'genre'}, inplace=True)\n",
    "  return df_copy"
   ]
  },
  {
   "cell_type": "code",
   "execution_count": 93,
   "metadata": {},
   "outputs": [
    {
     "data": {
      "text/plain": [
       "0    Young Adult 30901, Fiction 17363, Science Fict...\n",
       "2    Classics 45612, Fiction 22734, Historical-Hist...\n",
       "3    Classics 49689, Fiction 15059, Romance 12015, ...\n",
       "4    Young Adult 19666, Fantasy 18533, Romance 1160...\n",
       "5    Historical-Historical Fiction 19377, Fiction 1...\n",
       "Name: genre_and_votes, dtype: object"
      ]
     },
     "execution_count": 93,
     "metadata": {},
     "output_type": "execute_result"
    }
   ],
   "source": [
    "df_X['genre_and_votes'].head(5)"
   ]
  },
  {
   "cell_type": "code",
   "execution_count": 94,
   "metadata": {},
   "outputs": [],
   "source": [
    "df_X = formatGenre(df_X)"
   ]
  },
  {
   "cell_type": "code",
   "execution_count": 95,
   "metadata": {},
   "outputs": [
    {
     "data": {
      "text/plain": [
       "0                      Young Adult \n",
       "2                         Classics \n",
       "3                         Classics \n",
       "4                      Young Adult \n",
       "5    Historical-Historical Fiction \n",
       "Name: genre, dtype: object"
      ]
     },
     "execution_count": 95,
     "metadata": {},
     "output_type": "execute_result"
    }
   ],
   "source": [
    "df_X['genre'].head(5)"
   ]
  },
  {
   "cell_type": "markdown",
   "metadata": {},
   "source": [
    "### Handling award"
   ]
  },
  {
   "cell_type": "code",
   "execution_count": 96,
   "metadata": {},
   "outputs": [],
   "source": [
    "awards = df_X['awards'].values.tolist()"
   ]
  },
  {
   "cell_type": "code",
   "execution_count": 97,
   "metadata": {},
   "outputs": [],
   "source": [
    "c = []\n",
    "count_awards = []\n",
    "for i in awards:\n",
    "  if i == i:\n",
    "    arr = i.split(',')\n",
    "    count_awards.append(len(arr))\n",
    "    for a in arr:\n",
    "      c.append(a.split('(')[0].split('for')[0].strip())\n",
    "  else:\n",
    "    count_awards.append(0)"
   ]
  },
  {
   "cell_type": "code",
   "execution_count": 98,
   "metadata": {},
   "outputs": [
    {
     "data": {
      "text/plain": [
       "1812"
      ]
     },
     "execution_count": 98,
     "metadata": {},
     "output_type": "execute_result"
    }
   ],
   "source": [
    "len(set(c))"
   ]
  },
  {
   "cell_type": "markdown",
   "metadata": {},
   "source": [
    "Do có quá nhiều giải khác nhau. Không thể tách thành các cột cho từng giải. Ta xét số lượng giải nhận được. những dòng na sẽ nhận giá trị 0."
   ]
  },
  {
   "cell_type": "code",
   "execution_count": 99,
   "metadata": {},
   "outputs": [],
   "source": [
    "def formatTextAward(text):\n",
    "  if text != text:\n",
    "    return 0\n",
    "  return len(text.split(','))"
   ]
  },
  {
   "cell_type": "code",
   "execution_count": 100,
   "metadata": {},
   "outputs": [],
   "source": [
    "def formatAward(df):\n",
    "  df_copy = df.copy()\n",
    "  df_copy['awards'] = df_copy['awards'].apply(formatTextAward)\n",
    "  return df_copy"
   ]
  },
  {
   "cell_type": "code",
   "execution_count": 101,
   "metadata": {},
   "outputs": [
    {
     "data": {
      "text/plain": [
       "0    Locus Award Nominee for Best Young Adult Book ...\n",
       "2    Pulitzer Prize for Fiction (1961), Audie Award...\n",
       "3                                                  NaN\n",
       "4    Georgia Peach Book Award (2007), Buxtehuder Bu...\n",
       "5    National Jewish Book Award for Children’s and ...\n",
       "Name: awards, dtype: object"
      ]
     },
     "execution_count": 101,
     "metadata": {},
     "output_type": "execute_result"
    }
   ],
   "source": [
    "df_X['awards'].head(5)"
   ]
  },
  {
   "cell_type": "code",
   "execution_count": 102,
   "metadata": {},
   "outputs": [],
   "source": [
    "df_X = formatAward(df_X)"
   ]
  },
  {
   "cell_type": "code",
   "execution_count": 103,
   "metadata": {},
   "outputs": [
    {
     "data": {
      "text/plain": [
       "0    40\n",
       "2     4\n",
       "3     0\n",
       "4    24\n",
       "5    19\n",
       "Name: awards, dtype: int64"
      ]
     },
     "execution_count": 103,
     "metadata": {},
     "output_type": "execute_result"
    }
   ],
   "source": [
    "df_X['awards'].head(5)"
   ]
  },
  {
   "cell_type": "markdown",
   "metadata": {},
   "source": [
    "### Handling description"
   ]
  },
  {
   "cell_type": "code",
   "execution_count": 104,
   "metadata": {},
   "outputs": [],
   "source": [
    "a = df_X['description'].values.tolist()"
   ]
  },
  {
   "cell_type": "code",
   "execution_count": 105,
   "metadata": {},
   "outputs": [],
   "source": [
    "b = []\n",
    "for i in a:\n",
    "  if i == i:\n",
    "    b.append(len(i))\n",
    "  else:\n",
    "    b.append(0)"
   ]
  },
  {
   "cell_type": "code",
   "execution_count": 106,
   "metadata": {},
   "outputs": [
    {
     "data": {
      "text/plain": [
       "2584"
      ]
     },
     "execution_count": 106,
     "metadata": {},
     "output_type": "execute_result"
    }
   ],
   "source": [
    "len(set(b))"
   ]
  },
  {
   "cell_type": "code",
   "execution_count": 107,
   "metadata": {},
   "outputs": [],
   "source": [
    "def formatTextDescription(text):\n",
    "  if text != text:\n",
    "    return 0\n",
    "  return len(text)  "
   ]
  },
  {
   "cell_type": "code",
   "execution_count": 108,
   "metadata": {},
   "outputs": [],
   "source": [
    "def formatDescription(df):\n",
    "  df_copy = df.copy()\n",
    "  df_copy['description'] = df_copy['description'].apply(formatTextDescription)\n",
    "  return df_copy"
   ]
  },
  {
   "cell_type": "code",
   "execution_count": 109,
   "metadata": {},
   "outputs": [
    {
     "data": {
      "text/plain": [
       "0    Could you survive on your own in the wild, wit...\n",
       "2    The unforgettable novel of a childhood in a sl...\n",
       "3    Alternate cover edition of ISBN 9780679783268S...\n",
       "4    About three things I was absolutely positive.F...\n",
       "5    Librarian&aposs note: An alternate cover editi...\n",
       "Name: description, dtype: object"
      ]
     },
     "execution_count": 109,
     "metadata": {},
     "output_type": "execute_result"
    }
   ],
   "source": [
    "df_X['description'].head(5)"
   ]
  },
  {
   "cell_type": "code",
   "execution_count": 110,
   "metadata": {},
   "outputs": [],
   "source": [
    "df_X = formatDescription(df_X)"
   ]
  },
  {
   "cell_type": "code",
   "execution_count": 111,
   "metadata": {},
   "outputs": [
    {
     "data": {
      "text/plain": [
       "0    1300\n",
       "2    1204\n",
       "3    1034\n",
       "Name: description, dtype: int64"
      ]
     },
     "execution_count": 111,
     "metadata": {},
     "output_type": "execute_result"
    }
   ],
   "source": [
    "df_X['description'].head(3)"
   ]
  },
  {
   "cell_type": "code",
   "execution_count": 112,
   "metadata": {},
   "outputs": [
    {
     "data": {
      "text/html": [
       "<div>\n",
       "<style scoped>\n",
       "    .dataframe tbody tr th:only-of-type {\n",
       "        vertical-align: middle;\n",
       "    }\n",
       "\n",
       "    .dataframe tbody tr th {\n",
       "        vertical-align: top;\n",
       "    }\n",
       "\n",
       "    .dataframe thead th {\n",
       "        text-align: right;\n",
       "    }\n",
       "</style>\n",
       "<table border=\"1\" class=\"dataframe\">\n",
       "  <thead>\n",
       "    <tr style=\"text-align: right;\">\n",
       "      <th></th>\n",
       "      <th>Unnamed: 0</th>\n",
       "      <th>id</th>\n",
       "      <th>series</th>\n",
       "      <th>author</th>\n",
       "      <th>rating_count</th>\n",
       "      <th>review_count</th>\n",
       "      <th>number_of_pages</th>\n",
       "      <th>date_published</th>\n",
       "      <th>publisher</th>\n",
       "      <th>original_title</th>\n",
       "      <th>genre</th>\n",
       "      <th>isbn</th>\n",
       "      <th>isbn13</th>\n",
       "      <th>characters</th>\n",
       "      <th>description</th>\n",
       "      <th>title</th>\n",
       "      <th>awards</th>\n",
       "    </tr>\n",
       "  </thead>\n",
       "  <tbody>\n",
       "    <tr>\n",
       "      <th>0</th>\n",
       "      <td>0</td>\n",
       "      <td>2767052</td>\n",
       "      <td>The Hunger Games</td>\n",
       "      <td>Suzanne Collins</td>\n",
       "      <td>6459237.0</td>\n",
       "      <td>173214.0</td>\n",
       "      <td>374.0</td>\n",
       "      <td>2008.0</td>\n",
       "      <td>Scholastic Press</td>\n",
       "      <td>The Hunger Games</td>\n",
       "      <td>Young Adult</td>\n",
       "      <td>439023483</td>\n",
       "      <td>9.78044E+12</td>\n",
       "      <td>Katniss Everdeen, Peeta Mellark, Cato (Hunger ...</td>\n",
       "      <td>1300</td>\n",
       "      <td>The Hunger Games</td>\n",
       "      <td>40</td>\n",
       "    </tr>\n",
       "    <tr>\n",
       "      <th>2</th>\n",
       "      <td>2</td>\n",
       "      <td>2657</td>\n",
       "      <td>To Kill a Mockingbird</td>\n",
       "      <td>Harper Lee</td>\n",
       "      <td>4569068.0</td>\n",
       "      <td>92506.0</td>\n",
       "      <td>324.0</td>\n",
       "      <td>2006.0</td>\n",
       "      <td>Harper Perennial Modern Classics</td>\n",
       "      <td>To Kill a Mockingbird</td>\n",
       "      <td>Classics</td>\n",
       "      <td>NaN</td>\n",
       "      <td>NaN</td>\n",
       "      <td>Scout Finch, Atticus Finch, Jem Finch, Arthur ...</td>\n",
       "      <td>1204</td>\n",
       "      <td>To Kill a Mockingbird</td>\n",
       "      <td>4</td>\n",
       "    </tr>\n",
       "    <tr>\n",
       "      <th>3</th>\n",
       "      <td>3</td>\n",
       "      <td>1885</td>\n",
       "      <td>NaN</td>\n",
       "      <td>Jane Austen</td>\n",
       "      <td>3047826.0</td>\n",
       "      <td>68657.0</td>\n",
       "      <td>279.0</td>\n",
       "      <td>2000.0</td>\n",
       "      <td>Modern Library</td>\n",
       "      <td>Pride and Prejudice</td>\n",
       "      <td>Classics</td>\n",
       "      <td>NaN</td>\n",
       "      <td>NaN</td>\n",
       "      <td>Mr. Bennet, Mrs. Bennet, Jane Bennet, Elizabet...</td>\n",
       "      <td>1034</td>\n",
       "      <td>Pride and Prejudice</td>\n",
       "      <td>0</td>\n",
       "    </tr>\n",
       "  </tbody>\n",
       "</table>\n",
       "</div>"
      ],
      "text/plain": [
       "   Unnamed: 0       id                 series           author  rating_count  \\\n",
       "0           0  2767052       The Hunger Games  Suzanne Collins     6459237.0   \n",
       "2           2     2657  To Kill a Mockingbird       Harper Lee     4569068.0   \n",
       "3           3     1885                    NaN      Jane Austen     3047826.0   \n",
       "\n",
       "   review_count  number_of_pages  date_published  \\\n",
       "0      173214.0            374.0          2008.0   \n",
       "2       92506.0            324.0          2006.0   \n",
       "3       68657.0            279.0          2000.0   \n",
       "\n",
       "                          publisher         original_title         genre  \\\n",
       "0                  Scholastic Press       The Hunger Games  Young Adult    \n",
       "2  Harper Perennial Modern Classics  To Kill a Mockingbird     Classics    \n",
       "3                    Modern Library    Pride and Prejudice     Classics    \n",
       "\n",
       "        isbn       isbn13                                         characters  \\\n",
       "0  439023483  9.78044E+12  Katniss Everdeen, Peeta Mellark, Cato (Hunger ...   \n",
       "2        NaN          NaN  Scout Finch, Atticus Finch, Jem Finch, Arthur ...   \n",
       "3        NaN          NaN  Mr. Bennet, Mrs. Bennet, Jane Bennet, Elizabet...   \n",
       "\n",
       "   description                  title  awards  \n",
       "0         1300       The Hunger Games      40  \n",
       "2         1204  To Kill a Mockingbird       4  \n",
       "3         1034    Pride and Prejudice       0  "
      ]
     },
     "execution_count": 112,
     "metadata": {},
     "output_type": "execute_result"
    }
   ],
   "source": [
    "df_X.head(3)"
   ]
  },
  {
   "cell_type": "markdown",
   "metadata": {},
   "source": [
    "### Check unique values"
   ]
  },
  {
   "cell_type": "code",
   "execution_count": 113,
   "metadata": {},
   "outputs": [
    {
     "data": {
      "text/plain": [
       "Unnamed: 0         21128\n",
       "id                 21128\n",
       "series              5078\n",
       "author             10394\n",
       "rating_count       14606\n",
       "review_count        5363\n",
       "number_of_pages     1174\n",
       "date_published        95\n",
       "publisher           5174\n",
       "original_title     16671\n",
       "genre                235\n",
       "isbn               17447\n",
       "isbn13               384\n",
       "characters          7588\n",
       "description         2584\n",
       "title              20370\n",
       "awards                26\n",
       "dtype: int64"
      ]
     },
     "execution_count": 113,
     "metadata": {},
     "output_type": "execute_result"
    }
   ],
   "source": [
    "df_X.nunique()"
   ]
  },
  {
   "cell_type": "code",
   "execution_count": 114,
   "metadata": {},
   "outputs": [
    {
     "data": {
      "text/plain": [
       "Unnamed: 0         1.000000\n",
       "id                 1.000000\n",
       "series             0.240345\n",
       "author             0.491954\n",
       "rating_count       0.691310\n",
       "review_count       0.253834\n",
       "number_of_pages    0.055566\n",
       "date_published     0.004496\n",
       "publisher          0.244888\n",
       "original_title     0.789048\n",
       "genre              0.011123\n",
       "isbn               0.825776\n",
       "isbn13             0.018175\n",
       "characters         0.359144\n",
       "description        0.122302\n",
       "title              0.964123\n",
       "awards             0.001231\n",
       "dtype: float64"
      ]
     },
     "execution_count": 114,
     "metadata": {},
     "output_type": "execute_result"
    }
   ],
   "source": [
    "df_X.nunique()/df_X.shape[0]"
   ]
  },
  {
   "cell_type": "markdown",
   "metadata": {},
   "source": [
    "Do title, original_title, isbn, isbn13 quá nhiều giá trị khác biệt. Vì vậy có ít sự ảnh hưởng đến mô hình."
   ]
  },
  {
   "cell_type": "markdown",
   "metadata": {},
   "source": [
    "### Droping title, original_title, isbn, isbn13"
   ]
  },
  {
   "cell_type": "code",
   "execution_count": 115,
   "metadata": {},
   "outputs": [],
   "source": [
    "df_X.drop(['title','original_title', 'isbn', 'isbn13'], axis=1, inplace=True)"
   ]
  },
  {
   "cell_type": "code",
   "execution_count": 116,
   "metadata": {},
   "outputs": [
    {
     "data": {
      "text/html": [
       "<div>\n",
       "<style scoped>\n",
       "    .dataframe tbody tr th:only-of-type {\n",
       "        vertical-align: middle;\n",
       "    }\n",
       "\n",
       "    .dataframe tbody tr th {\n",
       "        vertical-align: top;\n",
       "    }\n",
       "\n",
       "    .dataframe thead th {\n",
       "        text-align: right;\n",
       "    }\n",
       "</style>\n",
       "<table border=\"1\" class=\"dataframe\">\n",
       "  <thead>\n",
       "    <tr style=\"text-align: right;\">\n",
       "      <th></th>\n",
       "      <th>Unnamed: 0</th>\n",
       "      <th>id</th>\n",
       "      <th>series</th>\n",
       "      <th>author</th>\n",
       "      <th>rating_count</th>\n",
       "      <th>review_count</th>\n",
       "      <th>number_of_pages</th>\n",
       "      <th>date_published</th>\n",
       "      <th>publisher</th>\n",
       "      <th>genre</th>\n",
       "      <th>characters</th>\n",
       "      <th>description</th>\n",
       "      <th>awards</th>\n",
       "    </tr>\n",
       "  </thead>\n",
       "  <tbody>\n",
       "    <tr>\n",
       "      <th>0</th>\n",
       "      <td>0</td>\n",
       "      <td>2767052</td>\n",
       "      <td>The Hunger Games</td>\n",
       "      <td>Suzanne Collins</td>\n",
       "      <td>6459237.0</td>\n",
       "      <td>173214.0</td>\n",
       "      <td>374.0</td>\n",
       "      <td>2008.0</td>\n",
       "      <td>Scholastic Press</td>\n",
       "      <td>Young Adult</td>\n",
       "      <td>Katniss Everdeen, Peeta Mellark, Cato (Hunger ...</td>\n",
       "      <td>1300</td>\n",
       "      <td>40</td>\n",
       "    </tr>\n",
       "  </tbody>\n",
       "</table>\n",
       "</div>"
      ],
      "text/plain": [
       "   Unnamed: 0       id            series           author  rating_count  \\\n",
       "0           0  2767052  The Hunger Games  Suzanne Collins     6459237.0   \n",
       "\n",
       "   review_count  number_of_pages  date_published         publisher  \\\n",
       "0      173214.0            374.0          2008.0  Scholastic Press   \n",
       "\n",
       "          genre                                         characters  \\\n",
       "0  Young Adult   Katniss Everdeen, Peeta Mellark, Cato (Hunger ...   \n",
       "\n",
       "   description  awards  \n",
       "0         1300      40  "
      ]
     },
     "execution_count": 116,
     "metadata": {},
     "output_type": "execute_result"
    }
   ],
   "source": [
    "df_X.head(1)"
   ]
  },
  {
   "cell_type": "code",
   "execution_count": 117,
   "metadata": {},
   "outputs": [
    {
     "data": {
      "text/plain": [
       "Unnamed: 0         21128\n",
       "id                 21128\n",
       "series              5078\n",
       "author             10394\n",
       "rating_count       14606\n",
       "review_count        5363\n",
       "number_of_pages     1174\n",
       "date_published        95\n",
       "publisher           5174\n",
       "genre                235\n",
       "characters          7588\n",
       "description         2584\n",
       "awards                26\n",
       "dtype: int64"
      ]
     },
     "execution_count": 117,
     "metadata": {},
     "output_type": "execute_result"
    }
   ],
   "source": [
    "df_X.nunique()"
   ]
  },
  {
   "cell_type": "markdown",
   "metadata": {},
   "source": [
    "### Handling author"
   ]
  },
  {
   "cell_type": "code",
   "execution_count": 118,
   "metadata": {},
   "outputs": [
    {
     "data": {
      "text/plain": [
       "0       Suzanne Collins\n",
       "2            Harper Lee\n",
       "3           Jane Austen\n",
       "4       Stephenie Meyer\n",
       "5          Markus Zusak\n",
       "7            C.S. Lewis\n",
       "8        J.R.R. Tolkien\n",
       "9            John Green\n",
       "10    Margaret Mitchell\n",
       "11        Douglas Adams\n",
       "Name: author, dtype: object"
      ]
     },
     "execution_count": 118,
     "metadata": {},
     "output_type": "execute_result"
    }
   ],
   "source": [
    "df_X['author'].head(10)"
   ]
  },
  {
   "cell_type": "code",
   "execution_count": 119,
   "metadata": {},
   "outputs": [],
   "source": [
    "authors = []\n",
    "authors_raw = df_X['author'].values.tolist()\n",
    "for i in authors_raw:\n",
    "  if i == i:\n",
    "    arr = i.split(',')\n",
    "    for a in arr:\n",
    "      authors.append(a.strip())"
   ]
  },
  {
   "cell_type": "code",
   "execution_count": 120,
   "metadata": {},
   "outputs": [
    {
     "data": {
      "text/plain": [
       "10397"
      ]
     },
     "execution_count": 120,
     "metadata": {},
     "output_type": "execute_result"
    }
   ],
   "source": [
    "unique_authors = set(authors)\n",
    "len(unique_authors)"
   ]
  },
  {
   "cell_type": "markdown",
   "metadata": {},
   "source": [
    "Do quá nhiều giá trị khác biệt. Vì vậy xóa cột 'authors'."
   ]
  },
  {
   "cell_type": "code",
   "execution_count": 121,
   "metadata": {},
   "outputs": [],
   "source": [
    "df_X.drop('author', axis=1, inplace=True)"
   ]
  },
  {
   "cell_type": "code",
   "execution_count": 122,
   "metadata": {},
   "outputs": [
    {
     "data": {
      "text/html": [
       "<div>\n",
       "<style scoped>\n",
       "    .dataframe tbody tr th:only-of-type {\n",
       "        vertical-align: middle;\n",
       "    }\n",
       "\n",
       "    .dataframe tbody tr th {\n",
       "        vertical-align: top;\n",
       "    }\n",
       "\n",
       "    .dataframe thead th {\n",
       "        text-align: right;\n",
       "    }\n",
       "</style>\n",
       "<table border=\"1\" class=\"dataframe\">\n",
       "  <thead>\n",
       "    <tr style=\"text-align: right;\">\n",
       "      <th></th>\n",
       "      <th>Unnamed: 0</th>\n",
       "      <th>id</th>\n",
       "      <th>series</th>\n",
       "      <th>rating_count</th>\n",
       "      <th>review_count</th>\n",
       "      <th>number_of_pages</th>\n",
       "      <th>date_published</th>\n",
       "      <th>publisher</th>\n",
       "      <th>genre</th>\n",
       "      <th>characters</th>\n",
       "      <th>description</th>\n",
       "      <th>awards</th>\n",
       "    </tr>\n",
       "  </thead>\n",
       "  <tbody>\n",
       "    <tr>\n",
       "      <th>0</th>\n",
       "      <td>0</td>\n",
       "      <td>2767052</td>\n",
       "      <td>The Hunger Games</td>\n",
       "      <td>6459237.0</td>\n",
       "      <td>173214.0</td>\n",
       "      <td>374.0</td>\n",
       "      <td>2008.0</td>\n",
       "      <td>Scholastic Press</td>\n",
       "      <td>Young Adult</td>\n",
       "      <td>Katniss Everdeen, Peeta Mellark, Cato (Hunger ...</td>\n",
       "      <td>1300</td>\n",
       "      <td>40</td>\n",
       "    </tr>\n",
       "  </tbody>\n",
       "</table>\n",
       "</div>"
      ],
      "text/plain": [
       "   Unnamed: 0       id            series  rating_count  review_count  \\\n",
       "0           0  2767052  The Hunger Games     6459237.0      173214.0   \n",
       "\n",
       "   number_of_pages  date_published         publisher         genre  \\\n",
       "0            374.0          2008.0  Scholastic Press  Young Adult    \n",
       "\n",
       "                                          characters  description  awards  \n",
       "0  Katniss Everdeen, Peeta Mellark, Cato (Hunger ...         1300      40  "
      ]
     },
     "execution_count": 122,
     "metadata": {},
     "output_type": "execute_result"
    }
   ],
   "source": [
    "df_X.head(1)"
   ]
  },
  {
   "cell_type": "code",
   "execution_count": 123,
   "metadata": {},
   "outputs": [
    {
     "data": {
      "text/plain": [
       "Unnamed: 0         21128\n",
       "id                 21128\n",
       "series              5078\n",
       "rating_count       14606\n",
       "review_count        5363\n",
       "number_of_pages     1174\n",
       "date_published        95\n",
       "publisher           5174\n",
       "genre                235\n",
       "characters          7588\n",
       "description         2584\n",
       "awards                26\n",
       "dtype: int64"
      ]
     },
     "execution_count": 123,
     "metadata": {},
     "output_type": "execute_result"
    }
   ],
   "source": [
    "df_X.nunique()"
   ]
  },
  {
   "cell_type": "code",
   "execution_count": 124,
   "metadata": {},
   "outputs": [
    {
     "data": {
      "text/plain": [
       "Unnamed: 0           int64\n",
       "id                   int64\n",
       "series              object\n",
       "rating_count       float64\n",
       "review_count       float64\n",
       "number_of_pages    float64\n",
       "date_published     float64\n",
       "publisher           object\n",
       "genre               object\n",
       "characters          object\n",
       "description          int64\n",
       "awards               int64\n",
       "dtype: object"
      ]
     },
     "execution_count": 124,
     "metadata": {},
     "output_type": "execute_result"
    }
   ],
   "source": [
    "df_X.dtypes"
   ]
  },
  {
   "cell_type": "code",
   "execution_count": 125,
   "metadata": {},
   "outputs": [],
   "source": [
    "df_X.drop('characters', axis=1, inplace=True)"
   ]
  },
  {
   "cell_type": "markdown",
   "metadata": {},
   "source": [
    "### Handle non-numeric title"
   ]
  },
  {
   "cell_type": "markdown",
   "metadata": {},
   "source": [
    "Do các cột không là số (series, publisher, genre) đều không là các giá trị binary hoặc có thể xác định trước nên không thể tách thành các cột. Mình sẽ xử lý bằng cách gán số cho nó . Mỗi unique sẽ được gán 1 con số riêng khác nhau"
   ]
  },
  {
   "cell_type": "code",
   "execution_count": 126,
   "metadata": {},
   "outputs": [],
   "source": [
    "import pickle"
   ]
  },
  {
   "cell_type": "code",
   "execution_count": 127,
   "metadata": {},
   "outputs": [],
   "source": [
    "def save_map(map, map_name):\n",
    "  with open(map_name + '.pkl', 'wb') as f:\n",
    "    pickle.dump(map, f, pickle.HIGHEST_PROTOCOL)\n",
    "\n",
    "def load_map(map_name):\n",
    "  with open(map_name + '.pkl', 'rb') as f:\n",
    "    return pickle.load(f)"
   ]
  },
  {
   "cell_type": "code",
   "execution_count": 128,
   "metadata": {},
   "outputs": [],
   "source": [
    "def createMappingTable(df, column, text_digit_vals):\n",
    "  df_copy = df.copy()\n",
    "  text_digit_vals_column = {}\n",
    "  def convertToInt(text):\n",
    "    if text != text or text == '' or text == 0:\n",
    "      return 0\n",
    "    return int(text_digit_vals_column[text])\n",
    "  column_contents = df_copy[column].values.tolist()\n",
    "  unique_elements = set(column_contents)\n",
    "  x = 1\n",
    "  for unique in unique_elements:\n",
    "    if unique not in text_digit_vals_column and unique == unique and unique != 0:\n",
    "      text_digit_vals_column[unique] = x\n",
    "      x += 1\n",
    "  text_digit_vals[column] = text_digit_vals_column\n",
    "  df_copy[column] = list(map(convertToInt, df_copy[column]))\n",
    "  return df_copy"
   ]
  },
  {
   "cell_type": "code",
   "execution_count": 129,
   "metadata": {},
   "outputs": [],
   "source": [
    "def mapData(df, column, text_digit_vals):\n",
    "  df_copy = df.copy()\n",
    "  text_digit_vals_column = text_digit_vals[column]\n",
    "  def convertToInt(text):\n",
    "    if text != text or text == '' or text == 0:\n",
    "      return 0\n",
    "    return int(text_digit_vals_column[text])\n",
    "  column_contents = df_copy[column].values.tolist()\n",
    "  unique_elements = set(column_contents)\n",
    "  #x = len(text_digit_vals_column)\n",
    "  for unique in unique_elements:\n",
    "    if unique not in text_digit_vals_column and unique == unique and unique != 0:  \n",
    "      text_digit_vals_column[unique] = 0\n",
    "      #x += 1\n",
    "  df_copy[column] = list(map(convertToInt, df_copy[column]))\n",
    "  return df_copy"
   ]
  },
  {
   "cell_type": "code",
   "execution_count": 130,
   "metadata": {},
   "outputs": [
    {
     "data": {
      "text/html": [
       "<div>\n",
       "<style scoped>\n",
       "    .dataframe tbody tr th:only-of-type {\n",
       "        vertical-align: middle;\n",
       "    }\n",
       "\n",
       "    .dataframe tbody tr th {\n",
       "        vertical-align: top;\n",
       "    }\n",
       "\n",
       "    .dataframe thead th {\n",
       "        text-align: right;\n",
       "    }\n",
       "</style>\n",
       "<table border=\"1\" class=\"dataframe\">\n",
       "  <thead>\n",
       "    <tr style=\"text-align: right;\">\n",
       "      <th></th>\n",
       "      <th>Unnamed: 0</th>\n",
       "      <th>id</th>\n",
       "      <th>series</th>\n",
       "      <th>rating_count</th>\n",
       "      <th>review_count</th>\n",
       "      <th>number_of_pages</th>\n",
       "      <th>date_published</th>\n",
       "      <th>publisher</th>\n",
       "      <th>genre</th>\n",
       "      <th>description</th>\n",
       "      <th>awards</th>\n",
       "    </tr>\n",
       "  </thead>\n",
       "  <tbody>\n",
       "    <tr>\n",
       "      <th>0</th>\n",
       "      <td>0</td>\n",
       "      <td>2767052</td>\n",
       "      <td>The Hunger Games</td>\n",
       "      <td>6459237.0</td>\n",
       "      <td>173214.0</td>\n",
       "      <td>374.0</td>\n",
       "      <td>2008.0</td>\n",
       "      <td>Scholastic Press</td>\n",
       "      <td>Young Adult</td>\n",
       "      <td>1300</td>\n",
       "      <td>40</td>\n",
       "    </tr>\n",
       "    <tr>\n",
       "      <th>2</th>\n",
       "      <td>2</td>\n",
       "      <td>2657</td>\n",
       "      <td>To Kill a Mockingbird</td>\n",
       "      <td>4569068.0</td>\n",
       "      <td>92506.0</td>\n",
       "      <td>324.0</td>\n",
       "      <td>2006.0</td>\n",
       "      <td>Harper Perennial Modern Classics</td>\n",
       "      <td>Classics</td>\n",
       "      <td>1204</td>\n",
       "      <td>4</td>\n",
       "    </tr>\n",
       "    <tr>\n",
       "      <th>3</th>\n",
       "      <td>3</td>\n",
       "      <td>1885</td>\n",
       "      <td>NaN</td>\n",
       "      <td>3047826.0</td>\n",
       "      <td>68657.0</td>\n",
       "      <td>279.0</td>\n",
       "      <td>2000.0</td>\n",
       "      <td>Modern Library</td>\n",
       "      <td>Classics</td>\n",
       "      <td>1034</td>\n",
       "      <td>0</td>\n",
       "    </tr>\n",
       "  </tbody>\n",
       "</table>\n",
       "</div>"
      ],
      "text/plain": [
       "   Unnamed: 0       id                 series  rating_count  review_count  \\\n",
       "0           0  2767052       The Hunger Games     6459237.0      173214.0   \n",
       "2           2     2657  To Kill a Mockingbird     4569068.0       92506.0   \n",
       "3           3     1885                    NaN     3047826.0       68657.0   \n",
       "\n",
       "   number_of_pages  date_published                         publisher  \\\n",
       "0            374.0          2008.0                  Scholastic Press   \n",
       "2            324.0          2006.0  Harper Perennial Modern Classics   \n",
       "3            279.0          2000.0                    Modern Library   \n",
       "\n",
       "          genre  description  awards  \n",
       "0  Young Adult          1300      40  \n",
       "2     Classics          1204       4  \n",
       "3     Classics          1034       0  "
      ]
     },
     "execution_count": 130,
     "metadata": {},
     "output_type": "execute_result"
    }
   ],
   "source": [
    "df_X.head(3)"
   ]
  },
  {
   "cell_type": "code",
   "execution_count": 131,
   "metadata": {},
   "outputs": [],
   "source": [
    "text_digit_vals = {}\n",
    "df_X = createMappingTable(df_X,'series', text_digit_vals)\n",
    "df_X = createMappingTable(df_X,'publisher', text_digit_vals)\n",
    "df_X = createMappingTable(df_X,'genre', text_digit_vals)"
   ]
  },
  {
   "cell_type": "code",
   "execution_count": 132,
   "metadata": {},
   "outputs": [],
   "source": [
    "save_map(text_digit_vals,'map')"
   ]
  },
  {
   "cell_type": "code",
   "execution_count": 133,
   "metadata": {},
   "outputs": [
    {
     "data": {
      "text/html": [
       "<div>\n",
       "<style scoped>\n",
       "    .dataframe tbody tr th:only-of-type {\n",
       "        vertical-align: middle;\n",
       "    }\n",
       "\n",
       "    .dataframe tbody tr th {\n",
       "        vertical-align: top;\n",
       "    }\n",
       "\n",
       "    .dataframe thead th {\n",
       "        text-align: right;\n",
       "    }\n",
       "</style>\n",
       "<table border=\"1\" class=\"dataframe\">\n",
       "  <thead>\n",
       "    <tr style=\"text-align: right;\">\n",
       "      <th></th>\n",
       "      <th>Unnamed: 0</th>\n",
       "      <th>id</th>\n",
       "      <th>series</th>\n",
       "      <th>rating_count</th>\n",
       "      <th>review_count</th>\n",
       "      <th>number_of_pages</th>\n",
       "      <th>date_published</th>\n",
       "      <th>publisher</th>\n",
       "      <th>genre</th>\n",
       "      <th>description</th>\n",
       "      <th>awards</th>\n",
       "    </tr>\n",
       "  </thead>\n",
       "  <tbody>\n",
       "    <tr>\n",
       "      <th>0</th>\n",
       "      <td>0</td>\n",
       "      <td>2767052</td>\n",
       "      <td>1437</td>\n",
       "      <td>6459237.0</td>\n",
       "      <td>173214.0</td>\n",
       "      <td>374.0</td>\n",
       "      <td>2008.0</td>\n",
       "      <td>4691</td>\n",
       "      <td>208</td>\n",
       "      <td>1300</td>\n",
       "      <td>40</td>\n",
       "    </tr>\n",
       "    <tr>\n",
       "      <th>2</th>\n",
       "      <td>2</td>\n",
       "      <td>2657</td>\n",
       "      <td>2798</td>\n",
       "      <td>4569068.0</td>\n",
       "      <td>92506.0</td>\n",
       "      <td>324.0</td>\n",
       "      <td>2006.0</td>\n",
       "      <td>3629</td>\n",
       "      <td>123</td>\n",
       "      <td>1204</td>\n",
       "      <td>4</td>\n",
       "    </tr>\n",
       "    <tr>\n",
       "      <th>3</th>\n",
       "      <td>3</td>\n",
       "      <td>1885</td>\n",
       "      <td>0</td>\n",
       "      <td>3047826.0</td>\n",
       "      <td>68657.0</td>\n",
       "      <td>279.0</td>\n",
       "      <td>2000.0</td>\n",
       "      <td>3622</td>\n",
       "      <td>123</td>\n",
       "      <td>1034</td>\n",
       "      <td>0</td>\n",
       "    </tr>\n",
       "    <tr>\n",
       "      <th>4</th>\n",
       "      <td>4</td>\n",
       "      <td>41865</td>\n",
       "      <td>2070</td>\n",
       "      <td>5029979.0</td>\n",
       "      <td>105360.0</td>\n",
       "      <td>501.0</td>\n",
       "      <td>2006.0</td>\n",
       "      <td>84</td>\n",
       "      <td>208</td>\n",
       "      <td>681</td>\n",
       "      <td>24</td>\n",
       "    </tr>\n",
       "    <tr>\n",
       "      <th>5</th>\n",
       "      <td>5</td>\n",
       "      <td>19063</td>\n",
       "      <td>0</td>\n",
       "      <td>1863936.0</td>\n",
       "      <td>114137.0</td>\n",
       "      <td>552.0</td>\n",
       "      <td>2006.0</td>\n",
       "      <td>4982</td>\n",
       "      <td>47</td>\n",
       "      <td>1385</td>\n",
       "      <td>19</td>\n",
       "    </tr>\n",
       "  </tbody>\n",
       "</table>\n",
       "</div>"
      ],
      "text/plain": [
       "   Unnamed: 0       id  series  rating_count  review_count  number_of_pages  \\\n",
       "0           0  2767052    1437     6459237.0      173214.0            374.0   \n",
       "2           2     2657    2798     4569068.0       92506.0            324.0   \n",
       "3           3     1885       0     3047826.0       68657.0            279.0   \n",
       "4           4    41865    2070     5029979.0      105360.0            501.0   \n",
       "5           5    19063       0     1863936.0      114137.0            552.0   \n",
       "\n",
       "   date_published  publisher  genre  description  awards  \n",
       "0          2008.0       4691    208         1300      40  \n",
       "2          2006.0       3629    123         1204       4  \n",
       "3          2000.0       3622    123         1034       0  \n",
       "4          2006.0         84    208          681      24  \n",
       "5          2006.0       4982     47         1385      19  "
      ]
     },
     "execution_count": 133,
     "metadata": {},
     "output_type": "execute_result"
    }
   ],
   "source": [
    "df_X.head()"
   ]
  },
  {
   "cell_type": "code",
   "execution_count": 134,
   "metadata": {},
   "outputs": [],
   "source": [
    "df_X.drop('Unnamed: 0', axis=1, inplace=True)"
   ]
  },
  {
   "cell_type": "code",
   "execution_count": 135,
   "metadata": {},
   "outputs": [
    {
     "data": {
      "text/html": [
       "<div>\n",
       "<style scoped>\n",
       "    .dataframe tbody tr th:only-of-type {\n",
       "        vertical-align: middle;\n",
       "    }\n",
       "\n",
       "    .dataframe tbody tr th {\n",
       "        vertical-align: top;\n",
       "    }\n",
       "\n",
       "    .dataframe thead th {\n",
       "        text-align: right;\n",
       "    }\n",
       "</style>\n",
       "<table border=\"1\" class=\"dataframe\">\n",
       "  <thead>\n",
       "    <tr style=\"text-align: right;\">\n",
       "      <th></th>\n",
       "      <th>id</th>\n",
       "      <th>series</th>\n",
       "      <th>rating_count</th>\n",
       "      <th>review_count</th>\n",
       "      <th>number_of_pages</th>\n",
       "      <th>date_published</th>\n",
       "      <th>publisher</th>\n",
       "      <th>genre</th>\n",
       "      <th>description</th>\n",
       "      <th>awards</th>\n",
       "    </tr>\n",
       "  </thead>\n",
       "  <tbody>\n",
       "    <tr>\n",
       "      <th>0</th>\n",
       "      <td>2767052</td>\n",
       "      <td>1437</td>\n",
       "      <td>6459237.0</td>\n",
       "      <td>173214.0</td>\n",
       "      <td>374.0</td>\n",
       "      <td>2008.0</td>\n",
       "      <td>4691</td>\n",
       "      <td>208</td>\n",
       "      <td>1300</td>\n",
       "      <td>40</td>\n",
       "    </tr>\n",
       "    <tr>\n",
       "      <th>2</th>\n",
       "      <td>2657</td>\n",
       "      <td>2798</td>\n",
       "      <td>4569068.0</td>\n",
       "      <td>92506.0</td>\n",
       "      <td>324.0</td>\n",
       "      <td>2006.0</td>\n",
       "      <td>3629</td>\n",
       "      <td>123</td>\n",
       "      <td>1204</td>\n",
       "      <td>4</td>\n",
       "    </tr>\n",
       "    <tr>\n",
       "      <th>3</th>\n",
       "      <td>1885</td>\n",
       "      <td>0</td>\n",
       "      <td>3047826.0</td>\n",
       "      <td>68657.0</td>\n",
       "      <td>279.0</td>\n",
       "      <td>2000.0</td>\n",
       "      <td>3622</td>\n",
       "      <td>123</td>\n",
       "      <td>1034</td>\n",
       "      <td>0</td>\n",
       "    </tr>\n",
       "    <tr>\n",
       "      <th>4</th>\n",
       "      <td>41865</td>\n",
       "      <td>2070</td>\n",
       "      <td>5029979.0</td>\n",
       "      <td>105360.0</td>\n",
       "      <td>501.0</td>\n",
       "      <td>2006.0</td>\n",
       "      <td>84</td>\n",
       "      <td>208</td>\n",
       "      <td>681</td>\n",
       "      <td>24</td>\n",
       "    </tr>\n",
       "    <tr>\n",
       "      <th>5</th>\n",
       "      <td>19063</td>\n",
       "      <td>0</td>\n",
       "      <td>1863936.0</td>\n",
       "      <td>114137.0</td>\n",
       "      <td>552.0</td>\n",
       "      <td>2006.0</td>\n",
       "      <td>4982</td>\n",
       "      <td>47</td>\n",
       "      <td>1385</td>\n",
       "      <td>19</td>\n",
       "    </tr>\n",
       "    <tr>\n",
       "      <th>...</th>\n",
       "      <td>...</td>\n",
       "      <td>...</td>\n",
       "      <td>...</td>\n",
       "      <td>...</td>\n",
       "      <td>...</td>\n",
       "      <td>...</td>\n",
       "      <td>...</td>\n",
       "      <td>...</td>\n",
       "      <td>...</td>\n",
       "      <td>...</td>\n",
       "    </tr>\n",
       "    <tr>\n",
       "      <th>22495</th>\n",
       "      <td>10754265</td>\n",
       "      <td>5002</td>\n",
       "      <td>1598.0</td>\n",
       "      <td>214.0</td>\n",
       "      <td>418.0</td>\n",
       "      <td>2011.0</td>\n",
       "      <td>3057</td>\n",
       "      <td>100</td>\n",
       "      <td>1251</td>\n",
       "      <td>0</td>\n",
       "    </tr>\n",
       "    <tr>\n",
       "      <th>22496</th>\n",
       "      <td>6383762</td>\n",
       "      <td>4882</td>\n",
       "      <td>497.0</td>\n",
       "      <td>45.0</td>\n",
       "      <td>420.0</td>\n",
       "      <td>2009.0</td>\n",
       "      <td>4817</td>\n",
       "      <td>100</td>\n",
       "      <td>951</td>\n",
       "      <td>0</td>\n",
       "    </tr>\n",
       "    <tr>\n",
       "      <th>22497</th>\n",
       "      <td>24308</td>\n",
       "      <td>2493</td>\n",
       "      <td>990.0</td>\n",
       "      <td>29.0</td>\n",
       "      <td>144.0</td>\n",
       "      <td>2001.0</td>\n",
       "      <td>3980</td>\n",
       "      <td>65</td>\n",
       "      <td>297</td>\n",
       "      <td>0</td>\n",
       "    </tr>\n",
       "    <tr>\n",
       "      <th>22498</th>\n",
       "      <td>1162710</td>\n",
       "      <td>0</td>\n",
       "      <td>424.0</td>\n",
       "      <td>28.0</td>\n",
       "      <td>400.0</td>\n",
       "      <td>1976.0</td>\n",
       "      <td>2120</td>\n",
       "      <td>130</td>\n",
       "      <td>1249</td>\n",
       "      <td>0</td>\n",
       "    </tr>\n",
       "    <tr>\n",
       "      <th>22499</th>\n",
       "      <td>15820642</td>\n",
       "      <td>2106</td>\n",
       "      <td>2357.0</td>\n",
       "      <td>153.0</td>\n",
       "      <td>288.0</td>\n",
       "      <td>2013.0</td>\n",
       "      <td>3328</td>\n",
       "      <td>235</td>\n",
       "      <td>1108</td>\n",
       "      <td>0</td>\n",
       "    </tr>\n",
       "  </tbody>\n",
       "</table>\n",
       "<p>21128 rows × 10 columns</p>\n",
       "</div>"
      ],
      "text/plain": [
       "             id  series  rating_count  review_count  number_of_pages  \\\n",
       "0       2767052    1437     6459237.0      173214.0            374.0   \n",
       "2          2657    2798     4569068.0       92506.0            324.0   \n",
       "3          1885       0     3047826.0       68657.0            279.0   \n",
       "4         41865    2070     5029979.0      105360.0            501.0   \n",
       "5         19063       0     1863936.0      114137.0            552.0   \n",
       "...         ...     ...           ...           ...              ...   \n",
       "22495  10754265    5002        1598.0         214.0            418.0   \n",
       "22496   6383762    4882         497.0          45.0            420.0   \n",
       "22497     24308    2493         990.0          29.0            144.0   \n",
       "22498   1162710       0         424.0          28.0            400.0   \n",
       "22499  15820642    2106        2357.0         153.0            288.0   \n",
       "\n",
       "       date_published  publisher  genre  description  awards  \n",
       "0              2008.0       4691    208         1300      40  \n",
       "2              2006.0       3629    123         1204       4  \n",
       "3              2000.0       3622    123         1034       0  \n",
       "4              2006.0         84    208          681      24  \n",
       "5              2006.0       4982     47         1385      19  \n",
       "...               ...        ...    ...          ...     ...  \n",
       "22495          2011.0       3057    100         1251       0  \n",
       "22496          2009.0       4817    100          951       0  \n",
       "22497          2001.0       3980     65          297       0  \n",
       "22498          1976.0       2120    130         1249       0  \n",
       "22499          2013.0       3328    235         1108       0  \n",
       "\n",
       "[21128 rows x 10 columns]"
      ]
     },
     "execution_count": 135,
     "metadata": {},
     "output_type": "execute_result"
    }
   ],
   "source": [
    "df_X"
   ]
  },
  {
   "cell_type": "markdown",
   "metadata": {},
   "source": [
    "### Join X and y"
   ]
  },
  {
   "cell_type": "code",
   "execution_count": 136,
   "metadata": {},
   "outputs": [],
   "source": [
    "df_X['id'] = df_X['id'].astype(int)"
   ]
  },
  {
   "cell_type": "code",
   "execution_count": 137,
   "metadata": {},
   "outputs": [],
   "source": [
    "df_y['id'] = df_y['id'].astype(int)"
   ]
  },
  {
   "cell_type": "code",
   "execution_count": 138,
   "metadata": {},
   "outputs": [],
   "source": [
    "df = df_X.set_index('id').join(df_y.set_index('id'))\n",
    "df.reset_index(inplace=True)"
   ]
  },
  {
   "cell_type": "code",
   "execution_count": 139,
   "metadata": {},
   "outputs": [],
   "source": [
    "df.drop('Unnamed: 0', axis=1, inplace=True)"
   ]
  },
  {
   "cell_type": "code",
   "execution_count": 140,
   "metadata": {},
   "outputs": [
    {
     "name": "stdout",
     "output_type": "stream",
     "text": [
      "<class 'pandas.core.frame.DataFrame'>\n",
      "RangeIndex: 21128 entries, 0 to 21127\n",
      "Data columns (total 11 columns):\n",
      " #   Column           Non-Null Count  Dtype  \n",
      "---  ------           --------------  -----  \n",
      " 0   id               21128 non-null  int64  \n",
      " 1   series           21128 non-null  int64  \n",
      " 2   rating_count     21128 non-null  float64\n",
      " 3   review_count     21128 non-null  float64\n",
      " 4   number_of_pages  20701 non-null  float64\n",
      " 5   date_published   21128 non-null  float64\n",
      " 6   publisher        21128 non-null  int64  \n",
      " 7   genre            21128 non-null  int64  \n",
      " 8   description      21128 non-null  int64  \n",
      " 9   awards           21128 non-null  int64  \n",
      " 10  rating           21128 non-null  float64\n",
      "dtypes: float64(5), int64(6)\n",
      "memory usage: 1.8 MB\n"
     ]
    }
   ],
   "source": [
    "df.info()"
   ]
  },
  {
   "cell_type": "markdown",
   "metadata": {},
   "source": [
    "### Drop duplicate rows"
   ]
  },
  {
   "cell_type": "code",
   "execution_count": 141,
   "metadata": {},
   "outputs": [],
   "source": [
    "df = df.drop_duplicates()\n",
    "df.reset_index(inplace=True, drop=True)"
   ]
  },
  {
   "cell_type": "code",
   "execution_count": 142,
   "metadata": {},
   "outputs": [
    {
     "name": "stdout",
     "output_type": "stream",
     "text": [
      "<class 'pandas.core.frame.DataFrame'>\n",
      "RangeIndex: 21128 entries, 0 to 21127\n",
      "Data columns (total 11 columns):\n",
      " #   Column           Non-Null Count  Dtype  \n",
      "---  ------           --------------  -----  \n",
      " 0   id               21128 non-null  int64  \n",
      " 1   series           21128 non-null  int64  \n",
      " 2   rating_count     21128 non-null  float64\n",
      " 3   review_count     21128 non-null  float64\n",
      " 4   number_of_pages  20701 non-null  float64\n",
      " 5   date_published   21128 non-null  float64\n",
      " 6   publisher        21128 non-null  int64  \n",
      " 7   genre            21128 non-null  int64  \n",
      " 8   description      21128 non-null  int64  \n",
      " 9   awards           21128 non-null  int64  \n",
      " 10  rating           21128 non-null  float64\n",
      "dtypes: float64(5), int64(6)\n",
      "memory usage: 1.8 MB\n"
     ]
    }
   ],
   "source": [
    "df.info()"
   ]
  },
  {
   "cell_type": "markdown",
   "metadata": {},
   "source": [
    "### Remove rows noise data"
   ]
  },
  {
   "cell_type": "code",
   "execution_count": 143,
   "metadata": {},
   "outputs": [],
   "source": [
    "df = df[df['rating_count'] >= 1]"
   ]
  },
  {
   "cell_type": "code",
   "execution_count": 144,
   "metadata": {},
   "outputs": [],
   "source": [
    "df = df[df['number_of_pages'] >= 1]"
   ]
  },
  {
   "cell_type": "markdown",
   "metadata": {},
   "source": [
    "### Drop over nan values rows"
   ]
  },
  {
   "cell_type": "code",
   "execution_count": 145,
   "metadata": {},
   "outputs": [
    {
     "data": {
      "text/plain": [
       "id                 0\n",
       "series             0\n",
       "rating_count       0\n",
       "review_count       0\n",
       "number_of_pages    0\n",
       "date_published     0\n",
       "publisher          0\n",
       "genre              0\n",
       "description        0\n",
       "awards             0\n",
       "rating             0\n",
       "dtype: int64"
      ]
     },
     "execution_count": 145,
     "metadata": {},
     "output_type": "execute_result"
    }
   ],
   "source": [
    "df.isna().sum()"
   ]
  },
  {
   "cell_type": "code",
   "execution_count": 146,
   "metadata": {},
   "outputs": [],
   "source": [
    "per = 0.5 # Phan tram gia tri khac na\n",
    "df_dropped = df.dropna(axis=1,thresh=int(df.shape[0]*per)) # Drop features with over 50% nan values\n",
    "df_dropped_2 = df.dropna(axis=0,thresh=int(df.shape[1]*per)) \n",
    "#df_dropped_2 = df_dropped.dropna(how='any') # Drop \n",
    "df_dropped_2.reset_index(inplace=True, drop=True)"
   ]
  },
  {
   "cell_type": "code",
   "execution_count": 147,
   "metadata": {},
   "outputs": [
    {
     "name": "stdout",
     "output_type": "stream",
     "text": [
      "<class 'pandas.core.frame.DataFrame'>\n",
      "RangeIndex: 20642 entries, 0 to 20641\n",
      "Data columns (total 11 columns):\n",
      " #   Column           Non-Null Count  Dtype  \n",
      "---  ------           --------------  -----  \n",
      " 0   id               20642 non-null  int64  \n",
      " 1   series           20642 non-null  int64  \n",
      " 2   rating_count     20642 non-null  float64\n",
      " 3   review_count     20642 non-null  float64\n",
      " 4   number_of_pages  20642 non-null  float64\n",
      " 5   date_published   20642 non-null  float64\n",
      " 6   publisher        20642 non-null  int64  \n",
      " 7   genre            20642 non-null  int64  \n",
      " 8   description      20642 non-null  int64  \n",
      " 9   awards           20642 non-null  int64  \n",
      " 10  rating           20642 non-null  float64\n",
      "dtypes: float64(5), int64(6)\n",
      "memory usage: 1.7 MB\n"
     ]
    }
   ],
   "source": [
    "df_dropped_2.info()"
   ]
  },
  {
   "cell_type": "markdown",
   "metadata": {},
   "source": [
    "### Data set preprocessing"
   ]
  },
  {
   "cell_type": "code",
   "execution_count": 148,
   "metadata": {},
   "outputs": [],
   "source": [
    "def preprocess(df):\n",
    "  df_copy = df.copy()\n",
    "  #df_copy = correctDataEncoding(df_copy)\n",
    "  list_col_dropped = ['link', 'author_link',  \n",
    "                      'settings', 'characters', 'author', \n",
    "                      'original_title', 'isbn', 'isbn13', 'id']\n",
    "  df_copy.drop(list_col_dropped, axis=1, inplace=True)\n",
    "  df_copy = formatSeries(df_copy)\n",
    "  df_copy = formatDatePublished(df_copy)\n",
    "  df_copy = formatAward(df_copy)\n",
    "  df_copy = formatGenre(df_copy)\n",
    "  df_copy = formatDescription(df_copy)\n",
    "  text_digit_vals = load_map('map')\n",
    "  df_copy = mapData(df_copy, 'series', text_digit_vals)\n",
    "\n",
    "  df_copy = mapData(df_copy, 'publisher', text_digit_vals)\n",
    "\n",
    "  df_copy = mapData(df_copy, 'genre', text_digit_vals)\n",
    "  #df_copy = fillNaN(df_copy)\n",
    "  return df_copy"
   ]
  },
  {
   "cell_type": "markdown",
   "metadata": {},
   "source": [
    "### Processing dummies"
   ]
  },
  {
   "cell_type": "code",
   "execution_count": 149,
   "metadata": {},
   "outputs": [],
   "source": [
    "data_dummies = pd.get_dummies(df_dropped_2, drop_first=True)\n",
    "data_dummies = data_dummies.astype(float)\n",
    "cols = data_dummies.columns.values\n",
    "data_preprocessed = data_dummies[cols]"
   ]
  },
  {
   "cell_type": "code",
   "execution_count": 150,
   "metadata": {},
   "outputs": [
    {
     "data": {
      "text/html": [
       "<div>\n",
       "<style scoped>\n",
       "    .dataframe tbody tr th:only-of-type {\n",
       "        vertical-align: middle;\n",
       "    }\n",
       "\n",
       "    .dataframe tbody tr th {\n",
       "        vertical-align: top;\n",
       "    }\n",
       "\n",
       "    .dataframe thead th {\n",
       "        text-align: right;\n",
       "    }\n",
       "</style>\n",
       "<table border=\"1\" class=\"dataframe\">\n",
       "  <thead>\n",
       "    <tr style=\"text-align: right;\">\n",
       "      <th></th>\n",
       "      <th>id</th>\n",
       "      <th>series</th>\n",
       "      <th>rating_count</th>\n",
       "      <th>review_count</th>\n",
       "      <th>number_of_pages</th>\n",
       "      <th>date_published</th>\n",
       "      <th>publisher</th>\n",
       "      <th>genre</th>\n",
       "      <th>description</th>\n",
       "      <th>awards</th>\n",
       "      <th>rating</th>\n",
       "    </tr>\n",
       "  </thead>\n",
       "  <tbody>\n",
       "    <tr>\n",
       "      <th>0</th>\n",
       "      <td>2767052.0</td>\n",
       "      <td>1437.0</td>\n",
       "      <td>6459237.0</td>\n",
       "      <td>173214.0</td>\n",
       "      <td>374.0</td>\n",
       "      <td>2008.0</td>\n",
       "      <td>4691.0</td>\n",
       "      <td>208.0</td>\n",
       "      <td>1300.0</td>\n",
       "      <td>40.0</td>\n",
       "      <td>4.32</td>\n",
       "    </tr>\n",
       "    <tr>\n",
       "      <th>1</th>\n",
       "      <td>2657.0</td>\n",
       "      <td>2798.0</td>\n",
       "      <td>4569068.0</td>\n",
       "      <td>92506.0</td>\n",
       "      <td>324.0</td>\n",
       "      <td>2006.0</td>\n",
       "      <td>3629.0</td>\n",
       "      <td>123.0</td>\n",
       "      <td>1204.0</td>\n",
       "      <td>4.0</td>\n",
       "      <td>4.28</td>\n",
       "    </tr>\n",
       "    <tr>\n",
       "      <th>2</th>\n",
       "      <td>1885.0</td>\n",
       "      <td>0.0</td>\n",
       "      <td>3047826.0</td>\n",
       "      <td>68657.0</td>\n",
       "      <td>279.0</td>\n",
       "      <td>2000.0</td>\n",
       "      <td>3622.0</td>\n",
       "      <td>123.0</td>\n",
       "      <td>1034.0</td>\n",
       "      <td>0.0</td>\n",
       "      <td>4.26</td>\n",
       "    </tr>\n",
       "    <tr>\n",
       "      <th>3</th>\n",
       "      <td>41865.0</td>\n",
       "      <td>2070.0</td>\n",
       "      <td>5029979.0</td>\n",
       "      <td>105360.0</td>\n",
       "      <td>501.0</td>\n",
       "      <td>2006.0</td>\n",
       "      <td>84.0</td>\n",
       "      <td>208.0</td>\n",
       "      <td>681.0</td>\n",
       "      <td>24.0</td>\n",
       "      <td>3.60</td>\n",
       "    </tr>\n",
       "    <tr>\n",
       "      <th>4</th>\n",
       "      <td>19063.0</td>\n",
       "      <td>0.0</td>\n",
       "      <td>1863936.0</td>\n",
       "      <td>114137.0</td>\n",
       "      <td>552.0</td>\n",
       "      <td>2006.0</td>\n",
       "      <td>4982.0</td>\n",
       "      <td>47.0</td>\n",
       "      <td>1385.0</td>\n",
       "      <td>19.0</td>\n",
       "      <td>4.37</td>\n",
       "    </tr>\n",
       "  </tbody>\n",
       "</table>\n",
       "</div>"
      ],
      "text/plain": [
       "          id  series  rating_count  review_count  number_of_pages  \\\n",
       "0  2767052.0  1437.0     6459237.0      173214.0            374.0   \n",
       "1     2657.0  2798.0     4569068.0       92506.0            324.0   \n",
       "2     1885.0     0.0     3047826.0       68657.0            279.0   \n",
       "3    41865.0  2070.0     5029979.0      105360.0            501.0   \n",
       "4    19063.0     0.0     1863936.0      114137.0            552.0   \n",
       "\n",
       "   date_published  publisher  genre  description  awards  rating  \n",
       "0          2008.0     4691.0  208.0       1300.0    40.0    4.32  \n",
       "1          2006.0     3629.0  123.0       1204.0     4.0    4.28  \n",
       "2          2000.0     3622.0  123.0       1034.0     0.0    4.26  \n",
       "3          2006.0       84.0  208.0        681.0    24.0    3.60  \n",
       "4          2006.0     4982.0   47.0       1385.0    19.0    4.37  "
      ]
     },
     "execution_count": 150,
     "metadata": {},
     "output_type": "execute_result"
    }
   ],
   "source": [
    "data_preprocessed.head(5)"
   ]
  },
  {
   "cell_type": "code",
   "execution_count": 151,
   "metadata": {},
   "outputs": [
    {
     "data": {
      "text/plain": [
       "(20642, 11)"
      ]
     },
     "execution_count": 151,
     "metadata": {},
     "output_type": "execute_result"
    }
   ],
   "source": [
    "data_preprocessed.shape"
   ]
  },
  {
   "cell_type": "code",
   "execution_count": 152,
   "metadata": {},
   "outputs": [],
   "source": [
    "X = data_preprocessed.drop(['id', 'rating'], axis=1)\n",
    "y = data_preprocessed['rating'].values"
   ]
  },
  {
   "cell_type": "markdown",
   "metadata": {},
   "source": [
    "### Split train and valid data"
   ]
  },
  {
   "cell_type": "code",
   "execution_count": 153,
   "metadata": {},
   "outputs": [],
   "source": [
    "X_train, X_valid, y_train, y_valid = train_test_split(X, y,test_size=0.2,random_state=365)"
   ]
  },
  {
   "cell_type": "markdown",
   "metadata": {},
   "source": [
    "### Training"
   ]
  },
  {
   "cell_type": "code",
   "execution_count": 154,
   "metadata": {},
   "outputs": [],
   "source": [
    "def save_model(model,model_name):\n",
    "  with open(model_name + '.pkl', 'wb') as f:\n",
    "    pickle.dump(model, f, pickle.HIGHEST_PROTOCOL)\n",
    "\n",
    "def load_model(model_name):\n",
    "  with open(model_name + '.pkl', 'rb') as f:\n",
    "    return pickle.load(f)"
   ]
  },
  {
   "cell_type": "code",
   "execution_count": 155,
   "metadata": {},
   "outputs": [],
   "source": [
    "from sklearn.svm import SVR\n",
    "from sklearn.pipeline import make_pipeline\n",
    "from sklearn.neural_network import MLPRegressor\n",
    "from sklearn.preprocessing import StandardScaler"
   ]
  },
  {
   "cell_type": "code",
   "execution_count": 156,
   "metadata": {},
   "outputs": [],
   "source": [
    "# Linear Regression\n",
    "reg_LR = make_pipeline(StandardScaler(), LinearRegression())\n",
    "# Support Vector Regression\n",
    "reg_SVR = make_pipeline(StandardScaler(), SVR(C=0.5, gamma=0.1))\n",
    "# MLP Regression\n",
    "reg_MLPR = make_pipeline(StandardScaler(), MLPRegressor(random_state=1, max_iter=500))"
   ]
  },
  {
   "cell_type": "code",
   "execution_count": 157,
   "metadata": {},
   "outputs": [
    {
     "data": {
      "text/html": [
       "<style>#sk-container-id-1 {color: black;background-color: white;}#sk-container-id-1 pre{padding: 0;}#sk-container-id-1 div.sk-toggleable {background-color: white;}#sk-container-id-1 label.sk-toggleable__label {cursor: pointer;display: block;width: 100%;margin-bottom: 0;padding: 0.3em;box-sizing: border-box;text-align: center;}#sk-container-id-1 label.sk-toggleable__label-arrow:before {content: \"▸\";float: left;margin-right: 0.25em;color: #696969;}#sk-container-id-1 label.sk-toggleable__label-arrow:hover:before {color: black;}#sk-container-id-1 div.sk-estimator:hover label.sk-toggleable__label-arrow:before {color: black;}#sk-container-id-1 div.sk-toggleable__content {max-height: 0;max-width: 0;overflow: hidden;text-align: left;background-color: #f0f8ff;}#sk-container-id-1 div.sk-toggleable__content pre {margin: 0.2em;color: black;border-radius: 0.25em;background-color: #f0f8ff;}#sk-container-id-1 input.sk-toggleable__control:checked~div.sk-toggleable__content {max-height: 200px;max-width: 100%;overflow: auto;}#sk-container-id-1 input.sk-toggleable__control:checked~label.sk-toggleable__label-arrow:before {content: \"▾\";}#sk-container-id-1 div.sk-estimator input.sk-toggleable__control:checked~label.sk-toggleable__label {background-color: #d4ebff;}#sk-container-id-1 div.sk-label input.sk-toggleable__control:checked~label.sk-toggleable__label {background-color: #d4ebff;}#sk-container-id-1 input.sk-hidden--visually {border: 0;clip: rect(1px 1px 1px 1px);clip: rect(1px, 1px, 1px, 1px);height: 1px;margin: -1px;overflow: hidden;padding: 0;position: absolute;width: 1px;}#sk-container-id-1 div.sk-estimator {font-family: monospace;background-color: #f0f8ff;border: 1px dotted black;border-radius: 0.25em;box-sizing: border-box;margin-bottom: 0.5em;}#sk-container-id-1 div.sk-estimator:hover {background-color: #d4ebff;}#sk-container-id-1 div.sk-parallel-item::after {content: \"\";width: 100%;border-bottom: 1px solid gray;flex-grow: 1;}#sk-container-id-1 div.sk-label:hover label.sk-toggleable__label {background-color: #d4ebff;}#sk-container-id-1 div.sk-serial::before {content: \"\";position: absolute;border-left: 1px solid gray;box-sizing: border-box;top: 0;bottom: 0;left: 50%;z-index: 0;}#sk-container-id-1 div.sk-serial {display: flex;flex-direction: column;align-items: center;background-color: white;padding-right: 0.2em;padding-left: 0.2em;position: relative;}#sk-container-id-1 div.sk-item {position: relative;z-index: 1;}#sk-container-id-1 div.sk-parallel {display: flex;align-items: stretch;justify-content: center;background-color: white;position: relative;}#sk-container-id-1 div.sk-item::before, #sk-container-id-1 div.sk-parallel-item::before {content: \"\";position: absolute;border-left: 1px solid gray;box-sizing: border-box;top: 0;bottom: 0;left: 50%;z-index: -1;}#sk-container-id-1 div.sk-parallel-item {display: flex;flex-direction: column;z-index: 1;position: relative;background-color: white;}#sk-container-id-1 div.sk-parallel-item:first-child::after {align-self: flex-end;width: 50%;}#sk-container-id-1 div.sk-parallel-item:last-child::after {align-self: flex-start;width: 50%;}#sk-container-id-1 div.sk-parallel-item:only-child::after {width: 0;}#sk-container-id-1 div.sk-dashed-wrapped {border: 1px dashed gray;margin: 0 0.4em 0.5em 0.4em;box-sizing: border-box;padding-bottom: 0.4em;background-color: white;}#sk-container-id-1 div.sk-label label {font-family: monospace;font-weight: bold;display: inline-block;line-height: 1.2em;}#sk-container-id-1 div.sk-label-container {text-align: center;}#sk-container-id-1 div.sk-container {/* jupyter's `normalize.less` sets `[hidden] { display: none; }` but bootstrap.min.css set `[hidden] { display: none !important; }` so we also need the `!important` here to be able to override the default hidden behavior on the sphinx rendered scikit-learn.org. See: https://github.com/scikit-learn/scikit-learn/issues/21755 */display: inline-block !important;position: relative;}#sk-container-id-1 div.sk-text-repr-fallback {display: none;}</style><div id=\"sk-container-id-1\" class=\"sk-top-container\"><div class=\"sk-text-repr-fallback\"><pre>Pipeline(steps=[(&#x27;standardscaler&#x27;, StandardScaler()),\n",
       "                (&#x27;linearregression&#x27;, LinearRegression())])</pre><b>In a Jupyter environment, please rerun this cell to show the HTML representation or trust the notebook. <br />On GitHub, the HTML representation is unable to render, please try loading this page with nbviewer.org.</b></div><div class=\"sk-container\" hidden><div class=\"sk-item sk-dashed-wrapped\"><div class=\"sk-label-container\"><div class=\"sk-label sk-toggleable\"><input class=\"sk-toggleable__control sk-hidden--visually\" id=\"sk-estimator-id-1\" type=\"checkbox\" ><label for=\"sk-estimator-id-1\" class=\"sk-toggleable__label sk-toggleable__label-arrow\">Pipeline</label><div class=\"sk-toggleable__content\"><pre>Pipeline(steps=[(&#x27;standardscaler&#x27;, StandardScaler()),\n",
       "                (&#x27;linearregression&#x27;, LinearRegression())])</pre></div></div></div><div class=\"sk-serial\"><div class=\"sk-item\"><div class=\"sk-estimator sk-toggleable\"><input class=\"sk-toggleable__control sk-hidden--visually\" id=\"sk-estimator-id-2\" type=\"checkbox\" ><label for=\"sk-estimator-id-2\" class=\"sk-toggleable__label sk-toggleable__label-arrow\">StandardScaler</label><div class=\"sk-toggleable__content\"><pre>StandardScaler()</pre></div></div></div><div class=\"sk-item\"><div class=\"sk-estimator sk-toggleable\"><input class=\"sk-toggleable__control sk-hidden--visually\" id=\"sk-estimator-id-3\" type=\"checkbox\" ><label for=\"sk-estimator-id-3\" class=\"sk-toggleable__label sk-toggleable__label-arrow\">LinearRegression</label><div class=\"sk-toggleable__content\"><pre>LinearRegression()</pre></div></div></div></div></div></div></div>"
      ],
      "text/plain": [
       "Pipeline(steps=[('standardscaler', StandardScaler()),\n",
       "                ('linearregression', LinearRegression())])"
      ]
     },
     "execution_count": 157,
     "metadata": {},
     "output_type": "execute_result"
    }
   ],
   "source": [
    "reg_LR.fit(X_train, y_train)"
   ]
  },
  {
   "cell_type": "code",
   "execution_count": 158,
   "metadata": {},
   "outputs": [
    {
     "data": {
      "text/html": [
       "<style>#sk-container-id-2 {color: black;background-color: white;}#sk-container-id-2 pre{padding: 0;}#sk-container-id-2 div.sk-toggleable {background-color: white;}#sk-container-id-2 label.sk-toggleable__label {cursor: pointer;display: block;width: 100%;margin-bottom: 0;padding: 0.3em;box-sizing: border-box;text-align: center;}#sk-container-id-2 label.sk-toggleable__label-arrow:before {content: \"▸\";float: left;margin-right: 0.25em;color: #696969;}#sk-container-id-2 label.sk-toggleable__label-arrow:hover:before {color: black;}#sk-container-id-2 div.sk-estimator:hover label.sk-toggleable__label-arrow:before {color: black;}#sk-container-id-2 div.sk-toggleable__content {max-height: 0;max-width: 0;overflow: hidden;text-align: left;background-color: #f0f8ff;}#sk-container-id-2 div.sk-toggleable__content pre {margin: 0.2em;color: black;border-radius: 0.25em;background-color: #f0f8ff;}#sk-container-id-2 input.sk-toggleable__control:checked~div.sk-toggleable__content {max-height: 200px;max-width: 100%;overflow: auto;}#sk-container-id-2 input.sk-toggleable__control:checked~label.sk-toggleable__label-arrow:before {content: \"▾\";}#sk-container-id-2 div.sk-estimator input.sk-toggleable__control:checked~label.sk-toggleable__label {background-color: #d4ebff;}#sk-container-id-2 div.sk-label input.sk-toggleable__control:checked~label.sk-toggleable__label {background-color: #d4ebff;}#sk-container-id-2 input.sk-hidden--visually {border: 0;clip: rect(1px 1px 1px 1px);clip: rect(1px, 1px, 1px, 1px);height: 1px;margin: -1px;overflow: hidden;padding: 0;position: absolute;width: 1px;}#sk-container-id-2 div.sk-estimator {font-family: monospace;background-color: #f0f8ff;border: 1px dotted black;border-radius: 0.25em;box-sizing: border-box;margin-bottom: 0.5em;}#sk-container-id-2 div.sk-estimator:hover {background-color: #d4ebff;}#sk-container-id-2 div.sk-parallel-item::after {content: \"\";width: 100%;border-bottom: 1px solid gray;flex-grow: 1;}#sk-container-id-2 div.sk-label:hover label.sk-toggleable__label {background-color: #d4ebff;}#sk-container-id-2 div.sk-serial::before {content: \"\";position: absolute;border-left: 1px solid gray;box-sizing: border-box;top: 0;bottom: 0;left: 50%;z-index: 0;}#sk-container-id-2 div.sk-serial {display: flex;flex-direction: column;align-items: center;background-color: white;padding-right: 0.2em;padding-left: 0.2em;position: relative;}#sk-container-id-2 div.sk-item {position: relative;z-index: 1;}#sk-container-id-2 div.sk-parallel {display: flex;align-items: stretch;justify-content: center;background-color: white;position: relative;}#sk-container-id-2 div.sk-item::before, #sk-container-id-2 div.sk-parallel-item::before {content: \"\";position: absolute;border-left: 1px solid gray;box-sizing: border-box;top: 0;bottom: 0;left: 50%;z-index: -1;}#sk-container-id-2 div.sk-parallel-item {display: flex;flex-direction: column;z-index: 1;position: relative;background-color: white;}#sk-container-id-2 div.sk-parallel-item:first-child::after {align-self: flex-end;width: 50%;}#sk-container-id-2 div.sk-parallel-item:last-child::after {align-self: flex-start;width: 50%;}#sk-container-id-2 div.sk-parallel-item:only-child::after {width: 0;}#sk-container-id-2 div.sk-dashed-wrapped {border: 1px dashed gray;margin: 0 0.4em 0.5em 0.4em;box-sizing: border-box;padding-bottom: 0.4em;background-color: white;}#sk-container-id-2 div.sk-label label {font-family: monospace;font-weight: bold;display: inline-block;line-height: 1.2em;}#sk-container-id-2 div.sk-label-container {text-align: center;}#sk-container-id-2 div.sk-container {/* jupyter's `normalize.less` sets `[hidden] { display: none; }` but bootstrap.min.css set `[hidden] { display: none !important; }` so we also need the `!important` here to be able to override the default hidden behavior on the sphinx rendered scikit-learn.org. See: https://github.com/scikit-learn/scikit-learn/issues/21755 */display: inline-block !important;position: relative;}#sk-container-id-2 div.sk-text-repr-fallback {display: none;}</style><div id=\"sk-container-id-2\" class=\"sk-top-container\"><div class=\"sk-text-repr-fallback\"><pre>Pipeline(steps=[(&#x27;standardscaler&#x27;, StandardScaler()),\n",
       "                (&#x27;svr&#x27;, SVR(C=0.5, gamma=0.1))])</pre><b>In a Jupyter environment, please rerun this cell to show the HTML representation or trust the notebook. <br />On GitHub, the HTML representation is unable to render, please try loading this page with nbviewer.org.</b></div><div class=\"sk-container\" hidden><div class=\"sk-item sk-dashed-wrapped\"><div class=\"sk-label-container\"><div class=\"sk-label sk-toggleable\"><input class=\"sk-toggleable__control sk-hidden--visually\" id=\"sk-estimator-id-4\" type=\"checkbox\" ><label for=\"sk-estimator-id-4\" class=\"sk-toggleable__label sk-toggleable__label-arrow\">Pipeline</label><div class=\"sk-toggleable__content\"><pre>Pipeline(steps=[(&#x27;standardscaler&#x27;, StandardScaler()),\n",
       "                (&#x27;svr&#x27;, SVR(C=0.5, gamma=0.1))])</pre></div></div></div><div class=\"sk-serial\"><div class=\"sk-item\"><div class=\"sk-estimator sk-toggleable\"><input class=\"sk-toggleable__control sk-hidden--visually\" id=\"sk-estimator-id-5\" type=\"checkbox\" ><label for=\"sk-estimator-id-5\" class=\"sk-toggleable__label sk-toggleable__label-arrow\">StandardScaler</label><div class=\"sk-toggleable__content\"><pre>StandardScaler()</pre></div></div></div><div class=\"sk-item\"><div class=\"sk-estimator sk-toggleable\"><input class=\"sk-toggleable__control sk-hidden--visually\" id=\"sk-estimator-id-6\" type=\"checkbox\" ><label for=\"sk-estimator-id-6\" class=\"sk-toggleable__label sk-toggleable__label-arrow\">SVR</label><div class=\"sk-toggleable__content\"><pre>SVR(C=0.5, gamma=0.1)</pre></div></div></div></div></div></div></div>"
      ],
      "text/plain": [
       "Pipeline(steps=[('standardscaler', StandardScaler()),\n",
       "                ('svr', SVR(C=0.5, gamma=0.1))])"
      ]
     },
     "execution_count": 158,
     "metadata": {},
     "output_type": "execute_result"
    }
   ],
   "source": [
    "reg_SVR.fit(X_train, y_train)"
   ]
  },
  {
   "cell_type": "code",
   "execution_count": 159,
   "metadata": {},
   "outputs": [
    {
     "data": {
      "text/html": [
       "<style>#sk-container-id-3 {color: black;background-color: white;}#sk-container-id-3 pre{padding: 0;}#sk-container-id-3 div.sk-toggleable {background-color: white;}#sk-container-id-3 label.sk-toggleable__label {cursor: pointer;display: block;width: 100%;margin-bottom: 0;padding: 0.3em;box-sizing: border-box;text-align: center;}#sk-container-id-3 label.sk-toggleable__label-arrow:before {content: \"▸\";float: left;margin-right: 0.25em;color: #696969;}#sk-container-id-3 label.sk-toggleable__label-arrow:hover:before {color: black;}#sk-container-id-3 div.sk-estimator:hover label.sk-toggleable__label-arrow:before {color: black;}#sk-container-id-3 div.sk-toggleable__content {max-height: 0;max-width: 0;overflow: hidden;text-align: left;background-color: #f0f8ff;}#sk-container-id-3 div.sk-toggleable__content pre {margin: 0.2em;color: black;border-radius: 0.25em;background-color: #f0f8ff;}#sk-container-id-3 input.sk-toggleable__control:checked~div.sk-toggleable__content {max-height: 200px;max-width: 100%;overflow: auto;}#sk-container-id-3 input.sk-toggleable__control:checked~label.sk-toggleable__label-arrow:before {content: \"▾\";}#sk-container-id-3 div.sk-estimator input.sk-toggleable__control:checked~label.sk-toggleable__label {background-color: #d4ebff;}#sk-container-id-3 div.sk-label input.sk-toggleable__control:checked~label.sk-toggleable__label {background-color: #d4ebff;}#sk-container-id-3 input.sk-hidden--visually {border: 0;clip: rect(1px 1px 1px 1px);clip: rect(1px, 1px, 1px, 1px);height: 1px;margin: -1px;overflow: hidden;padding: 0;position: absolute;width: 1px;}#sk-container-id-3 div.sk-estimator {font-family: monospace;background-color: #f0f8ff;border: 1px dotted black;border-radius: 0.25em;box-sizing: border-box;margin-bottom: 0.5em;}#sk-container-id-3 div.sk-estimator:hover {background-color: #d4ebff;}#sk-container-id-3 div.sk-parallel-item::after {content: \"\";width: 100%;border-bottom: 1px solid gray;flex-grow: 1;}#sk-container-id-3 div.sk-label:hover label.sk-toggleable__label {background-color: #d4ebff;}#sk-container-id-3 div.sk-serial::before {content: \"\";position: absolute;border-left: 1px solid gray;box-sizing: border-box;top: 0;bottom: 0;left: 50%;z-index: 0;}#sk-container-id-3 div.sk-serial {display: flex;flex-direction: column;align-items: center;background-color: white;padding-right: 0.2em;padding-left: 0.2em;position: relative;}#sk-container-id-3 div.sk-item {position: relative;z-index: 1;}#sk-container-id-3 div.sk-parallel {display: flex;align-items: stretch;justify-content: center;background-color: white;position: relative;}#sk-container-id-3 div.sk-item::before, #sk-container-id-3 div.sk-parallel-item::before {content: \"\";position: absolute;border-left: 1px solid gray;box-sizing: border-box;top: 0;bottom: 0;left: 50%;z-index: -1;}#sk-container-id-3 div.sk-parallel-item {display: flex;flex-direction: column;z-index: 1;position: relative;background-color: white;}#sk-container-id-3 div.sk-parallel-item:first-child::after {align-self: flex-end;width: 50%;}#sk-container-id-3 div.sk-parallel-item:last-child::after {align-self: flex-start;width: 50%;}#sk-container-id-3 div.sk-parallel-item:only-child::after {width: 0;}#sk-container-id-3 div.sk-dashed-wrapped {border: 1px dashed gray;margin: 0 0.4em 0.5em 0.4em;box-sizing: border-box;padding-bottom: 0.4em;background-color: white;}#sk-container-id-3 div.sk-label label {font-family: monospace;font-weight: bold;display: inline-block;line-height: 1.2em;}#sk-container-id-3 div.sk-label-container {text-align: center;}#sk-container-id-3 div.sk-container {/* jupyter's `normalize.less` sets `[hidden] { display: none; }` but bootstrap.min.css set `[hidden] { display: none !important; }` so we also need the `!important` here to be able to override the default hidden behavior on the sphinx rendered scikit-learn.org. See: https://github.com/scikit-learn/scikit-learn/issues/21755 */display: inline-block !important;position: relative;}#sk-container-id-3 div.sk-text-repr-fallback {display: none;}</style><div id=\"sk-container-id-3\" class=\"sk-top-container\"><div class=\"sk-text-repr-fallback\"><pre>Pipeline(steps=[(&#x27;standardscaler&#x27;, StandardScaler()),\n",
       "                (&#x27;mlpregressor&#x27;, MLPRegressor(max_iter=500, random_state=1))])</pre><b>In a Jupyter environment, please rerun this cell to show the HTML representation or trust the notebook. <br />On GitHub, the HTML representation is unable to render, please try loading this page with nbviewer.org.</b></div><div class=\"sk-container\" hidden><div class=\"sk-item sk-dashed-wrapped\"><div class=\"sk-label-container\"><div class=\"sk-label sk-toggleable\"><input class=\"sk-toggleable__control sk-hidden--visually\" id=\"sk-estimator-id-7\" type=\"checkbox\" ><label for=\"sk-estimator-id-7\" class=\"sk-toggleable__label sk-toggleable__label-arrow\">Pipeline</label><div class=\"sk-toggleable__content\"><pre>Pipeline(steps=[(&#x27;standardscaler&#x27;, StandardScaler()),\n",
       "                (&#x27;mlpregressor&#x27;, MLPRegressor(max_iter=500, random_state=1))])</pre></div></div></div><div class=\"sk-serial\"><div class=\"sk-item\"><div class=\"sk-estimator sk-toggleable\"><input class=\"sk-toggleable__control sk-hidden--visually\" id=\"sk-estimator-id-8\" type=\"checkbox\" ><label for=\"sk-estimator-id-8\" class=\"sk-toggleable__label sk-toggleable__label-arrow\">StandardScaler</label><div class=\"sk-toggleable__content\"><pre>StandardScaler()</pre></div></div></div><div class=\"sk-item\"><div class=\"sk-estimator sk-toggleable\"><input class=\"sk-toggleable__control sk-hidden--visually\" id=\"sk-estimator-id-9\" type=\"checkbox\" ><label for=\"sk-estimator-id-9\" class=\"sk-toggleable__label sk-toggleable__label-arrow\">MLPRegressor</label><div class=\"sk-toggleable__content\"><pre>MLPRegressor(max_iter=500, random_state=1)</pre></div></div></div></div></div></div></div>"
      ],
      "text/plain": [
       "Pipeline(steps=[('standardscaler', StandardScaler()),\n",
       "                ('mlpregressor', MLPRegressor(max_iter=500, random_state=1))])"
      ]
     },
     "execution_count": 159,
     "metadata": {},
     "output_type": "execute_result"
    }
   ],
   "source": [
    "reg_MLPR.fit(X_train, y_train)"
   ]
  },
  {
   "cell_type": "code",
   "execution_count": 160,
   "metadata": {},
   "outputs": [],
   "source": [
    "save_model(reg_LR, 'LR')\n",
    "save_model(reg_SVR, 'SVR')\n",
    "save_model(reg_MLPR, 'MLPR')"
   ]
  },
  {
   "cell_type": "markdown",
   "metadata": {},
   "source": [
    "### Evaluating"
   ]
  },
  {
   "cell_type": "markdown",
   "metadata": {},
   "source": [
    "Ở đây nhóm em sử dụng 3 độ đo : MAE , MSE , R2"
   ]
  },
  {
   "cell_type": "code",
   "execution_count": 161,
   "metadata": {},
   "outputs": [],
   "source": [
    "from sklearn.metrics import mean_absolute_error as MAE\n",
    "from sklearn.metrics import mean_squared_error as MSE\n",
    "from sklearn.metrics import r2_score as R2"
   ]
  },
  {
   "cell_type": "code",
   "execution_count": 162,
   "metadata": {},
   "outputs": [],
   "source": [
    "def scoreModel(y_true, y_pre):\n",
    "  \"\"\"\n",
    "  Parameters: y_true: , y_pre: predicted values\n",
    "  Returns: MAE, MSE, R2 metric \n",
    "  \"\"\"\n",
    "  MAE_score = MAE(y_true, y_pre)\n",
    "  MSE_score = MSE(y_true, y_pre)\n",
    "  R2_score = R2(y_true, y_pre)\n",
    "  print('MAE: ', MAE_score, '\\n' +\n",
    "      'MSE: ', MSE_score, '\\n' +\n",
    "      'R2: ', R2_score, '\\n')\n",
    "  return MAE_score, MSE_score, R2_score"
   ]
  },
  {
   "cell_type": "markdown",
   "metadata": {},
   "source": [
    "#### Train set"
   ]
  },
  {
   "cell_type": "code",
   "execution_count": 163,
   "metadata": {},
   "outputs": [],
   "source": [
    "def getResult(X, y):\n",
    "  y_pre_LR = reg_LR.predict(X)\n",
    "  y_pre_SVR = reg_SVR.predict(X)\n",
    "  y_pre_MLPR = reg_MLPR.predict(X)\n",
    "  LR = scoreModel(y, y_pre_LR)\n",
    "  SVR = scoreModel(y, y_pre_SVR)\n",
    "  MLPR = scoreModel(y, y_pre_MLPR)\n",
    "  result_table = pd.DataFrame([['Linear Regression'] + list(LR),\n",
    "                ['Support Vector Regression (C=0.5, gamma=0.1)'] + list(SVR),\n",
    "                ['Multi-Layer Perceptron Regressor (Neural Network)'] + list(MLPR)], columns=['Model', 'MAE', 'MSE', 'R2'])\n",
    "  return result_table\n",
    "      "
   ]
  },
  {
   "cell_type": "code",
   "execution_count": 164,
   "metadata": {},
   "outputs": [
    {
     "name": "stdout",
     "output_type": "stream",
     "text": [
      "MAE:  0.22164925103603664 \n",
      "MSE:  0.08652249539483761 \n",
      "R2:  0.09241682043643562 \n",
      "\n",
      "MAE:  0.2079064584337549 \n",
      "MSE:  0.0778734895206409 \n",
      "R2:  0.18314111376091768 \n",
      "\n",
      "MAE:  0.21247522042023637 \n",
      "MSE:  0.07898114234925786 \n",
      "R2:  0.17152231946399854 \n",
      "\n"
     ]
    },
    {
     "data": {
      "text/html": [
       "<div>\n",
       "<style scoped>\n",
       "    .dataframe tbody tr th:only-of-type {\n",
       "        vertical-align: middle;\n",
       "    }\n",
       "\n",
       "    .dataframe tbody tr th {\n",
       "        vertical-align: top;\n",
       "    }\n",
       "\n",
       "    .dataframe thead th {\n",
       "        text-align: right;\n",
       "    }\n",
       "</style>\n",
       "<table border=\"1\" class=\"dataframe\">\n",
       "  <thead>\n",
       "    <tr style=\"text-align: right;\">\n",
       "      <th></th>\n",
       "      <th>Model</th>\n",
       "      <th>MAE</th>\n",
       "      <th>MSE</th>\n",
       "      <th>R2</th>\n",
       "    </tr>\n",
       "  </thead>\n",
       "  <tbody>\n",
       "    <tr>\n",
       "      <th>0</th>\n",
       "      <td>Linear Regression</td>\n",
       "      <td>0.221649</td>\n",
       "      <td>0.086522</td>\n",
       "      <td>0.092417</td>\n",
       "    </tr>\n",
       "    <tr>\n",
       "      <th>1</th>\n",
       "      <td>Support Vector Regression (C=0.5, gamma=0.1)</td>\n",
       "      <td>0.207906</td>\n",
       "      <td>0.077873</td>\n",
       "      <td>0.183141</td>\n",
       "    </tr>\n",
       "    <tr>\n",
       "      <th>2</th>\n",
       "      <td>Multi-Layer Perceptron Regressor (Neural Network)</td>\n",
       "      <td>0.212475</td>\n",
       "      <td>0.078981</td>\n",
       "      <td>0.171522</td>\n",
       "    </tr>\n",
       "  </tbody>\n",
       "</table>\n",
       "</div>"
      ],
      "text/plain": [
       "                                               Model       MAE       MSE  \\\n",
       "0                                  Linear Regression  0.221649  0.086522   \n",
       "1       Support Vector Regression (C=0.5, gamma=0.1)  0.207906  0.077873   \n",
       "2  Multi-Layer Perceptron Regressor (Neural Network)  0.212475  0.078981   \n",
       "\n",
       "         R2  \n",
       "0  0.092417  \n",
       "1  0.183141  \n",
       "2  0.171522  "
      ]
     },
     "execution_count": 164,
     "metadata": {},
     "output_type": "execute_result"
    }
   ],
   "source": [
    "getResult(X_train, y_train)"
   ]
  },
  {
   "cell_type": "markdown",
   "metadata": {},
   "source": [
    "#### Test set"
   ]
  },
  {
   "cell_type": "code",
   "execution_count": 165,
   "metadata": {},
   "outputs": [
    {
     "name": "stdout",
     "output_type": "stream",
     "text": [
      "MAE:  0.22278312350675328 \n",
      "MSE:  0.08605280687647707 \n",
      "R2:  0.10677696264914127 \n",
      "\n",
      "MAE:  0.21373077329145956 \n",
      "MSE:  0.08044256009591491 \n",
      "R2:  0.16501099186349144 \n",
      "\n",
      "MAE:  0.21679962116374002 \n",
      "MSE:  0.08108282718051507 \n",
      "R2:  0.15836505745668872 \n",
      "\n"
     ]
    },
    {
     "data": {
      "text/html": [
       "<div>\n",
       "<style scoped>\n",
       "    .dataframe tbody tr th:only-of-type {\n",
       "        vertical-align: middle;\n",
       "    }\n",
       "\n",
       "    .dataframe tbody tr th {\n",
       "        vertical-align: top;\n",
       "    }\n",
       "\n",
       "    .dataframe thead th {\n",
       "        text-align: right;\n",
       "    }\n",
       "</style>\n",
       "<table border=\"1\" class=\"dataframe\">\n",
       "  <thead>\n",
       "    <tr style=\"text-align: right;\">\n",
       "      <th></th>\n",
       "      <th>Model</th>\n",
       "      <th>MAE</th>\n",
       "      <th>MSE</th>\n",
       "      <th>R2</th>\n",
       "    </tr>\n",
       "  </thead>\n",
       "  <tbody>\n",
       "    <tr>\n",
       "      <th>0</th>\n",
       "      <td>Linear Regression</td>\n",
       "      <td>0.222783</td>\n",
       "      <td>0.086053</td>\n",
       "      <td>0.106777</td>\n",
       "    </tr>\n",
       "    <tr>\n",
       "      <th>1</th>\n",
       "      <td>Support Vector Regression (C=0.5, gamma=0.1)</td>\n",
       "      <td>0.213731</td>\n",
       "      <td>0.080443</td>\n",
       "      <td>0.165011</td>\n",
       "    </tr>\n",
       "    <tr>\n",
       "      <th>2</th>\n",
       "      <td>Multi-Layer Perceptron Regressor (Neural Network)</td>\n",
       "      <td>0.216800</td>\n",
       "      <td>0.081083</td>\n",
       "      <td>0.158365</td>\n",
       "    </tr>\n",
       "  </tbody>\n",
       "</table>\n",
       "</div>"
      ],
      "text/plain": [
       "                                               Model       MAE       MSE  \\\n",
       "0                                  Linear Regression  0.222783  0.086053   \n",
       "1       Support Vector Regression (C=0.5, gamma=0.1)  0.213731  0.080443   \n",
       "2  Multi-Layer Perceptron Regressor (Neural Network)  0.216800  0.081083   \n",
       "\n",
       "         R2  \n",
       "0  0.106777  \n",
       "1  0.165011  \n",
       "2  0.158365  "
      ]
     },
     "execution_count": 165,
     "metadata": {},
     "output_type": "execute_result"
    }
   ],
   "source": [
    "getResult(X_valid, y_valid)"
   ]
  },
  {
   "cell_type": "markdown",
   "metadata": {},
   "source": [
    "**Nhận xét** : Có thể thấy trong 3 độ đo thì Support Vector Regression (C=0.5, gamma=0.1) cho ra kết quả tốt nhất. Nên mình sẽ dùng model này để chạy và in ra file dự đoán cho kết quả bài toán"
   ]
  },
  {
   "cell_type": "code",
   "execution_count": 166,
   "metadata": {},
   "outputs": [],
   "source": [
    "predict= reg_SVR.predict(X_valid)"
   ]
  },
  {
   "cell_type": "code",
   "execution_count": 167,
   "metadata": {},
   "outputs": [],
   "source": [
    "frame = pd.DataFrame( {'Predict' : predict,\n",
    "                       'Rating' : y_valid\n",
    "                      }\n",
    "                    )"
   ]
  },
  {
   "cell_type": "code",
   "execution_count": 168,
   "metadata": {},
   "outputs": [],
   "source": [
    "frame.to_csv('predict.csv')"
   ]
  },
  {
   "cell_type": "code",
   "execution_count": null,
   "metadata": {},
   "outputs": [],
   "source": []
  }
 ],
 "metadata": {
  "kernelspec": {
   "display_name": "Python 3.10.6 64-bit",
   "language": "python",
   "name": "python3"
  },
  "language_info": {
   "codemirror_mode": {
    "name": "ipython",
    "version": 3
   },
   "file_extension": ".py",
   "mimetype": "text/x-python",
   "name": "python",
   "nbconvert_exporter": "python",
   "pygments_lexer": "ipython3",
   "version": "3.10.6"
  },
  "vscode": {
   "interpreter": {
    "hash": "916dbcbb3f70747c44a77c7bcd40155683ae19c65e1c03b4aa3499c5328201f1"
   }
  }
 },
 "nbformat": 4,
 "nbformat_minor": 4
}
